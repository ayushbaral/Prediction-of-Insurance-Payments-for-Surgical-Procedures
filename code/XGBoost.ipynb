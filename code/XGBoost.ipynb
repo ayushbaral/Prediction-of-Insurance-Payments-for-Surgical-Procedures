{
  "cells": [
    {
      "cell_type": "markdown",
      "source": [
        "### Importing packages"
      ],
      "metadata": {
        "id": "4UZqWEiyE4aQ"
      }
    },
    {
      "cell_type": "code",
      "execution_count": null,
      "metadata": {
        "id": "KlgyBCGoGtBH"
      },
      "outputs": [],
      "source": [
        "import csv\n",
        "import pandas as pd\n",
        "from sklearn.model_selection import train_test_split\n",
        "from sklearn.compose import make_column_transformer\n",
        "from sklearn.preprocessing import StandardScaler\n",
        "#from category_encoders import TargetEncoder\n",
        "from sklearn.preprocessing import OneHotEncoder\n",
        "from sklearn.tree import DecisionTreeClassifier\n",
        "import sklearn\n",
        "from sklearn import tree\n",
        "import matplotlib.pyplot as plt\n",
        "import seaborn as sns\n",
        "import time\n",
        "from datetime import timedelta\n",
        "from scipy.special import boxcox1p\n",
        "from scipy import stats\n",
        "import numpy as np\n",
        "import warnings\n",
        "warnings.simplefilter(action='ignore', category=FutureWarning)"
      ]
    },
    {
      "cell_type": "code",
      "execution_count": null,
      "metadata": {
        "colab": {
          "base_uri": "https://localhost:8080/"
        },
        "id": "Wb1TmnZ1DkeB",
        "outputId": "2738effc-2a02-444d-99c3-e8ca83e69e2c"
      },
      "outputs": [
        {
          "output_type": "stream",
          "name": "stdout",
          "text": [
            "Mounted at /content/drive\n"
          ]
        }
      ],
      "source": [
        "# mounting the drive to fetch data\n",
        "from google.colab import drive\n",
        "drive.mount('/content/drive')"
      ]
    },
    {
      "cell_type": "code",
      "execution_count": null,
      "metadata": {
        "id": "HgQmkDvDHx-x"
      },
      "outputs": [],
      "source": [
        "df = pd.read_csv('/content/drive/MyDrive/final_df.csv')"
      ]
    },
    {
      "cell_type": "code",
      "source": [
        "#latest_df = pd.read_excel('/content/drive/MyDrive/cost_discharge_physpec_ippct.xlsx')"
      ],
      "metadata": {
        "id": "HSSJNfAYR1ON"
      },
      "execution_count": null,
      "outputs": []
    },
    {
      "cell_type": "code",
      "source": [
        "#latest_df.head()"
      ],
      "metadata": {
        "id": "3FabDE6_TUna"
      },
      "execution_count": null,
      "outputs": []
    },
    {
      "cell_type": "code",
      "execution_count": null,
      "metadata": {
        "colab": {
          "base_uri": "https://localhost:8080/",
          "height": 421
        },
        "id": "obj5-JDcH4Jp",
        "outputId": "97511bdf-f035-4389-b094-b832e7dec0cc"
      },
      "outputs": [
        {
          "output_type": "execute_result",
          "data": {
            "text/plain": [
              "     msa  year       site                  group  priv_count  priv_pay_mean  \\\n",
              "0  10180  2018  Inpatient  breast reconstruction         NaN            NaN   \n",
              "1  10420  2018  Inpatient  breast reconstruction         8.0    19937.08375   \n",
              "2  10500  2018  Inpatient  breast reconstruction         NaN            NaN   \n",
              "3  10540  2018  Inpatient  breast reconstruction         NaN            NaN   \n",
              "4  10580  2018  Inpatient  breast reconstruction         4.0    14837.26000   \n",
              "\n",
              "   priv_pay_median  priv_pay_iqr  mcare_pay_mean  mcare_pay_median  ...  \\\n",
              "0              NaN           NaN             NaN               NaN  ...   \n",
              "1        16147.330       5692.86             NaN               NaN  ...   \n",
              "2              NaN           NaN             NaN               NaN  ...   \n",
              "3              NaN           NaN             NaN               NaN  ...   \n",
              "4        10420.675       4474.06             NaN               NaN  ...   \n",
              "\n",
              "   ownership_PRIVATE (FOR PROFIT)_mode_y  \\\n",
              "0                                    0.0   \n",
              "1                                    0.0   \n",
              "2                                    0.5   \n",
              "3                                    0.0   \n",
              "4                                    0.0   \n",
              "\n",
              "  ownership_PRIVATE (NOT FOR PROFIT)_mode_y ownership_STATE_mode_y  \\\n",
              "0                                       0.0                    0.0   \n",
              "1                                       0.0                    0.0   \n",
              "2                                       0.0                    0.0   \n",
              "3                                       0.5                    0.0   \n",
              "4                                       1.0                    0.0   \n",
              "\n",
              "   ownership_TRIBAL_mode_y  urban_rural_URBAN_mode_y  teaching_YES_mode_y  \\\n",
              "0                      0.0                       1.0                  0.0   \n",
              "1                      0.0                       1.0                  1.0   \n",
              "2                      0.0                       1.0                  0.0   \n",
              "3                      0.0                       1.0                  0.5   \n",
              "4                      0.0                       1.0                  0.0   \n",
              "\n",
              "   hospital_count  avg_income_2020  population_estimate_2020  Life Expectancy  \n",
              "0             8.0          47740.0                  173185.0        77.864183  \n",
              "1            11.0          53252.0                  701449.0        76.567472  \n",
              "2             4.0          45593.0                  145206.0        76.615437  \n",
              "3             2.0          42653.0                  131054.0        79.088550  \n",
              "4            17.0          58601.0                  878550.0        80.327023  \n",
              "\n",
              "[5 rows x 104 columns]"
            ],
            "text/html": [
              "\n",
              "  <div id=\"df-96798c13-bcd2-4914-a9c5-21228af62330\">\n",
              "    <div class=\"colab-df-container\">\n",
              "      <div>\n",
              "<style scoped>\n",
              "    .dataframe tbody tr th:only-of-type {\n",
              "        vertical-align: middle;\n",
              "    }\n",
              "\n",
              "    .dataframe tbody tr th {\n",
              "        vertical-align: top;\n",
              "    }\n",
              "\n",
              "    .dataframe thead th {\n",
              "        text-align: right;\n",
              "    }\n",
              "</style>\n",
              "<table border=\"1\" class=\"dataframe\">\n",
              "  <thead>\n",
              "    <tr style=\"text-align: right;\">\n",
              "      <th></th>\n",
              "      <th>msa</th>\n",
              "      <th>year</th>\n",
              "      <th>site</th>\n",
              "      <th>group</th>\n",
              "      <th>priv_count</th>\n",
              "      <th>priv_pay_mean</th>\n",
              "      <th>priv_pay_median</th>\n",
              "      <th>priv_pay_iqr</th>\n",
              "      <th>mcare_pay_mean</th>\n",
              "      <th>mcare_pay_median</th>\n",
              "      <th>...</th>\n",
              "      <th>ownership_PRIVATE (FOR PROFIT)_mode_y</th>\n",
              "      <th>ownership_PRIVATE (NOT FOR PROFIT)_mode_y</th>\n",
              "      <th>ownership_STATE_mode_y</th>\n",
              "      <th>ownership_TRIBAL_mode_y</th>\n",
              "      <th>urban_rural_URBAN_mode_y</th>\n",
              "      <th>teaching_YES_mode_y</th>\n",
              "      <th>hospital_count</th>\n",
              "      <th>avg_income_2020</th>\n",
              "      <th>population_estimate_2020</th>\n",
              "      <th>Life Expectancy</th>\n",
              "    </tr>\n",
              "  </thead>\n",
              "  <tbody>\n",
              "    <tr>\n",
              "      <th>0</th>\n",
              "      <td>10180</td>\n",
              "      <td>2018</td>\n",
              "      <td>Inpatient</td>\n",
              "      <td>breast reconstruction</td>\n",
              "      <td>NaN</td>\n",
              "      <td>NaN</td>\n",
              "      <td>NaN</td>\n",
              "      <td>NaN</td>\n",
              "      <td>NaN</td>\n",
              "      <td>NaN</td>\n",
              "      <td>...</td>\n",
              "      <td>0.0</td>\n",
              "      <td>0.0</td>\n",
              "      <td>0.0</td>\n",
              "      <td>0.0</td>\n",
              "      <td>1.0</td>\n",
              "      <td>0.0</td>\n",
              "      <td>8.0</td>\n",
              "      <td>47740.0</td>\n",
              "      <td>173185.0</td>\n",
              "      <td>77.864183</td>\n",
              "    </tr>\n",
              "    <tr>\n",
              "      <th>1</th>\n",
              "      <td>10420</td>\n",
              "      <td>2018</td>\n",
              "      <td>Inpatient</td>\n",
              "      <td>breast reconstruction</td>\n",
              "      <td>8.0</td>\n",
              "      <td>19937.08375</td>\n",
              "      <td>16147.330</td>\n",
              "      <td>5692.86</td>\n",
              "      <td>NaN</td>\n",
              "      <td>NaN</td>\n",
              "      <td>...</td>\n",
              "      <td>0.0</td>\n",
              "      <td>0.0</td>\n",
              "      <td>0.0</td>\n",
              "      <td>0.0</td>\n",
              "      <td>1.0</td>\n",
              "      <td>1.0</td>\n",
              "      <td>11.0</td>\n",
              "      <td>53252.0</td>\n",
              "      <td>701449.0</td>\n",
              "      <td>76.567472</td>\n",
              "    </tr>\n",
              "    <tr>\n",
              "      <th>2</th>\n",
              "      <td>10500</td>\n",
              "      <td>2018</td>\n",
              "      <td>Inpatient</td>\n",
              "      <td>breast reconstruction</td>\n",
              "      <td>NaN</td>\n",
              "      <td>NaN</td>\n",
              "      <td>NaN</td>\n",
              "      <td>NaN</td>\n",
              "      <td>NaN</td>\n",
              "      <td>NaN</td>\n",
              "      <td>...</td>\n",
              "      <td>0.5</td>\n",
              "      <td>0.0</td>\n",
              "      <td>0.0</td>\n",
              "      <td>0.0</td>\n",
              "      <td>1.0</td>\n",
              "      <td>0.0</td>\n",
              "      <td>4.0</td>\n",
              "      <td>45593.0</td>\n",
              "      <td>145206.0</td>\n",
              "      <td>76.615437</td>\n",
              "    </tr>\n",
              "    <tr>\n",
              "      <th>3</th>\n",
              "      <td>10540</td>\n",
              "      <td>2018</td>\n",
              "      <td>Inpatient</td>\n",
              "      <td>breast reconstruction</td>\n",
              "      <td>NaN</td>\n",
              "      <td>NaN</td>\n",
              "      <td>NaN</td>\n",
              "      <td>NaN</td>\n",
              "      <td>NaN</td>\n",
              "      <td>NaN</td>\n",
              "      <td>...</td>\n",
              "      <td>0.0</td>\n",
              "      <td>0.5</td>\n",
              "      <td>0.0</td>\n",
              "      <td>0.0</td>\n",
              "      <td>1.0</td>\n",
              "      <td>0.5</td>\n",
              "      <td>2.0</td>\n",
              "      <td>42653.0</td>\n",
              "      <td>131054.0</td>\n",
              "      <td>79.088550</td>\n",
              "    </tr>\n",
              "    <tr>\n",
              "      <th>4</th>\n",
              "      <td>10580</td>\n",
              "      <td>2018</td>\n",
              "      <td>Inpatient</td>\n",
              "      <td>breast reconstruction</td>\n",
              "      <td>4.0</td>\n",
              "      <td>14837.26000</td>\n",
              "      <td>10420.675</td>\n",
              "      <td>4474.06</td>\n",
              "      <td>NaN</td>\n",
              "      <td>NaN</td>\n",
              "      <td>...</td>\n",
              "      <td>0.0</td>\n",
              "      <td>1.0</td>\n",
              "      <td>0.0</td>\n",
              "      <td>0.0</td>\n",
              "      <td>1.0</td>\n",
              "      <td>0.0</td>\n",
              "      <td>17.0</td>\n",
              "      <td>58601.0</td>\n",
              "      <td>878550.0</td>\n",
              "      <td>80.327023</td>\n",
              "    </tr>\n",
              "  </tbody>\n",
              "</table>\n",
              "<p>5 rows × 104 columns</p>\n",
              "</div>\n",
              "      <button class=\"colab-df-convert\" onclick=\"convertToInteractive('df-96798c13-bcd2-4914-a9c5-21228af62330')\"\n",
              "              title=\"Convert this dataframe to an interactive table.\"\n",
              "              style=\"display:none;\">\n",
              "        \n",
              "  <svg xmlns=\"http://www.w3.org/2000/svg\" height=\"24px\"viewBox=\"0 0 24 24\"\n",
              "       width=\"24px\">\n",
              "    <path d=\"M0 0h24v24H0V0z\" fill=\"none\"/>\n",
              "    <path d=\"M18.56 5.44l.94 2.06.94-2.06 2.06-.94-2.06-.94-.94-2.06-.94 2.06-2.06.94zm-11 1L8.5 8.5l.94-2.06 2.06-.94-2.06-.94L8.5 2.5l-.94 2.06-2.06.94zm10 10l.94 2.06.94-2.06 2.06-.94-2.06-.94-.94-2.06-.94 2.06-2.06.94z\"/><path d=\"M17.41 7.96l-1.37-1.37c-.4-.4-.92-.59-1.43-.59-.52 0-1.04.2-1.43.59L10.3 9.45l-7.72 7.72c-.78.78-.78 2.05 0 2.83L4 21.41c.39.39.9.59 1.41.59.51 0 1.02-.2 1.41-.59l7.78-7.78 2.81-2.81c.8-.78.8-2.07 0-2.86zM5.41 20L4 18.59l7.72-7.72 1.47 1.35L5.41 20z\"/>\n",
              "  </svg>\n",
              "      </button>\n",
              "      \n",
              "  <style>\n",
              "    .colab-df-container {\n",
              "      display:flex;\n",
              "      flex-wrap:wrap;\n",
              "      gap: 12px;\n",
              "    }\n",
              "\n",
              "    .colab-df-convert {\n",
              "      background-color: #E8F0FE;\n",
              "      border: none;\n",
              "      border-radius: 50%;\n",
              "      cursor: pointer;\n",
              "      display: none;\n",
              "      fill: #1967D2;\n",
              "      height: 32px;\n",
              "      padding: 0 0 0 0;\n",
              "      width: 32px;\n",
              "    }\n",
              "\n",
              "    .colab-df-convert:hover {\n",
              "      background-color: #E2EBFA;\n",
              "      box-shadow: 0px 1px 2px rgba(60, 64, 67, 0.3), 0px 1px 3px 1px rgba(60, 64, 67, 0.15);\n",
              "      fill: #174EA6;\n",
              "    }\n",
              "\n",
              "    [theme=dark] .colab-df-convert {\n",
              "      background-color: #3B4455;\n",
              "      fill: #D2E3FC;\n",
              "    }\n",
              "\n",
              "    [theme=dark] .colab-df-convert:hover {\n",
              "      background-color: #434B5C;\n",
              "      box-shadow: 0px 1px 3px 1px rgba(0, 0, 0, 0.15);\n",
              "      filter: drop-shadow(0px 1px 2px rgba(0, 0, 0, 0.3));\n",
              "      fill: #FFFFFF;\n",
              "    }\n",
              "  </style>\n",
              "\n",
              "      <script>\n",
              "        const buttonEl =\n",
              "          document.querySelector('#df-96798c13-bcd2-4914-a9c5-21228af62330 button.colab-df-convert');\n",
              "        buttonEl.style.display =\n",
              "          google.colab.kernel.accessAllowed ? 'block' : 'none';\n",
              "\n",
              "        async function convertToInteractive(key) {\n",
              "          const element = document.querySelector('#df-96798c13-bcd2-4914-a9c5-21228af62330');\n",
              "          const dataTable =\n",
              "            await google.colab.kernel.invokeFunction('convertToInteractive',\n",
              "                                                     [key], {});\n",
              "          if (!dataTable) return;\n",
              "\n",
              "          const docLinkHtml = 'Like what you see? Visit the ' +\n",
              "            '<a target=\"_blank\" href=https://colab.research.google.com/notebooks/data_table.ipynb>data table notebook</a>'\n",
              "            + ' to learn more about interactive tables.';\n",
              "          element.innerHTML = '';\n",
              "          dataTable['output_type'] = 'display_data';\n",
              "          await google.colab.output.renderOutput(dataTable, element);\n",
              "          const docLink = document.createElement('div');\n",
              "          docLink.innerHTML = docLinkHtml;\n",
              "          element.appendChild(docLink);\n",
              "        }\n",
              "      </script>\n",
              "    </div>\n",
              "  </div>\n",
              "  "
            ]
          },
          "metadata": {},
          "execution_count": 7
        }
      ],
      "source": [
        "df.head()"
      ]
    },
    {
      "cell_type": "code",
      "source": [
        "#df = df.merge(latest_df, left_on = 'group', right_on = 'group')"
      ],
      "metadata": {
        "id": "fVPfcYGRTxTa"
      },
      "execution_count": null,
      "outputs": []
    },
    {
      "cell_type": "code",
      "execution_count": null,
      "metadata": {
        "colab": {
          "base_uri": "https://localhost:8080/",
          "height": 581
        },
        "id": "UQfSKLyCJrTQ",
        "outputId": "4e86fa3b-ceb9-442f-8b96-77e9ac1cd5fc"
      },
      "outputs": [
        {
          "output_type": "display_data",
          "data": {
            "text/plain": [
              "<Figure size 1800x720 with 1 Axes>"
            ],
            "image/png": "[encoded data removed]"
          },
          "metadata": {
            "needs_background": "light"
          }
        }
      ],
      "source": [
        "## finding features with missing values > 2.5%\n",
        "m = []\n",
        "idx = []\n",
        "x = []\n",
        "\n",
        "for id, i in enumerate(df.columns):\n",
        "  percent = df[i].isnull().sum()/len(df)\n",
        "  if percent > 0.025:\n",
        "    idx.append(id)\n",
        "    m.append(percent)\n",
        "\n",
        "for i in idx:\n",
        "  x.append(list(df.columns)[i])\n",
        "\n",
        "plt.figure(figsize=(25,10))\n",
        "plt.bar(x, m, color ='green', width = 0.5)\n",
        "plt.xlabel(\"features\")\n",
        "plt.ylabel(\"Missing %\")\n",
        "plt.title(\"Plot of missing %\")\n",
        "plt.show()"
      ]
    },
    {
      "cell_type": "code",
      "execution_count": null,
      "metadata": {
        "colab": {
          "base_uri": "https://localhost:8080/"
        },
        "id": "6RKLMkL3KYB1",
        "outputId": "d13b649f-c38c-4ff3-ba5f-83c09a97650c"
      },
      "outputs": [
        {
          "output_type": "stream",
          "name": "stdout",
          "text": [
            "msa\n",
            "year\n",
            "site\n",
            "group\n",
            "priv_count\n",
            "priv_pay_mean\n",
            "priv_pay_median\n",
            "priv_pay_iqr\n",
            "mcare_pay_mean\n",
            "mcare_pay_median\n",
            "mcare_pay_sd\n",
            "CBSA_NAME\n",
            "State\n",
            "FIPS State Code\n",
            "lon\n",
            "lat\n",
            "beds_grp_mean\n",
            "Covid_payment_mean\n",
            "beds_grp_greater_500_mean\n",
            "ownership_FEDERAL_mean\n",
            "ownership_HOSPITAL DISTRICT OR AUTHORITY_mean\n",
            "ownership_LOCAL_mean\n",
            "ownership_OTHER (SPECIFY)_mean\n",
            "ownership_PHYSICIAN OWNERSHIP_mean\n",
            "ownership_PRIVATE (FOR PROFIT)_mean\n",
            "ownership_PRIVATE (NOT FOR PROFIT)_mean\n",
            "ownership_STATE_mean\n",
            "ownership_TRIBAL_mean\n",
            "urban_rural_URBAN_mean\n",
            "teaching_YES_mean\n",
            "beds_grp_count\n",
            "Covid_payment_count\n",
            "beds_grp_greater_500_count\n",
            "ownership_FEDERAL_count\n",
            "ownership_HOSPITAL DISTRICT OR AUTHORITY_count\n",
            "ownership_LOCAL_count\n",
            "ownership_OTHER (SPECIFY)_count\n",
            "ownership_PHYSICIAN OWNERSHIP_count\n",
            "ownership_PRIVATE (FOR PROFIT)_count\n",
            "ownership_PRIVATE (NOT FOR PROFIT)_count\n",
            "ownership_STATE_count\n",
            "ownership_TRIBAL_count\n",
            "urban_rural_URBAN_count\n",
            "teaching_YES_count\n",
            "beds_grp_exists\n",
            "Covid_payment_exists\n",
            "beds_grp_greater_500_exists\n",
            "ownership_FEDERAL_exists\n",
            "ownership_HOSPITAL DISTRICT OR AUTHORITY_exists\n",
            "ownership_LOCAL_exists\n",
            "ownership_OTHER (SPECIFY)_exists\n",
            "ownership_PHYSICIAN OWNERSHIP_exists\n",
            "ownership_PRIVATE (FOR PROFIT)_exists\n",
            "ownership_PRIVATE (NOT FOR PROFIT)_exists\n",
            "ownership_STATE_exists\n",
            "ownership_TRIBAL_exists\n",
            "urban_rural_URBAN_exists\n",
            "teaching_YES_exists\n",
            "beds_grp_median\n",
            "Covid_payment_median\n",
            "beds_grp_greater_500_median\n",
            "ownership_FEDERAL_median\n",
            "ownership_HOSPITAL DISTRICT OR AUTHORITY_median\n",
            "ownership_LOCAL_median\n",
            "ownership_OTHER (SPECIFY)_median\n",
            "ownership_PHYSICIAN OWNERSHIP_median\n",
            "ownership_PRIVATE (FOR PROFIT)_median\n",
            "ownership_PRIVATE (NOT FOR PROFIT)_median\n",
            "ownership_STATE_median\n",
            "ownership_TRIBAL_median\n",
            "urban_rural_URBAN_median\n",
            "teaching_YES_median\n",
            "beds_grp_mode_x\n",
            "Covid_payment_mode_x\n",
            "beds_grp_greater_500_mode_x\n",
            "ownership_FEDERAL_mode_x\n",
            "ownership_HOSPITAL DISTRICT OR AUTHORITY_mode_x\n",
            "ownership_LOCAL_mode_x\n",
            "ownership_OTHER (SPECIFY)_mode_x\n",
            "ownership_PHYSICIAN OWNERSHIP_mode_x\n",
            "ownership_PRIVATE (FOR PROFIT)_mode_x\n",
            "ownership_PRIVATE (NOT FOR PROFIT)_mode_x\n",
            "ownership_STATE_mode_x\n",
            "ownership_TRIBAL_mode_x\n",
            "urban_rural_URBAN_mode_x\n",
            "teaching_YES_mode_x\n",
            "beds_grp_mode_y\n",
            "Covid_payment_mode_y\n",
            "beds_grp_greater_500_mode_y\n",
            "ownership_FEDERAL_mode_y\n",
            "ownership_HOSPITAL DISTRICT OR AUTHORITY_mode_y\n",
            "ownership_LOCAL_mode_y\n",
            "ownership_OTHER (SPECIFY)_mode_y\n",
            "ownership_PHYSICIAN OWNERSHIP_mode_y\n",
            "ownership_PRIVATE (FOR PROFIT)_mode_y\n",
            "ownership_PRIVATE (NOT FOR PROFIT)_mode_y\n",
            "ownership_STATE_mode_y\n",
            "ownership_TRIBAL_mode_y\n",
            "urban_rural_URBAN_mode_y\n",
            "teaching_YES_mode_y\n",
            "hospital_count\n",
            "avg_income_2020\n",
            "population_estimate_2020\n",
            "Life Expectancy\n"
          ]
        }
      ],
      "source": [
        "for i in df.columns:\n",
        "  print(i)"
      ]
    },
    {
      "cell_type": "code",
      "execution_count": null,
      "metadata": {
        "id": "bcZiu6m3GKGY"
      },
      "outputs": [],
      "source": [
        "import pandas as pd\n",
        "import requests\n",
        "from bs4 import BeautifulSoup\n",
        "import plotly.express as px"
      ]
    },
    {
      "cell_type": "code",
      "execution_count": null,
      "metadata": {
        "id": "E9pQCejlJZmj"
      },
      "outputs": [],
      "source": [
        "## function to plot choropleth for different features\n",
        "def plot_choropleth(df, i):\n",
        "  state_code = pd.read_csv('/content/drive/MyDrive/us-state-ansi-fips.csv')\n",
        "  df1 = df.groupby(by = 'FIPS State Code')[i].mean()\n",
        "  a = state_code.merge(df1.to_frame(), left_on = ' st', right_on= 'FIPS State Code')\n",
        "  a[' stusps'] = a[' stusps'].apply(lambda x: x.lstrip())\n",
        "\n",
        "  fig = px.choropleth(a,\n",
        "                    locations=' stusps',\n",
        "                    color=i,\n",
        "                    color_continuous_scale='spectral_r',\n",
        "                    hover_name='stname',\n",
        "                    locationmode='USA-states',\n",
        "                    scope='usa')\n",
        "\n",
        "  fig.show()"
      ]
    },
    {
      "cell_type": "code",
      "execution_count": null,
      "metadata": {
        "id": "lfFPYqlIKHhh",
        "colab": {
          "base_uri": "https://localhost:8080/",
          "height": 542
        },
        "outputId": "2f30e184-88dd-4cf7-fa6c-9fc99ae19294"
      },
      "outputs": [
        {
          "output_type": "display_data",
          "data": {
            "text/html": [
              "<html>\n",
              "<head><meta charset=\"utf-8\" /></head>\n",
              "<body>\n",
              "    <div>            <script src=\"https://cdnjs.cloudflare.com/ajax/libs/mathjax/2.7.5/MathJax.js?config=TeX-AMS-MML_SVG\"></script><script type=\"text/javascript\">if (window.MathJax) {MathJax.Hub.Config({SVG: {font: \"STIX-Web\"}});}</script>                <script type=\"text/javascript\">window.PlotlyConfig = {MathJaxConfig: 'local'};</script>\n",
              "        <script src=\"https://cdn.plot.ly/plotly-2.8.3.min.js\"></script>                <div id=\"a08ad2f4-aadb-4471-b3fb-96157b78766c\" class=\"plotly-graph-div\" style=\"height:525px; width:100%;\"></div>            <script type=\"text/javascript\">                                    window.PLOTLYENV=window.PLOTLYENV || {};                                    if (document.getElementById(\"a08ad2f4-aadb-4471-b3fb-96157b78766c\")) {                    Plotly.newPlot(                        \"a08ad2f4-aadb-4471-b3fb-96157b78766c\",                        [{\"coloraxis\":\"coloraxis\",\"geo\":\"geo\",\"hovertemplate\":\"<b>%{hovertext}</b><br><br> stusps=%{location}<br>avg_income_2020=%{z}<extra></extra>\",\"hovertext\":[\"Alabama\",\"Alaska\",\"Arizona\",\"Arkansas\",\"California\",\"Colorado\",\"Connecticut\",\"Delaware\",\"Florida\",\"Georgia\",\"Hawaii\",\"Idaho\",\"Illinois\",\"Indiana\",\"Iowa\",\"Kansas\",\"Kentucky\",\"Louisiana\",\"Maine\",\"Maryland\",\"Massachusetts\",\"Michigan\",\"Minnesota\",\"Mississippi\",\"Missouri\",\"Montana\",\"Nebraska\",\"Nevada\",\"New Hampshire\",\"New Jersey\",\"New Mexico\",\"New York\",\"North Carolina\",\"North Dakota\",\"Ohio\",\"Oklahoma\",\"Oregon\",\"Pennsylvania\",\"South Carolina\",\"South Dakota\",\"Tennessee\",\"Texas\",\"Utah\",\"Vermont\",\"Virginia\",\"Washington\",\"West Virginia\",\"Wisconsin\",\"Wyoming\"],\"locationmode\":\"USA-states\",\"locations\":[\"AL\",\"AK\",\"AZ\",\"AR\",\"CA\",\"CO\",\"CT\",\"DE\",\"FL\",\"GA\",\"HI\",\"ID\",\"IL\",\"IN\",\"IA\",\"KS\",\"KY\",\"LA\",\"ME\",\"MD\",\"MA\",\"MI\",\"MN\",\"MS\",\"MO\",\"MT\",\"NE\",\"NV\",\"NH\",\"NJ\",\"NM\",\"NY\",\"NC\",\"ND\",\"OH\",\"OK\",\"OR\",\"PA\",\"SC\",\"SD\",\"TN\",\"TX\",\"UT\",\"VT\",\"VA\",\"WA\",\"WV\",\"WI\",\"WY\"],\"name\":\"\",\"z\":[45897.846153846156,55156.0,44327.5,47232.25,50279.291666666664,52692.142857142855,64927.6,47251.5,50503.57142857143,45362.5,46367.0,47228.857142857145,50231.583333333336,49124.78571428572,53456.75,49606.0,45809.833333333336,48363.444444444445,48124.666666666664,51619.75,58156.75,49132.153846153844,53755.75,43703.0,46526.75,53871.333333333336,49644.5,53651.333333333336,57756.0,54541.4,46299.25,50055.545454545456,47375.529411764706,58815.0,50039.72727272727,49941.0,46567.875,50657.5,48117.71428571428,59056.5,46836.28571428572,47738.17391304348,46533.25,54507.0,49613.125,47478.6,47322.5,53311.63636363636,60416.0],\"type\":\"choropleth\"}],                        {\"template\":{\"data\":{\"bar\":[{\"error_x\":{\"color\":\"#2a3f5f\"},\"error_y\":{\"color\":\"#2a3f5f\"},\"marker\":{\"line\":{\"color\":\"#E5ECF6\",\"width\":0.5},\"pattern\":{\"fillmode\":\"overlay\",\"size\":10,\"solidity\":0.2}},\"type\":\"bar\"}],\"barpolar\":[{\"marker\":{\"line\":{\"color\":\"#E5ECF6\",\"width\":0.5},\"pattern\":{\"fillmode\":\"overlay\",\"size\":10,\"solidity\":0.2}},\"type\":\"barpolar\"}],\"carpet\":[{\"aaxis\":{\"endlinecolor\":\"#2a3f5f\",\"gridcolor\":\"white\",\"linecolor\":\"white\",\"minorgridcolor\":\"white\",\"startlinecolor\":\"#2a3f5f\"},\"baxis\":{\"endlinecolor\":\"#2a3f5f\",\"gridcolor\":\"white\",\"linecolor\":\"white\",\"minorgridcolor\":\"white\",\"startlinecolor\":\"#2a3f5f\"},\"type\":\"carpet\"}],\"choropleth\":[{\"colorbar\":{\"outlinewidth\":0,\"ticks\":\"\"},\"type\":\"choropleth\"}],\"contour\":[{\"colorbar\":{\"outlinewidth\":0,\"ticks\":\"\"},\"colorscale\":[[0.0,\"#0d0887\"],[0.1111111111111111,\"#46039f\"],[0.2222222222222222,\"#7201a8\"],[0.3333333333333333,\"#9c179e\"],[0.4444444444444444,\"#bd3786\"],[0.5555555555555556,\"#d8576b\"],[0.6666666666666666,\"#ed7953\"],[0.7777777777777778,\"#fb9f3a\"],[0.8888888888888888,\"#fdca26\"],[1.0,\"#f0f921\"]],\"type\":\"contour\"}],\"contourcarpet\":[{\"colorbar\":{\"outlinewidth\":0,\"ticks\":\"\"},\"type\":\"contourcarpet\"}],\"heatmap\":[{\"colorbar\":{\"outlinewidth\":0,\"ticks\":\"\"},\"colorscale\":[[0.0,\"#0d0887\"],[0.1111111111111111,\"#46039f\"],[0.2222222222222222,\"#7201a8\"],[0.3333333333333333,\"#9c179e\"],[0.4444444444444444,\"#bd3786\"],[0.5555555555555556,\"#d8576b\"],[0.6666666666666666,\"#ed7953\"],[0.7777777777777778,\"#fb9f3a\"],[0.8888888888888888,\"#fdca26\"],[1.0,\"#f0f921\"]],\"type\":\"heatmap\"}],\"heatmapgl\":[{\"colorbar\":{\"outlinewidth\":0,\"ticks\":\"\"},\"colorscale\":[[0.0,\"#0d0887\"],[0.1111111111111111,\"#46039f\"],[0.2222222222222222,\"#7201a8\"],[0.3333333333333333,\"#9c179e\"],[0.4444444444444444,\"#bd3786\"],[0.5555555555555556,\"#d8576b\"],[0.6666666666666666,\"#ed7953\"],[0.7777777777777778,\"#fb9f3a\"],[0.8888888888888888,\"#fdca26\"],[1.0,\"#f0f921\"]],\"type\":\"heatmapgl\"}],\"histogram\":[{\"marker\":{\"pattern\":{\"fillmode\":\"overlay\",\"size\":10,\"solidity\":0.2}},\"type\":\"histogram\"}],\"histogram2d\":[{\"colorbar\":{\"outlinewidth\":0,\"ticks\":\"\"},\"colorscale\":[[0.0,\"#0d0887\"],[0.1111111111111111,\"#46039f\"],[0.2222222222222222,\"#7201a8\"],[0.3333333333333333,\"#9c179e\"],[0.4444444444444444,\"#bd3786\"],[0.5555555555555556,\"#d8576b\"],[0.6666666666666666,\"#ed7953\"],[0.7777777777777778,\"#fb9f3a\"],[0.8888888888888888,\"#fdca26\"],[1.0,\"#f0f921\"]],\"type\":\"histogram2d\"}],\"histogram2dcontour\":[{\"colorbar\":{\"outlinewidth\":0,\"ticks\":\"\"},\"colorscale\":[[0.0,\"#0d0887\"],[0.1111111111111111,\"#46039f\"],[0.2222222222222222,\"#7201a8\"],[0.3333333333333333,\"#9c179e\"],[0.4444444444444444,\"#bd3786\"],[0.5555555555555556,\"#d8576b\"],[0.6666666666666666,\"#ed7953\"],[0.7777777777777778,\"#fb9f3a\"],[0.8888888888888888,\"#fdca26\"],[1.0,\"#f0f921\"]],\"type\":\"histogram2dcontour\"}],\"mesh3d\":[{\"colorbar\":{\"outlinewidth\":0,\"ticks\":\"\"},\"type\":\"mesh3d\"}],\"parcoords\":[{\"line\":{\"colorbar\":{\"outlinewidth\":0,\"ticks\":\"\"}},\"type\":\"parcoords\"}],\"pie\":[{\"automargin\":true,\"type\":\"pie\"}],\"scatter\":[{\"marker\":{\"colorbar\":{\"outlinewidth\":0,\"ticks\":\"\"}},\"type\":\"scatter\"}],\"scatter3d\":[{\"line\":{\"colorbar\":{\"outlinewidth\":0,\"ticks\":\"\"}},\"marker\":{\"colorbar\":{\"outlinewidth\":0,\"ticks\":\"\"}},\"type\":\"scatter3d\"}],\"scattercarpet\":[{\"marker\":{\"colorbar\":{\"outlinewidth\":0,\"ticks\":\"\"}},\"type\":\"scattercarpet\"}],\"scattergeo\":[{\"marker\":{\"colorbar\":{\"outlinewidth\":0,\"ticks\":\"\"}},\"type\":\"scattergeo\"}],\"scattergl\":[{\"marker\":{\"colorbar\":{\"outlinewidth\":0,\"ticks\":\"\"}},\"type\":\"scattergl\"}],\"scattermapbox\":[{\"marker\":{\"colorbar\":{\"outlinewidth\":0,\"ticks\":\"\"}},\"type\":\"scattermapbox\"}],\"scatterpolar\":[{\"marker\":{\"colorbar\":{\"outlinewidth\":0,\"ticks\":\"\"}},\"type\":\"scatterpolar\"}],\"scatterpolargl\":[{\"marker\":{\"colorbar\":{\"outlinewidth\":0,\"ticks\":\"\"}},\"type\":\"scatterpolargl\"}],\"scatterternary\":[{\"marker\":{\"colorbar\":{\"outlinewidth\":0,\"ticks\":\"\"}},\"type\":\"scatterternary\"}],\"surface\":[{\"colorbar\":{\"outlinewidth\":0,\"ticks\":\"\"},\"colorscale\":[[0.0,\"#0d0887\"],[0.1111111111111111,\"#46039f\"],[0.2222222222222222,\"#7201a8\"],[0.3333333333333333,\"#9c179e\"],[0.4444444444444444,\"#bd3786\"],[0.5555555555555556,\"#d8576b\"],[0.6666666666666666,\"#ed7953\"],[0.7777777777777778,\"#fb9f3a\"],[0.8888888888888888,\"#fdca26\"],[1.0,\"#f0f921\"]],\"type\":\"surface\"}],\"table\":[{\"cells\":{\"fill\":{\"color\":\"#EBF0F8\"},\"line\":{\"color\":\"white\"}},\"header\":{\"fill\":{\"color\":\"#C8D4E3\"},\"line\":{\"color\":\"white\"}},\"type\":\"table\"}]},\"layout\":{\"annotationdefaults\":{\"arrowcolor\":\"#2a3f5f\",\"arrowhead\":0,\"arrowwidth\":1},\"autotypenumbers\":\"strict\",\"coloraxis\":{\"colorbar\":{\"outlinewidth\":0,\"ticks\":\"\"}},\"colorscale\":{\"diverging\":[[0,\"#8e0152\"],[0.1,\"#c51b7d\"],[0.2,\"#de77ae\"],[0.3,\"#f1b6da\"],[0.4,\"#fde0ef\"],[0.5,\"#f7f7f7\"],[0.6,\"#e6f5d0\"],[0.7,\"#b8e186\"],[0.8,\"#7fbc41\"],[0.9,\"#4d9221\"],[1,\"#276419\"]],\"sequential\":[[0.0,\"#0d0887\"],[0.1111111111111111,\"#46039f\"],[0.2222222222222222,\"#7201a8\"],[0.3333333333333333,\"#9c179e\"],[0.4444444444444444,\"#bd3786\"],[0.5555555555555556,\"#d8576b\"],[0.6666666666666666,\"#ed7953\"],[0.7777777777777778,\"#fb9f3a\"],[0.8888888888888888,\"#fdca26\"],[1.0,\"#f0f921\"]],\"sequentialminus\":[[0.0,\"#0d0887\"],[0.1111111111111111,\"#46039f\"],[0.2222222222222222,\"#7201a8\"],[0.3333333333333333,\"#9c179e\"],[0.4444444444444444,\"#bd3786\"],[0.5555555555555556,\"#d8576b\"],[0.6666666666666666,\"#ed7953\"],[0.7777777777777778,\"#fb9f3a\"],[0.8888888888888888,\"#fdca26\"],[1.0,\"#f0f921\"]]},\"colorway\":[\"#636efa\",\"#EF553B\",\"#00cc96\",\"#ab63fa\",\"#FFA15A\",\"#19d3f3\",\"#FF6692\",\"#B6E880\",\"#FF97FF\",\"#FECB52\"],\"font\":{\"color\":\"#2a3f5f\"},\"geo\":{\"bgcolor\":\"white\",\"lakecolor\":\"white\",\"landcolor\":\"#E5ECF6\",\"showlakes\":true,\"showland\":true,\"subunitcolor\":\"white\"},\"hoverlabel\":{\"align\":\"left\"},\"hovermode\":\"closest\",\"mapbox\":{\"style\":\"light\"},\"paper_bgcolor\":\"white\",\"plot_bgcolor\":\"#E5ECF6\",\"polar\":{\"angularaxis\":{\"gridcolor\":\"white\",\"linecolor\":\"white\",\"ticks\":\"\"},\"bgcolor\":\"#E5ECF6\",\"radialaxis\":{\"gridcolor\":\"white\",\"linecolor\":\"white\",\"ticks\":\"\"}},\"scene\":{\"xaxis\":{\"backgroundcolor\":\"#E5ECF6\",\"gridcolor\":\"white\",\"gridwidth\":2,\"linecolor\":\"white\",\"showbackground\":true,\"ticks\":\"\",\"zerolinecolor\":\"white\"},\"yaxis\":{\"backgroundcolor\":\"#E5ECF6\",\"gridcolor\":\"white\",\"gridwidth\":2,\"linecolor\":\"white\",\"showbackground\":true,\"ticks\":\"\",\"zerolinecolor\":\"white\"},\"zaxis\":{\"backgroundcolor\":\"#E5ECF6\",\"gridcolor\":\"white\",\"gridwidth\":2,\"linecolor\":\"white\",\"showbackground\":true,\"ticks\":\"\",\"zerolinecolor\":\"white\"}},\"shapedefaults\":{\"line\":{\"color\":\"#2a3f5f\"}},\"ternary\":{\"aaxis\":{\"gridcolor\":\"white\",\"linecolor\":\"white\",\"ticks\":\"\"},\"baxis\":{\"gridcolor\":\"white\",\"linecolor\":\"white\",\"ticks\":\"\"},\"bgcolor\":\"#E5ECF6\",\"caxis\":{\"gridcolor\":\"white\",\"linecolor\":\"white\",\"ticks\":\"\"}},\"title\":{\"x\":0.05},\"xaxis\":{\"automargin\":true,\"gridcolor\":\"white\",\"linecolor\":\"white\",\"ticks\":\"\",\"title\":{\"standoff\":15},\"zerolinecolor\":\"white\",\"zerolinewidth\":2},\"yaxis\":{\"automargin\":true,\"gridcolor\":\"white\",\"linecolor\":\"white\",\"ticks\":\"\",\"title\":{\"standoff\":15},\"zerolinecolor\":\"white\",\"zerolinewidth\":2}}},\"geo\":{\"domain\":{\"x\":[0.0,1.0],\"y\":[0.0,1.0]},\"center\":{},\"scope\":\"usa\"},\"coloraxis\":{\"colorbar\":{\"title\":{\"text\":\"avg_income_2020\"}},\"colorscale\":[[0.0,\"rgb(94,79,162)\"],[0.1,\"rgb(50,136,189)\"],[0.2,\"rgb(102,194,165)\"],[0.3,\"rgb(171,221,164)\"],[0.4,\"rgb(230,245,152)\"],[0.5,\"rgb(255,255,191)\"],[0.6,\"rgb(254,224,139)\"],[0.7,\"rgb(253,174,97)\"],[0.8,\"rgb(244,109,67)\"],[0.9,\"rgb(213,62,79)\"],[1.0,\"rgb(158,1,66)\"]]},\"legend\":{\"tracegroupgap\":0},\"margin\":{\"t\":60}},                        {\"responsive\": true}                    ).then(function(){\n",
              "                            \n",
              "var gd = document.getElementById('a08ad2f4-aadb-4471-b3fb-96157b78766c');\n",
              "var x = new MutationObserver(function (mutations, observer) {{\n",
              "        var display = window.getComputedStyle(gd).display;\n",
              "        if (!display || display === 'none') {{\n",
              "            console.log([gd, 'removed!']);\n",
              "            Plotly.purge(gd);\n",
              "            observer.disconnect();\n",
              "        }}\n",
              "}});\n",
              "\n",
              "// Listen for the removal of the full notebook cells\n",
              "var notebookContainer = gd.closest('#notebook-container');\n",
              "if (notebookContainer) {{\n",
              "    x.observe(notebookContainer, {childList: true});\n",
              "}}\n",
              "\n",
              "// Listen for the clearing of the current output cell\n",
              "var outputEl = gd.closest('.output');\n",
              "if (outputEl) {{\n",
              "    x.observe(outputEl, {childList: true});\n",
              "}}\n",
              "\n",
              "                        })                };                            </script>        </div>\n",
              "</body>\n",
              "</html>"
            ]
          },
          "metadata": {}
        }
      ],
      "source": [
        "plot_choropleth(df, 'avg_income_2020')"
      ]
    },
    {
      "cell_type": "code",
      "execution_count": null,
      "metadata": {
        "id": "w0iwJgzoKQxT",
        "colab": {
          "base_uri": "https://localhost:8080/",
          "height": 542
        },
        "outputId": "bb8d3b9c-9b98-44c3-da92-4c169f1f3534"
      },
      "outputs": [
        {
          "output_type": "display_data",
          "data": {
            "text/html": [
              "<html>\n",
              "<head><meta charset=\"utf-8\" /></head>\n",
              "<body>\n",
              "    <div>            <script src=\"https://cdnjs.cloudflare.com/ajax/libs/mathjax/2.7.5/MathJax.js?config=TeX-AMS-MML_SVG\"></script><script type=\"text/javascript\">if (window.MathJax) {MathJax.Hub.Config({SVG: {font: \"STIX-Web\"}});}</script>                <script type=\"text/javascript\">window.PlotlyConfig = {MathJaxConfig: 'local'};</script>\n",
              "        <script src=\"https://cdn.plot.ly/plotly-2.8.3.min.js\"></script>                <div id=\"cdc238ad-76c4-4ce9-b508-a657e14000b7\" class=\"plotly-graph-div\" style=\"height:525px; width:100%;\"></div>            <script type=\"text/javascript\">                                    window.PLOTLYENV=window.PLOTLYENV || {};                                    if (document.getElementById(\"cdc238ad-76c4-4ce9-b508-a657e14000b7\")) {                    Plotly.newPlot(                        \"cdc238ad-76c4-4ce9-b508-a657e14000b7\",                        [{\"coloraxis\":\"coloraxis\",\"geo\":\"geo\",\"hovertemplate\":\"<b>%{hovertext}</b><br><br> stusps=%{location}<br>Life Expectancy=%{z}<extra></extra>\",\"hovertext\":[\"Alabama\",\"Alaska\",\"Arizona\",\"Arkansas\",\"California\",\"Colorado\",\"Connecticut\",\"Delaware\",\"Florida\",\"Georgia\",\"Hawaii\",\"Idaho\",\"Illinois\",\"Indiana\",\"Iowa\",\"Kansas\",\"Kentucky\",\"Louisiana\",\"Maine\",\"Maryland\",\"Massachusetts\",\"Michigan\",\"Minnesota\",\"Mississippi\",\"Missouri\",\"Montana\",\"Nebraska\",\"Nevada\",\"New Hampshire\",\"New Jersey\",\"New Mexico\",\"New York\",\"North Carolina\",\"North Dakota\",\"Ohio\",\"Oklahoma\",\"Oregon\",\"Pennsylvania\",\"South Carolina\",\"South Dakota\",\"Tennessee\",\"Texas\",\"Utah\",\"Vermont\",\"Virginia\",\"Washington\",\"West Virginia\",\"Wisconsin\",\"Wyoming\"],\"locationmode\":\"USA-states\",\"locations\":[\"AL\",\"AK\",\"AZ\",\"AR\",\"CA\",\"CO\",\"CT\",\"DE\",\"FL\",\"GA\",\"HI\",\"ID\",\"IL\",\"IN\",\"IA\",\"KS\",\"KY\",\"LA\",\"ME\",\"MD\",\"MA\",\"MI\",\"MN\",\"MS\",\"MO\",\"MT\",\"NE\",\"NV\",\"NH\",\"NJ\",\"NM\",\"NY\",\"NC\",\"ND\",\"OH\",\"OK\",\"OR\",\"PA\",\"SC\",\"SD\",\"TN\",\"TX\",\"UT\",\"VT\",\"VA\",\"WA\",\"WV\",\"WI\",\"WY\"],\"name\":\"\",\"z\":[74.81398728428701,78.91476510067113,78.36592307692308,75.62746585735964,80.23115604629506,79.46691449814126,80.10242346938776,77.79849246231156,78.37533882540527,76.61543661971831,81.3173144876325,79.08675958188154,78.16585616438356,76.76592797783934,79.06445556946183,78.05165745856354,75.56472275334608,75.37327586206897,78.40102739726026,78.70007674597083,80.34050541516245,77.34034068912118,80.46932707355242,75.02674050632913,76.95754359363154,78.81796875,79.02805611222445,77.55058823529411,79.9565371024735,79.59112519809825,78.54643628509719,80.32702286719437,77.397261663286,79.3984693877551,76.56747205192931,75.88518145161291,79.08854961832061,78.0609931394969,76.56368989205103,79.78571428571429,75.53089430894309,77.86418259023354,79.36722532588453,81.01647727272727,78.32732174955063,79.67585703865792,75.69017094017094,79.03386287625418,80.14957983193277],\"type\":\"choropleth\"}],                        {\"template\":{\"data\":{\"bar\":[{\"error_x\":{\"color\":\"#2a3f5f\"},\"error_y\":{\"color\":\"#2a3f5f\"},\"marker\":{\"line\":{\"color\":\"#E5ECF6\",\"width\":0.5},\"pattern\":{\"fillmode\":\"overlay\",\"size\":10,\"solidity\":0.2}},\"type\":\"bar\"}],\"barpolar\":[{\"marker\":{\"line\":{\"color\":\"#E5ECF6\",\"width\":0.5},\"pattern\":{\"fillmode\":\"overlay\",\"size\":10,\"solidity\":0.2}},\"type\":\"barpolar\"}],\"carpet\":[{\"aaxis\":{\"endlinecolor\":\"#2a3f5f\",\"gridcolor\":\"white\",\"linecolor\":\"white\",\"minorgridcolor\":\"white\",\"startlinecolor\":\"#2a3f5f\"},\"baxis\":{\"endlinecolor\":\"#2a3f5f\",\"gridcolor\":\"white\",\"linecolor\":\"white\",\"minorgridcolor\":\"white\",\"startlinecolor\":\"#2a3f5f\"},\"type\":\"carpet\"}],\"choropleth\":[{\"colorbar\":{\"outlinewidth\":0,\"ticks\":\"\"},\"type\":\"choropleth\"}],\"contour\":[{\"colorbar\":{\"outlinewidth\":0,\"ticks\":\"\"},\"colorscale\":[[0.0,\"#0d0887\"],[0.1111111111111111,\"#46039f\"],[0.2222222222222222,\"#7201a8\"],[0.3333333333333333,\"#9c179e\"],[0.4444444444444444,\"#bd3786\"],[0.5555555555555556,\"#d8576b\"],[0.6666666666666666,\"#ed7953\"],[0.7777777777777778,\"#fb9f3a\"],[0.8888888888888888,\"#fdca26\"],[1.0,\"#f0f921\"]],\"type\":\"contour\"}],\"contourcarpet\":[{\"colorbar\":{\"outlinewidth\":0,\"ticks\":\"\"},\"type\":\"contourcarpet\"}],\"heatmap\":[{\"colorbar\":{\"outlinewidth\":0,\"ticks\":\"\"},\"colorscale\":[[0.0,\"#0d0887\"],[0.1111111111111111,\"#46039f\"],[0.2222222222222222,\"#7201a8\"],[0.3333333333333333,\"#9c179e\"],[0.4444444444444444,\"#bd3786\"],[0.5555555555555556,\"#d8576b\"],[0.6666666666666666,\"#ed7953\"],[0.7777777777777778,\"#fb9f3a\"],[0.8888888888888888,\"#fdca26\"],[1.0,\"#f0f921\"]],\"type\":\"heatmap\"}],\"heatmapgl\":[{\"colorbar\":{\"outlinewidth\":0,\"ticks\":\"\"},\"colorscale\":[[0.0,\"#0d0887\"],[0.1111111111111111,\"#46039f\"],[0.2222222222222222,\"#7201a8\"],[0.3333333333333333,\"#9c179e\"],[0.4444444444444444,\"#bd3786\"],[0.5555555555555556,\"#d8576b\"],[0.6666666666666666,\"#ed7953\"],[0.7777777777777778,\"#fb9f3a\"],[0.8888888888888888,\"#fdca26\"],[1.0,\"#f0f921\"]],\"type\":\"heatmapgl\"}],\"histogram\":[{\"marker\":{\"pattern\":{\"fillmode\":\"overlay\",\"size\":10,\"solidity\":0.2}},\"type\":\"histogram\"}],\"histogram2d\":[{\"colorbar\":{\"outlinewidth\":0,\"ticks\":\"\"},\"colorscale\":[[0.0,\"#0d0887\"],[0.1111111111111111,\"#46039f\"],[0.2222222222222222,\"#7201a8\"],[0.3333333333333333,\"#9c179e\"],[0.4444444444444444,\"#bd3786\"],[0.5555555555555556,\"#d8576b\"],[0.6666666666666666,\"#ed7953\"],[0.7777777777777778,\"#fb9f3a\"],[0.8888888888888888,\"#fdca26\"],[1.0,\"#f0f921\"]],\"type\":\"histogram2d\"}],\"histogram2dcontour\":[{\"colorbar\":{\"outlinewidth\":0,\"ticks\":\"\"},\"colorscale\":[[0.0,\"#0d0887\"],[0.1111111111111111,\"#46039f\"],[0.2222222222222222,\"#7201a8\"],[0.3333333333333333,\"#9c179e\"],[0.4444444444444444,\"#bd3786\"],[0.5555555555555556,\"#d8576b\"],[0.6666666666666666,\"#ed7953\"],[0.7777777777777778,\"#fb9f3a\"],[0.8888888888888888,\"#fdca26\"],[1.0,\"#f0f921\"]],\"type\":\"histogram2dcontour\"}],\"mesh3d\":[{\"colorbar\":{\"outlinewidth\":0,\"ticks\":\"\"},\"type\":\"mesh3d\"}],\"parcoords\":[{\"line\":{\"colorbar\":{\"outlinewidth\":0,\"ticks\":\"\"}},\"type\":\"parcoords\"}],\"pie\":[{\"automargin\":true,\"type\":\"pie\"}],\"scatter\":[{\"marker\":{\"colorbar\":{\"outlinewidth\":0,\"ticks\":\"\"}},\"type\":\"scatter\"}],\"scatter3d\":[{\"line\":{\"colorbar\":{\"outlinewidth\":0,\"ticks\":\"\"}},\"marker\":{\"colorbar\":{\"outlinewidth\":0,\"ticks\":\"\"}},\"type\":\"scatter3d\"}],\"scattercarpet\":[{\"marker\":{\"colorbar\":{\"outlinewidth\":0,\"ticks\":\"\"}},\"type\":\"scattercarpet\"}],\"scattergeo\":[{\"marker\":{\"colorbar\":{\"outlinewidth\":0,\"ticks\":\"\"}},\"type\":\"scattergeo\"}],\"scattergl\":[{\"marker\":{\"colorbar\":{\"outlinewidth\":0,\"ticks\":\"\"}},\"type\":\"scattergl\"}],\"scattermapbox\":[{\"marker\":{\"colorbar\":{\"outlinewidth\":0,\"ticks\":\"\"}},\"type\":\"scattermapbox\"}],\"scatterpolar\":[{\"marker\":{\"colorbar\":{\"outlinewidth\":0,\"ticks\":\"\"}},\"type\":\"scatterpolar\"}],\"scatterpolargl\":[{\"marker\":{\"colorbar\":{\"outlinewidth\":0,\"ticks\":\"\"}},\"type\":\"scatterpolargl\"}],\"scatterternary\":[{\"marker\":{\"colorbar\":{\"outlinewidth\":0,\"ticks\":\"\"}},\"type\":\"scatterternary\"}],\"surface\":[{\"colorbar\":{\"outlinewidth\":0,\"ticks\":\"\"},\"colorscale\":[[0.0,\"#0d0887\"],[0.1111111111111111,\"#46039f\"],[0.2222222222222222,\"#7201a8\"],[0.3333333333333333,\"#9c179e\"],[0.4444444444444444,\"#bd3786\"],[0.5555555555555556,\"#d8576b\"],[0.6666666666666666,\"#ed7953\"],[0.7777777777777778,\"#fb9f3a\"],[0.8888888888888888,\"#fdca26\"],[1.0,\"#f0f921\"]],\"type\":\"surface\"}],\"table\":[{\"cells\":{\"fill\":{\"color\":\"#EBF0F8\"},\"line\":{\"color\":\"white\"}},\"header\":{\"fill\":{\"color\":\"#C8D4E3\"},\"line\":{\"color\":\"white\"}},\"type\":\"table\"}]},\"layout\":{\"annotationdefaults\":{\"arrowcolor\":\"#2a3f5f\",\"arrowhead\":0,\"arrowwidth\":1},\"autotypenumbers\":\"strict\",\"coloraxis\":{\"colorbar\":{\"outlinewidth\":0,\"ticks\":\"\"}},\"colorscale\":{\"diverging\":[[0,\"#8e0152\"],[0.1,\"#c51b7d\"],[0.2,\"#de77ae\"],[0.3,\"#f1b6da\"],[0.4,\"#fde0ef\"],[0.5,\"#f7f7f7\"],[0.6,\"#e6f5d0\"],[0.7,\"#b8e186\"],[0.8,\"#7fbc41\"],[0.9,\"#4d9221\"],[1,\"#276419\"]],\"sequential\":[[0.0,\"#0d0887\"],[0.1111111111111111,\"#46039f\"],[0.2222222222222222,\"#7201a8\"],[0.3333333333333333,\"#9c179e\"],[0.4444444444444444,\"#bd3786\"],[0.5555555555555556,\"#d8576b\"],[0.6666666666666666,\"#ed7953\"],[0.7777777777777778,\"#fb9f3a\"],[0.8888888888888888,\"#fdca26\"],[1.0,\"#f0f921\"]],\"sequentialminus\":[[0.0,\"#0d0887\"],[0.1111111111111111,\"#46039f\"],[0.2222222222222222,\"#7201a8\"],[0.3333333333333333,\"#9c179e\"],[0.4444444444444444,\"#bd3786\"],[0.5555555555555556,\"#d8576b\"],[0.6666666666666666,\"#ed7953\"],[0.7777777777777778,\"#fb9f3a\"],[0.8888888888888888,\"#fdca26\"],[1.0,\"#f0f921\"]]},\"colorway\":[\"#636efa\",\"#EF553B\",\"#00cc96\",\"#ab63fa\",\"#FFA15A\",\"#19d3f3\",\"#FF6692\",\"#B6E880\",\"#FF97FF\",\"#FECB52\"],\"font\":{\"color\":\"#2a3f5f\"},\"geo\":{\"bgcolor\":\"white\",\"lakecolor\":\"white\",\"landcolor\":\"#E5ECF6\",\"showlakes\":true,\"showland\":true,\"subunitcolor\":\"white\"},\"hoverlabel\":{\"align\":\"left\"},\"hovermode\":\"closest\",\"mapbox\":{\"style\":\"light\"},\"paper_bgcolor\":\"white\",\"plot_bgcolor\":\"#E5ECF6\",\"polar\":{\"angularaxis\":{\"gridcolor\":\"white\",\"linecolor\":\"white\",\"ticks\":\"\"},\"bgcolor\":\"#E5ECF6\",\"radialaxis\":{\"gridcolor\":\"white\",\"linecolor\":\"white\",\"ticks\":\"\"}},\"scene\":{\"xaxis\":{\"backgroundcolor\":\"#E5ECF6\",\"gridcolor\":\"white\",\"gridwidth\":2,\"linecolor\":\"white\",\"showbackground\":true,\"ticks\":\"\",\"zerolinecolor\":\"white\"},\"yaxis\":{\"backgroundcolor\":\"#E5ECF6\",\"gridcolor\":\"white\",\"gridwidth\":2,\"linecolor\":\"white\",\"showbackground\":true,\"ticks\":\"\",\"zerolinecolor\":\"white\"},\"zaxis\":{\"backgroundcolor\":\"#E5ECF6\",\"gridcolor\":\"white\",\"gridwidth\":2,\"linecolor\":\"white\",\"showbackground\":true,\"ticks\":\"\",\"zerolinecolor\":\"white\"}},\"shapedefaults\":{\"line\":{\"color\":\"#2a3f5f\"}},\"ternary\":{\"aaxis\":{\"gridcolor\":\"white\",\"linecolor\":\"white\",\"ticks\":\"\"},\"baxis\":{\"gridcolor\":\"white\",\"linecolor\":\"white\",\"ticks\":\"\"},\"bgcolor\":\"#E5ECF6\",\"caxis\":{\"gridcolor\":\"white\",\"linecolor\":\"white\",\"ticks\":\"\"}},\"title\":{\"x\":0.05},\"xaxis\":{\"automargin\":true,\"gridcolor\":\"white\",\"linecolor\":\"white\",\"ticks\":\"\",\"title\":{\"standoff\":15},\"zerolinecolor\":\"white\",\"zerolinewidth\":2},\"yaxis\":{\"automargin\":true,\"gridcolor\":\"white\",\"linecolor\":\"white\",\"ticks\":\"\",\"title\":{\"standoff\":15},\"zerolinecolor\":\"white\",\"zerolinewidth\":2}}},\"geo\":{\"domain\":{\"x\":[0.0,1.0],\"y\":[0.0,1.0]},\"center\":{},\"scope\":\"usa\"},\"coloraxis\":{\"colorbar\":{\"title\":{\"text\":\"Life Expectancy\"}},\"colorscale\":[[0.0,\"rgb(94,79,162)\"],[0.1,\"rgb(50,136,189)\"],[0.2,\"rgb(102,194,165)\"],[0.3,\"rgb(171,221,164)\"],[0.4,\"rgb(230,245,152)\"],[0.5,\"rgb(255,255,191)\"],[0.6,\"rgb(254,224,139)\"],[0.7,\"rgb(253,174,97)\"],[0.8,\"rgb(244,109,67)\"],[0.9,\"rgb(213,62,79)\"],[1.0,\"rgb(158,1,66)\"]]},\"legend\":{\"tracegroupgap\":0},\"margin\":{\"t\":60}},                        {\"responsive\": true}                    ).then(function(){\n",
              "                            \n",
              "var gd = document.getElementById('cdc238ad-76c4-4ce9-b508-a657e14000b7');\n",
              "var x = new MutationObserver(function (mutations, observer) {{\n",
              "        var display = window.getComputedStyle(gd).display;\n",
              "        if (!display || display === 'none') {{\n",
              "            console.log([gd, 'removed!']);\n",
              "            Plotly.purge(gd);\n",
              "            observer.disconnect();\n",
              "        }}\n",
              "}});\n",
              "\n",
              "// Listen for the removal of the full notebook cells\n",
              "var notebookContainer = gd.closest('#notebook-container');\n",
              "if (notebookContainer) {{\n",
              "    x.observe(notebookContainer, {childList: true});\n",
              "}}\n",
              "\n",
              "// Listen for the clearing of the current output cell\n",
              "var outputEl = gd.closest('.output');\n",
              "if (outputEl) {{\n",
              "    x.observe(outputEl, {childList: true});\n",
              "}}\n",
              "\n",
              "                        })                };                            </script>        </div>\n",
              "</body>\n",
              "</html>"
            ]
          },
          "metadata": {}
        }
      ],
      "source": [
        "plot_choropleth(df, 'Life Expectancy')"
      ]
    },
    {
      "cell_type": "code",
      "execution_count": null,
      "metadata": {
        "id": "_bXMyA34KZDv",
        "colab": {
          "base_uri": "https://localhost:8080/",
          "height": 542
        },
        "outputId": "ccfac2e3-a8f4-4502-aba9-9c36b75a7f44"
      },
      "outputs": [
        {
          "output_type": "display_data",
          "data": {
            "text/html": [
              "<html>\n",
              "<head><meta charset=\"utf-8\" /></head>\n",
              "<body>\n",
              "    <div>            <script src=\"https://cdnjs.cloudflare.com/ajax/libs/mathjax/2.7.5/MathJax.js?config=TeX-AMS-MML_SVG\"></script><script type=\"text/javascript\">if (window.MathJax) {MathJax.Hub.Config({SVG: {font: \"STIX-Web\"}});}</script>                <script type=\"text/javascript\">window.PlotlyConfig = {MathJaxConfig: 'local'};</script>\n",
              "        <script src=\"https://cdn.plot.ly/plotly-2.8.3.min.js\"></script>                <div id=\"f6505958-b7b6-4a60-94be-cd1a8c771195\" class=\"plotly-graph-div\" style=\"height:525px; width:100%;\"></div>            <script type=\"text/javascript\">                                    window.PLOTLYENV=window.PLOTLYENV || {};                                    if (document.getElementById(\"f6505958-b7b6-4a60-94be-cd1a8c771195\")) {                    Plotly.newPlot(                        \"f6505958-b7b6-4a60-94be-cd1a8c771195\",                        [{\"coloraxis\":\"coloraxis\",\"geo\":\"geo\",\"hovertemplate\":\"<b>%{hovertext}</b><br><br> stusps=%{location}<br>hospital_count=%{z}<extra></extra>\",\"hovertext\":[\"Alabama\",\"Alaska\",\"Arizona\",\"Arkansas\",\"California\",\"Colorado\",\"Connecticut\",\"Delaware\",\"Florida\",\"Georgia\",\"Hawaii\",\"Idaho\",\"Illinois\",\"Indiana\",\"Iowa\",\"Kansas\",\"Kentucky\",\"Louisiana\",\"Maine\",\"Maryland\",\"Massachusetts\",\"Michigan\",\"Minnesota\",\"Mississippi\",\"Missouri\",\"Montana\",\"Nebraska\",\"Nevada\",\"New Hampshire\",\"New Jersey\",\"New Mexico\",\"New York\",\"North Carolina\",\"North Dakota\",\"Ohio\",\"Oklahoma\",\"Oregon\",\"Pennsylvania\",\"South Carolina\",\"South Dakota\",\"Tennessee\",\"Texas\",\"Utah\",\"Vermont\",\"Virginia\",\"Washington\",\"West Virginia\",\"Wisconsin\",\"Wyoming\"],\"locationmode\":\"USA-states\",\"locations\":[\"AL\",\"AK\",\"AZ\",\"AR\",\"CA\",\"CO\",\"CT\",\"DE\",\"FL\",\"GA\",\"HI\",\"ID\",\"IL\",\"IN\",\"IA\",\"KS\",\"KY\",\"LA\",\"ME\",\"MD\",\"MA\",\"MI\",\"MN\",\"MS\",\"MO\",\"MT\",\"NE\",\"NV\",\"NH\",\"NJ\",\"NM\",\"NY\",\"NC\",\"ND\",\"OH\",\"OK\",\"OR\",\"PA\",\"SC\",\"SD\",\"TN\",\"TX\",\"UT\",\"VT\",\"VA\",\"WA\",\"WV\",\"WI\",\"WY\"],\"name\":\"\",\"z\":[6.6923076923076925,5.0,15.714285714285714,11.5,21.482758620689655,9.571428571428571,10.4,5.333333333333333,11.130434782608695,10.428571428571429,7.5,4.285714285714286,15.533333333333333,11.2,7.125,15.333333333333334,6.0,19.555555555555557,6.333333333333333,9.4,18.333333333333332,10.066666666666666,11.375,10.666666666666666,6.75,4.0,7.0,12.333333333333334,5.0,27.125,7.25,9.923076923076923,7.529411764705882,5.0,13.583333333333334,21.75,6.5,12.277777777777779,8.285714285714286,6.0,11.142857142857142,26.92,8.25,3.0,9.88888888888889,7.166666666666667,5.25,8.545454545454545,2.5],\"type\":\"choropleth\"}],                        {\"template\":{\"data\":{\"bar\":[{\"error_x\":{\"color\":\"#2a3f5f\"},\"error_y\":{\"color\":\"#2a3f5f\"},\"marker\":{\"line\":{\"color\":\"#E5ECF6\",\"width\":0.5},\"pattern\":{\"fillmode\":\"overlay\",\"size\":10,\"solidity\":0.2}},\"type\":\"bar\"}],\"barpolar\":[{\"marker\":{\"line\":{\"color\":\"#E5ECF6\",\"width\":0.5},\"pattern\":{\"fillmode\":\"overlay\",\"size\":10,\"solidity\":0.2}},\"type\":\"barpolar\"}],\"carpet\":[{\"aaxis\":{\"endlinecolor\":\"#2a3f5f\",\"gridcolor\":\"white\",\"linecolor\":\"white\",\"minorgridcolor\":\"white\",\"startlinecolor\":\"#2a3f5f\"},\"baxis\":{\"endlinecolor\":\"#2a3f5f\",\"gridcolor\":\"white\",\"linecolor\":\"white\",\"minorgridcolor\":\"white\",\"startlinecolor\":\"#2a3f5f\"},\"type\":\"carpet\"}],\"choropleth\":[{\"colorbar\":{\"outlinewidth\":0,\"ticks\":\"\"},\"type\":\"choropleth\"}],\"contour\":[{\"colorbar\":{\"outlinewidth\":0,\"ticks\":\"\"},\"colorscale\":[[0.0,\"#0d0887\"],[0.1111111111111111,\"#46039f\"],[0.2222222222222222,\"#7201a8\"],[0.3333333333333333,\"#9c179e\"],[0.4444444444444444,\"#bd3786\"],[0.5555555555555556,\"#d8576b\"],[0.6666666666666666,\"#ed7953\"],[0.7777777777777778,\"#fb9f3a\"],[0.8888888888888888,\"#fdca26\"],[1.0,\"#f0f921\"]],\"type\":\"contour\"}],\"contourcarpet\":[{\"colorbar\":{\"outlinewidth\":0,\"ticks\":\"\"},\"type\":\"contourcarpet\"}],\"heatmap\":[{\"colorbar\":{\"outlinewidth\":0,\"ticks\":\"\"},\"colorscale\":[[0.0,\"#0d0887\"],[0.1111111111111111,\"#46039f\"],[0.2222222222222222,\"#7201a8\"],[0.3333333333333333,\"#9c179e\"],[0.4444444444444444,\"#bd3786\"],[0.5555555555555556,\"#d8576b\"],[0.6666666666666666,\"#ed7953\"],[0.7777777777777778,\"#fb9f3a\"],[0.8888888888888888,\"#fdca26\"],[1.0,\"#f0f921\"]],\"type\":\"heatmap\"}],\"heatmapgl\":[{\"colorbar\":{\"outlinewidth\":0,\"ticks\":\"\"},\"colorscale\":[[0.0,\"#0d0887\"],[0.1111111111111111,\"#46039f\"],[0.2222222222222222,\"#7201a8\"],[0.3333333333333333,\"#9c179e\"],[0.4444444444444444,\"#bd3786\"],[0.5555555555555556,\"#d8576b\"],[0.6666666666666666,\"#ed7953\"],[0.7777777777777778,\"#fb9f3a\"],[0.8888888888888888,\"#fdca26\"],[1.0,\"#f0f921\"]],\"type\":\"heatmapgl\"}],\"histogram\":[{\"marker\":{\"pattern\":{\"fillmode\":\"overlay\",\"size\":10,\"solidity\":0.2}},\"type\":\"histogram\"}],\"histogram2d\":[{\"colorbar\":{\"outlinewidth\":0,\"ticks\":\"\"},\"colorscale\":[[0.0,\"#0d0887\"],[0.1111111111111111,\"#46039f\"],[0.2222222222222222,\"#7201a8\"],[0.3333333333333333,\"#9c179e\"],[0.4444444444444444,\"#bd3786\"],[0.5555555555555556,\"#d8576b\"],[0.6666666666666666,\"#ed7953\"],[0.7777777777777778,\"#fb9f3a\"],[0.8888888888888888,\"#fdca26\"],[1.0,\"#f0f921\"]],\"type\":\"histogram2d\"}],\"histogram2dcontour\":[{\"colorbar\":{\"outlinewidth\":0,\"ticks\":\"\"},\"colorscale\":[[0.0,\"#0d0887\"],[0.1111111111111111,\"#46039f\"],[0.2222222222222222,\"#7201a8\"],[0.3333333333333333,\"#9c179e\"],[0.4444444444444444,\"#bd3786\"],[0.5555555555555556,\"#d8576b\"],[0.6666666666666666,\"#ed7953\"],[0.7777777777777778,\"#fb9f3a\"],[0.8888888888888888,\"#fdca26\"],[1.0,\"#f0f921\"]],\"type\":\"histogram2dcontour\"}],\"mesh3d\":[{\"colorbar\":{\"outlinewidth\":0,\"ticks\":\"\"},\"type\":\"mesh3d\"}],\"parcoords\":[{\"line\":{\"colorbar\":{\"outlinewidth\":0,\"ticks\":\"\"}},\"type\":\"parcoords\"}],\"pie\":[{\"automargin\":true,\"type\":\"pie\"}],\"scatter\":[{\"marker\":{\"colorbar\":{\"outlinewidth\":0,\"ticks\":\"\"}},\"type\":\"scatter\"}],\"scatter3d\":[{\"line\":{\"colorbar\":{\"outlinewidth\":0,\"ticks\":\"\"}},\"marker\":{\"colorbar\":{\"outlinewidth\":0,\"ticks\":\"\"}},\"type\":\"scatter3d\"}],\"scattercarpet\":[{\"marker\":{\"colorbar\":{\"outlinewidth\":0,\"ticks\":\"\"}},\"type\":\"scattercarpet\"}],\"scattergeo\":[{\"marker\":{\"colorbar\":{\"outlinewidth\":0,\"ticks\":\"\"}},\"type\":\"scattergeo\"}],\"scattergl\":[{\"marker\":{\"colorbar\":{\"outlinewidth\":0,\"ticks\":\"\"}},\"type\":\"scattergl\"}],\"scattermapbox\":[{\"marker\":{\"colorbar\":{\"outlinewidth\":0,\"ticks\":\"\"}},\"type\":\"scattermapbox\"}],\"scatterpolar\":[{\"marker\":{\"colorbar\":{\"outlinewidth\":0,\"ticks\":\"\"}},\"type\":\"scatterpolar\"}],\"scatterpolargl\":[{\"marker\":{\"colorbar\":{\"outlinewidth\":0,\"ticks\":\"\"}},\"type\":\"scatterpolargl\"}],\"scatterternary\":[{\"marker\":{\"colorbar\":{\"outlinewidth\":0,\"ticks\":\"\"}},\"type\":\"scatterternary\"}],\"surface\":[{\"colorbar\":{\"outlinewidth\":0,\"ticks\":\"\"},\"colorscale\":[[0.0,\"#0d0887\"],[0.1111111111111111,\"#46039f\"],[0.2222222222222222,\"#7201a8\"],[0.3333333333333333,\"#9c179e\"],[0.4444444444444444,\"#bd3786\"],[0.5555555555555556,\"#d8576b\"],[0.6666666666666666,\"#ed7953\"],[0.7777777777777778,\"#fb9f3a\"],[0.8888888888888888,\"#fdca26\"],[1.0,\"#f0f921\"]],\"type\":\"surface\"}],\"table\":[{\"cells\":{\"fill\":{\"color\":\"#EBF0F8\"},\"line\":{\"color\":\"white\"}},\"header\":{\"fill\":{\"color\":\"#C8D4E3\"},\"line\":{\"color\":\"white\"}},\"type\":\"table\"}]},\"layout\":{\"annotationdefaults\":{\"arrowcolor\":\"#2a3f5f\",\"arrowhead\":0,\"arrowwidth\":1},\"autotypenumbers\":\"strict\",\"coloraxis\":{\"colorbar\":{\"outlinewidth\":0,\"ticks\":\"\"}},\"colorscale\":{\"diverging\":[[0,\"#8e0152\"],[0.1,\"#c51b7d\"],[0.2,\"#de77ae\"],[0.3,\"#f1b6da\"],[0.4,\"#fde0ef\"],[0.5,\"#f7f7f7\"],[0.6,\"#e6f5d0\"],[0.7,\"#b8e186\"],[0.8,\"#7fbc41\"],[0.9,\"#4d9221\"],[1,\"#276419\"]],\"sequential\":[[0.0,\"#0d0887\"],[0.1111111111111111,\"#46039f\"],[0.2222222222222222,\"#7201a8\"],[0.3333333333333333,\"#9c179e\"],[0.4444444444444444,\"#bd3786\"],[0.5555555555555556,\"#d8576b\"],[0.6666666666666666,\"#ed7953\"],[0.7777777777777778,\"#fb9f3a\"],[0.8888888888888888,\"#fdca26\"],[1.0,\"#f0f921\"]],\"sequentialminus\":[[0.0,\"#0d0887\"],[0.1111111111111111,\"#46039f\"],[0.2222222222222222,\"#7201a8\"],[0.3333333333333333,\"#9c179e\"],[0.4444444444444444,\"#bd3786\"],[0.5555555555555556,\"#d8576b\"],[0.6666666666666666,\"#ed7953\"],[0.7777777777777778,\"#fb9f3a\"],[0.8888888888888888,\"#fdca26\"],[1.0,\"#f0f921\"]]},\"colorway\":[\"#636efa\",\"#EF553B\",\"#00cc96\",\"#ab63fa\",\"#FFA15A\",\"#19d3f3\",\"#FF6692\",\"#B6E880\",\"#FF97FF\",\"#FECB52\"],\"font\":{\"color\":\"#2a3f5f\"},\"geo\":{\"bgcolor\":\"white\",\"lakecolor\":\"white\",\"landcolor\":\"#E5ECF6\",\"showlakes\":true,\"showland\":true,\"subunitcolor\":\"white\"},\"hoverlabel\":{\"align\":\"left\"},\"hovermode\":\"closest\",\"mapbox\":{\"style\":\"light\"},\"paper_bgcolor\":\"white\",\"plot_bgcolor\":\"#E5ECF6\",\"polar\":{\"angularaxis\":{\"gridcolor\":\"white\",\"linecolor\":\"white\",\"ticks\":\"\"},\"bgcolor\":\"#E5ECF6\",\"radialaxis\":{\"gridcolor\":\"white\",\"linecolor\":\"white\",\"ticks\":\"\"}},\"scene\":{\"xaxis\":{\"backgroundcolor\":\"#E5ECF6\",\"gridcolor\":\"white\",\"gridwidth\":2,\"linecolor\":\"white\",\"showbackground\":true,\"ticks\":\"\",\"zerolinecolor\":\"white\"},\"yaxis\":{\"backgroundcolor\":\"#E5ECF6\",\"gridcolor\":\"white\",\"gridwidth\":2,\"linecolor\":\"white\",\"showbackground\":true,\"ticks\":\"\",\"zerolinecolor\":\"white\"},\"zaxis\":{\"backgroundcolor\":\"#E5ECF6\",\"gridcolor\":\"white\",\"gridwidth\":2,\"linecolor\":\"white\",\"showbackground\":true,\"ticks\":\"\",\"zerolinecolor\":\"white\"}},\"shapedefaults\":{\"line\":{\"color\":\"#2a3f5f\"}},\"ternary\":{\"aaxis\":{\"gridcolor\":\"white\",\"linecolor\":\"white\",\"ticks\":\"\"},\"baxis\":{\"gridcolor\":\"white\",\"linecolor\":\"white\",\"ticks\":\"\"},\"bgcolor\":\"#E5ECF6\",\"caxis\":{\"gridcolor\":\"white\",\"linecolor\":\"white\",\"ticks\":\"\"}},\"title\":{\"x\":0.05},\"xaxis\":{\"automargin\":true,\"gridcolor\":\"white\",\"linecolor\":\"white\",\"ticks\":\"\",\"title\":{\"standoff\":15},\"zerolinecolor\":\"white\",\"zerolinewidth\":2},\"yaxis\":{\"automargin\":true,\"gridcolor\":\"white\",\"linecolor\":\"white\",\"ticks\":\"\",\"title\":{\"standoff\":15},\"zerolinecolor\":\"white\",\"zerolinewidth\":2}}},\"geo\":{\"domain\":{\"x\":[0.0,1.0],\"y\":[0.0,1.0]},\"center\":{},\"scope\":\"usa\"},\"coloraxis\":{\"colorbar\":{\"title\":{\"text\":\"hospital_count\"}},\"colorscale\":[[0.0,\"rgb(94,79,162)\"],[0.1,\"rgb(50,136,189)\"],[0.2,\"rgb(102,194,165)\"],[0.3,\"rgb(171,221,164)\"],[0.4,\"rgb(230,245,152)\"],[0.5,\"rgb(255,255,191)\"],[0.6,\"rgb(254,224,139)\"],[0.7,\"rgb(253,174,97)\"],[0.8,\"rgb(244,109,67)\"],[0.9,\"rgb(213,62,79)\"],[1.0,\"rgb(158,1,66)\"]]},\"legend\":{\"tracegroupgap\":0},\"margin\":{\"t\":60}},                        {\"responsive\": true}                    ).then(function(){\n",
              "                            \n",
              "var gd = document.getElementById('f6505958-b7b6-4a60-94be-cd1a8c771195');\n",
              "var x = new MutationObserver(function (mutations, observer) {{\n",
              "        var display = window.getComputedStyle(gd).display;\n",
              "        if (!display || display === 'none') {{\n",
              "            console.log([gd, 'removed!']);\n",
              "            Plotly.purge(gd);\n",
              "            observer.disconnect();\n",
              "        }}\n",
              "}});\n",
              "\n",
              "// Listen for the removal of the full notebook cells\n",
              "var notebookContainer = gd.closest('#notebook-container');\n",
              "if (notebookContainer) {{\n",
              "    x.observe(notebookContainer, {childList: true});\n",
              "}}\n",
              "\n",
              "// Listen for the clearing of the current output cell\n",
              "var outputEl = gd.closest('.output');\n",
              "if (outputEl) {{\n",
              "    x.observe(outputEl, {childList: true});\n",
              "}}\n",
              "\n",
              "                        })                };                            </script>        </div>\n",
              "</body>\n",
              "</html>"
            ]
          },
          "metadata": {}
        }
      ],
      "source": [
        "plot_choropleth(df, 'hospital_count')"
      ]
    },
    {
      "cell_type": "code",
      "execution_count": null,
      "metadata": {
        "id": "txafqQjzM9Ze"
      },
      "outputs": [],
      "source": [
        "df.loc[df.msa == 42540, 'lat'] = 41.408970\n",
        "df.loc[df.msa == 42540, 'lon'] = -75.662415"
      ]
    },
    {
      "cell_type": "code",
      "execution_count": null,
      "metadata": {
        "id": "dbwPWwowDjoG"
      },
      "outputs": [],
      "source": [
        "# Adding Lat/Long to into haversine distance\n",
        "\n",
        "from math import radians, cos, sin, asin, sqrt\n",
        "\n",
        "def single_pt_haversine(lat, lng, degrees=True):\n",
        "    \"\"\"\n",
        "    'Single-point' Haversine: Calculates the great circle distance\n",
        "    between a point on Earth and the (0, 0) lat-long coordinate\n",
        "    \"\"\"\n",
        "    r = 6371 # Earth's radius (km). Have r = 3956 if you want miles\n",
        "\n",
        "    # Convert decimal degrees to radians\n",
        "    if degrees:\n",
        "        lat, lng = map(radians, [lat, lng])\n",
        "\n",
        "    # 'Single-point' Haversine formula\n",
        "    a = sin(lat/2)**2 + cos(lat) * sin(lng/2)**2\n",
        "    d = 2 * r * asin(sqrt(a)) \n",
        "\n",
        "    return d\n",
        "\n",
        "df['harvesine_distance'] = [single_pt_haversine(x, y) for x, y in zip(df.lat, df.lon)]\n",
        "# Geohash.encode(df_valid.iloc[0, list(df_valid.columns).index('lat')], df_valid.iloc[0, list(df_valid.columns).index('lon')])"
      ]
    },
    {
      "cell_type": "code",
      "execution_count": null,
      "metadata": {
        "colab": {
          "base_uri": "https://localhost:8080/",
          "height": 49
        },
        "id": "K8mAz3NPLrJe",
        "outputId": "3a7e0a11-1066-40dc-ca70-c5343d04b09e"
      },
      "outputs": [
        {
          "output_type": "execute_result",
          "data": {
            "text/plain": [
              "Empty DataFrame\n",
              "Columns: [msa, lat, lon, CBSA_NAME, FIPS State Code]\n",
              "Index: []"
            ],
            "text/html": [
              "\n",
              "  <div id=\"df-a2a41f1f-9247-4e41-b61d-034ff13e66d2\">\n",
              "    <div class=\"colab-df-container\">\n",
              "      <div>\n",
              "<style scoped>\n",
              "    .dataframe tbody tr th:only-of-type {\n",
              "        vertical-align: middle;\n",
              "    }\n",
              "\n",
              "    .dataframe tbody tr th {\n",
              "        vertical-align: top;\n",
              "    }\n",
              "\n",
              "    .dataframe thead th {\n",
              "        text-align: right;\n",
              "    }\n",
              "</style>\n",
              "<table border=\"1\" class=\"dataframe\">\n",
              "  <thead>\n",
              "    <tr style=\"text-align: right;\">\n",
              "      <th></th>\n",
              "      <th>msa</th>\n",
              "      <th>lat</th>\n",
              "      <th>lon</th>\n",
              "      <th>CBSA_NAME</th>\n",
              "      <th>FIPS State Code</th>\n",
              "    </tr>\n",
              "  </thead>\n",
              "  <tbody>\n",
              "  </tbody>\n",
              "</table>\n",
              "</div>\n",
              "      <button class=\"colab-df-convert\" onclick=\"convertToInteractive('df-a2a41f1f-9247-4e41-b61d-034ff13e66d2')\"\n",
              "              title=\"Convert this dataframe to an interactive table.\"\n",
              "              style=\"display:none;\">\n",
              "        \n",
              "  <svg xmlns=\"http://www.w3.org/2000/svg\" height=\"24px\"viewBox=\"0 0 24 24\"\n",
              "       width=\"24px\">\n",
              "    <path d=\"M0 0h24v24H0V0z\" fill=\"none\"/>\n",
              "    <path d=\"M18.56 5.44l.94 2.06.94-2.06 2.06-.94-2.06-.94-.94-2.06-.94 2.06-2.06.94zm-11 1L8.5 8.5l.94-2.06 2.06-.94-2.06-.94L8.5 2.5l-.94 2.06-2.06.94zm10 10l.94 2.06.94-2.06 2.06-.94-2.06-.94-.94-2.06-.94 2.06-2.06.94z\"/><path d=\"M17.41 7.96l-1.37-1.37c-.4-.4-.92-.59-1.43-.59-.52 0-1.04.2-1.43.59L10.3 9.45l-7.72 7.72c-.78.78-.78 2.05 0 2.83L4 21.41c.39.39.9.59 1.41.59.51 0 1.02-.2 1.41-.59l7.78-7.78 2.81-2.81c.8-.78.8-2.07 0-2.86zM5.41 20L4 18.59l7.72-7.72 1.47 1.35L5.41 20z\"/>\n",
              "  </svg>\n",
              "      </button>\n",
              "      \n",
              "  <style>\n",
              "    .colab-df-container {\n",
              "      display:flex;\n",
              "      flex-wrap:wrap;\n",
              "      gap: 12px;\n",
              "    }\n",
              "\n",
              "    .colab-df-convert {\n",
              "      background-color: #E8F0FE;\n",
              "      border: none;\n",
              "      border-radius: 50%;\n",
              "      cursor: pointer;\n",
              "      display: none;\n",
              "      fill: #1967D2;\n",
              "      height: 32px;\n",
              "      padding: 0 0 0 0;\n",
              "      width: 32px;\n",
              "    }\n",
              "\n",
              "    .colab-df-convert:hover {\n",
              "      background-color: #E2EBFA;\n",
              "      box-shadow: 0px 1px 2px rgba(60, 64, 67, 0.3), 0px 1px 3px 1px rgba(60, 64, 67, 0.15);\n",
              "      fill: #174EA6;\n",
              "    }\n",
              "\n",
              "    [theme=dark] .colab-df-convert {\n",
              "      background-color: #3B4455;\n",
              "      fill: #D2E3FC;\n",
              "    }\n",
              "\n",
              "    [theme=dark] .colab-df-convert:hover {\n",
              "      background-color: #434B5C;\n",
              "      box-shadow: 0px 1px 3px 1px rgba(0, 0, 0, 0.15);\n",
              "      filter: drop-shadow(0px 1px 2px rgba(0, 0, 0, 0.3));\n",
              "      fill: #FFFFFF;\n",
              "    }\n",
              "  </style>\n",
              "\n",
              "      <script>\n",
              "        const buttonEl =\n",
              "          document.querySelector('#df-a2a41f1f-9247-4e41-b61d-034ff13e66d2 button.colab-df-convert');\n",
              "        buttonEl.style.display =\n",
              "          google.colab.kernel.accessAllowed ? 'block' : 'none';\n",
              "\n",
              "        async function convertToInteractive(key) {\n",
              "          const element = document.querySelector('#df-a2a41f1f-9247-4e41-b61d-034ff13e66d2');\n",
              "          const dataTable =\n",
              "            await google.colab.kernel.invokeFunction('convertToInteractive',\n",
              "                                                     [key], {});\n",
              "          if (!dataTable) return;\n",
              "\n",
              "          const docLinkHtml = 'Like what you see? Visit the ' +\n",
              "            '<a target=\"_blank\" href=https://colab.research.google.com/notebooks/data_table.ipynb>data table notebook</a>'\n",
              "            + ' to learn more about interactive tables.';\n",
              "          element.innerHTML = '';\n",
              "          dataTable['output_type'] = 'display_data';\n",
              "          await google.colab.output.renderOutput(dataTable, element);\n",
              "          const docLink = document.createElement('div');\n",
              "          docLink.innerHTML = docLinkHtml;\n",
              "          element.appendChild(docLink);\n",
              "        }\n",
              "      </script>\n",
              "    </div>\n",
              "  </div>\n",
              "  "
            ]
          },
          "metadata": {},
          "execution_count": 18
        }
      ],
      "source": [
        "df[pd.isna(df['harvesine_distance'])][['msa', 'lat', 'lon', 'CBSA_NAME', 'FIPS State Code']]"
      ]
    },
    {
      "cell_type": "code",
      "execution_count": null,
      "metadata": {
        "id": "kK0wfygRVX2H"
      },
      "outputs": [],
      "source": [
        "df = df[ (df.priv_pay_mean >0) | (df['priv_pay_mean'].isna())]"
      ]
    },
    {
      "cell_type": "code",
      "execution_count": null,
      "metadata": {
        "colab": {
          "base_uri": "https://localhost:8080/"
        },
        "id": "V_PBe8v4OUDo",
        "outputId": "9d15811f-e88b-40b9-fc81-86b54754be85"
      },
      "outputs": [
        {
          "output_type": "execute_result",
          "data": {
            "text/plain": [
              "Outpatient    60982\n",
              "Inpatient     60972\n",
              "ASC           10984\n",
              "Name: site, dtype: int64"
            ]
          },
          "metadata": {},
          "execution_count": 20
        }
      ],
      "source": [
        "df.site.value_counts()"
      ]
    },
    {
      "cell_type": "code",
      "execution_count": null,
      "metadata": {
        "colab": {
          "base_uri": "https://localhost:8080/"
        },
        "id": "cI9oUMmXOUFp",
        "outputId": "ae9f9d04-dcfa-4712-f556-f944b5d076e0"
      },
      "outputs": [
        {
          "output_type": "stream",
          "name": "stderr",
          "text": [
            "<ipython-input-21-9a53d6b92b58>:2: SettingWithCopyWarning:\n",
            "\n",
            "\n",
            "A value is trying to be set on a copy of a slice from a DataFrame.\n",
            "Try using .loc[row_indexer,col_indexer] = value instead\n",
            "\n",
            "See the caveats in the documentation: https://pandas.pydata.org/pandas-docs/stable/user_guide/indexing.html#returning-a-view-versus-a-copy\n",
            "\n"
          ]
        },
        {
          "output_type": "execute_result",
          "data": {
            "text/plain": [
              "1    121954\n",
              "0     10984\n",
              "Name: site_weight, dtype: int64"
            ]
          },
          "metadata": {},
          "execution_count": 21
        }
      ],
      "source": [
        "#Since ASC has to be less than outpatient and Inpatient, Assigning  weight 0 to ASC and 1 to other groups.\n",
        "df['site_weight']  = 1\n",
        "df.loc[df['site'] == 'ASC', 'site_weight'] = 0\n",
        "df.site_weight.value_counts()"
      ]
    },
    {
      "cell_type": "code",
      "execution_count": null,
      "metadata": {
        "colab": {
          "base_uri": "https://localhost:8080/"
        },
        "id": "9DX9qnSvF7IO",
        "outputId": "f98508bf-cb91-4a88-d0c8-65e338422a8d"
      },
      "outputs": [
        {
          "output_type": "execute_result",
          "data": {
            "text/plain": [
              "(19996, 4)"
            ]
          },
          "metadata": {},
          "execution_count": 22
        }
      ],
      "source": [
        "#Check for ASC payment > Inpatient payment\n",
        "df_inpatient = df[ (df['site'] == 'Inpatient') & (~df['priv_pay_mean'].isna())].groupby(['msa','group','year'])['priv_pay_mean'].min().reset_index()\n",
        "df_inpatient.shape"
      ]
    },
    {
      "cell_type": "code",
      "execution_count": null,
      "metadata": {
        "colab": {
          "base_uri": "https://localhost:8080/",
          "height": 206
        },
        "id": "K1hTSWBvHCGo",
        "outputId": "cb4d1479-3238-413f-be59-ba92ba4ad951"
      },
      "outputs": [
        {
          "output_type": "execute_result",
          "data": {
            "text/plain": [
              "     msa            group  year  min_inpatient_pay\n",
              "0  10180        ankle_fix  2018        50892.66000\n",
              "1  10180  ant_cerv_fusion  2018        71236.01333\n",
              "2  10180  ant_cerv_fusion  2019        62690.41000\n",
              "3  10180  ant_cerv_fusion  2020        78303.19500\n",
              "4  10180   ant_tls_fusion  2018        35398.22000"
            ],
            "text/html": [
              "\n",
              "  <div id=\"df-ab56c8e2-f06b-48bd-bd4b-69faa4e6b0ec\">\n",
              "    <div class=\"colab-df-container\">\n",
              "      <div>\n",
              "<style scoped>\n",
              "    .dataframe tbody tr th:only-of-type {\n",
              "        vertical-align: middle;\n",
              "    }\n",
              "\n",
              "    .dataframe tbody tr th {\n",
              "        vertical-align: top;\n",
              "    }\n",
              "\n",
              "    .dataframe thead th {\n",
              "        text-align: right;\n",
              "    }\n",
              "</style>\n",
              "<table border=\"1\" class=\"dataframe\">\n",
              "  <thead>\n",
              "    <tr style=\"text-align: right;\">\n",
              "      <th></th>\n",
              "      <th>msa</th>\n",
              "      <th>group</th>\n",
              "      <th>year</th>\n",
              "      <th>min_inpatient_pay</th>\n",
              "    </tr>\n",
              "  </thead>\n",
              "  <tbody>\n",
              "    <tr>\n",
              "      <th>0</th>\n",
              "      <td>10180</td>\n",
              "      <td>ankle_fix</td>\n",
              "      <td>2018</td>\n",
              "      <td>50892.66000</td>\n",
              "    </tr>\n",
              "    <tr>\n",
              "      <th>1</th>\n",
              "      <td>10180</td>\n",
              "      <td>ant_cerv_fusion</td>\n",
              "      <td>2018</td>\n",
              "      <td>71236.01333</td>\n",
              "    </tr>\n",
              "    <tr>\n",
              "      <th>2</th>\n",
              "      <td>10180</td>\n",
              "      <td>ant_cerv_fusion</td>\n",
              "      <td>2019</td>\n",
              "      <td>62690.41000</td>\n",
              "    </tr>\n",
              "    <tr>\n",
              "      <th>3</th>\n",
              "      <td>10180</td>\n",
              "      <td>ant_cerv_fusion</td>\n",
              "      <td>2020</td>\n",
              "      <td>78303.19500</td>\n",
              "    </tr>\n",
              "    <tr>\n",
              "      <th>4</th>\n",
              "      <td>10180</td>\n",
              "      <td>ant_tls_fusion</td>\n",
              "      <td>2018</td>\n",
              "      <td>35398.22000</td>\n",
              "    </tr>\n",
              "  </tbody>\n",
              "</table>\n",
              "</div>\n",
              "      <button class=\"colab-df-convert\" onclick=\"convertToInteractive('df-ab56c8e2-f06b-48bd-bd4b-69faa4e6b0ec')\"\n",
              "              title=\"Convert this dataframe to an interactive table.\"\n",
              "              style=\"display:none;\">\n",
              "        \n",
              "  <svg xmlns=\"http://www.w3.org/2000/svg\" height=\"24px\"viewBox=\"0 0 24 24\"\n",
              "       width=\"24px\">\n",
              "    <path d=\"M0 0h24v24H0V0z\" fill=\"none\"/>\n",
              "    <path d=\"M18.56 5.44l.94 2.06.94-2.06 2.06-.94-2.06-.94-.94-2.06-.94 2.06-2.06.94zm-11 1L8.5 8.5l.94-2.06 2.06-.94-2.06-.94L8.5 2.5l-.94 2.06-2.06.94zm10 10l.94 2.06.94-2.06 2.06-.94-2.06-.94-.94-2.06-.94 2.06-2.06.94z\"/><path d=\"M17.41 7.96l-1.37-1.37c-.4-.4-.92-.59-1.43-.59-.52 0-1.04.2-1.43.59L10.3 9.45l-7.72 7.72c-.78.78-.78 2.05 0 2.83L4 21.41c.39.39.9.59 1.41.59.51 0 1.02-.2 1.41-.59l7.78-7.78 2.81-2.81c.8-.78.8-2.07 0-2.86zM5.41 20L4 18.59l7.72-7.72 1.47 1.35L5.41 20z\"/>\n",
              "  </svg>\n",
              "      </button>\n",
              "      \n",
              "  <style>\n",
              "    .colab-df-container {\n",
              "      display:flex;\n",
              "      flex-wrap:wrap;\n",
              "      gap: 12px;\n",
              "    }\n",
              "\n",
              "    .colab-df-convert {\n",
              "      background-color: #E8F0FE;\n",
              "      border: none;\n",
              "      border-radius: 50%;\n",
              "      cursor: pointer;\n",
              "      display: none;\n",
              "      fill: #1967D2;\n",
              "      height: 32px;\n",
              "      padding: 0 0 0 0;\n",
              "      width: 32px;\n",
              "    }\n",
              "\n",
              "    .colab-df-convert:hover {\n",
              "      background-color: #E2EBFA;\n",
              "      box-shadow: 0px 1px 2px rgba(60, 64, 67, 0.3), 0px 1px 3px 1px rgba(60, 64, 67, 0.15);\n",
              "      fill: #174EA6;\n",
              "    }\n",
              "\n",
              "    [theme=dark] .colab-df-convert {\n",
              "      background-color: #3B4455;\n",
              "      fill: #D2E3FC;\n",
              "    }\n",
              "\n",
              "    [theme=dark] .colab-df-convert:hover {\n",
              "      background-color: #434B5C;\n",
              "      box-shadow: 0px 1px 3px 1px rgba(0, 0, 0, 0.15);\n",
              "      filter: drop-shadow(0px 1px 2px rgba(0, 0, 0, 0.3));\n",
              "      fill: #FFFFFF;\n",
              "    }\n",
              "  </style>\n",
              "\n",
              "      <script>\n",
              "        const buttonEl =\n",
              "          document.querySelector('#df-ab56c8e2-f06b-48bd-bd4b-69faa4e6b0ec button.colab-df-convert');\n",
              "        buttonEl.style.display =\n",
              "          google.colab.kernel.accessAllowed ? 'block' : 'none';\n",
              "\n",
              "        async function convertToInteractive(key) {\n",
              "          const element = document.querySelector('#df-ab56c8e2-f06b-48bd-bd4b-69faa4e6b0ec');\n",
              "          const dataTable =\n",
              "            await google.colab.kernel.invokeFunction('convertToInteractive',\n",
              "                                                     [key], {});\n",
              "          if (!dataTable) return;\n",
              "\n",
              "          const docLinkHtml = 'Like what you see? Visit the ' +\n",
              "            '<a target=\"_blank\" href=https://colab.research.google.com/notebooks/data_table.ipynb>data table notebook</a>'\n",
              "            + ' to learn more about interactive tables.';\n",
              "          element.innerHTML = '';\n",
              "          dataTable['output_type'] = 'display_data';\n",
              "          await google.colab.output.renderOutput(dataTable, element);\n",
              "          const docLink = document.createElement('div');\n",
              "          docLink.innerHTML = docLinkHtml;\n",
              "          element.appendChild(docLink);\n",
              "        }\n",
              "      </script>\n",
              "    </div>\n",
              "  </div>\n",
              "  "
            ]
          },
          "metadata": {},
          "execution_count": 23
        }
      ],
      "source": [
        "df_inpatient.columns = ['msa', 'group', 'year', 'min_inpatient_pay']\n",
        "df_inpatient.head()"
      ]
    },
    {
      "cell_type": "code",
      "execution_count": null,
      "metadata": {
        "colab": {
          "base_uri": "https://localhost:8080/"
        },
        "id": "uEiAZdAQHRQO",
        "outputId": "686e80ab-b263-459b-cba6-d8561a060261"
      },
      "outputs": [
        {
          "output_type": "execute_result",
          "data": {
            "text/plain": [
              "(215, 107)"
            ]
          },
          "metadata": {},
          "execution_count": 24
        }
      ],
      "source": [
        "df = pd.merge(df, df_inpatient, on = ['msa', 'group', 'year'], how='left')\n",
        "df[ (~df['priv_pay_mean'].isna()) & (df.priv_pay_mean > df.min_inpatient_pay) & (df.site == 'ASC')].shape\n",
        "## 215 rows have ASC > Inpatient"
      ]
    },
    {
      "cell_type": "code",
      "execution_count": null,
      "metadata": {
        "colab": {
          "base_uri": "https://localhost:8080/"
        },
        "id": "whuy51GcIjUY",
        "outputId": "d38f3359-e9f3-4864-fd4a-b999ad221e61"
      },
      "outputs": [
        {
          "output_type": "execute_result",
          "data": {
            "text/plain": [
              "(0, 107)"
            ]
          },
          "metadata": {},
          "execution_count": 25
        }
      ],
      "source": [
        "df.loc[ (~df['priv_pay_mean'].isna()) & (df.priv_pay_mean > df.min_inpatient_pay) & (df.site == 'ASC'), 'priv_pay_mean'] = \\\n",
        "df.loc[ (~df['priv_pay_mean'].isna()) & (df.priv_pay_mean > df.min_inpatient_pay) & (df.site == 'ASC'), 'min_inpatient_pay']\n",
        "\n",
        "df[ (~df['priv_pay_mean'].isna()) & (df.priv_pay_mean > df.min_inpatient_pay) & (df.site == 'ASC')].shape"
      ]
    },
    {
      "cell_type": "code",
      "execution_count": null,
      "metadata": {
        "colab": {
          "base_uri": "https://localhost:8080/"
        },
        "id": "liCLEuxtDthn",
        "outputId": "e1caefee-8600-4b18-8a4a-57ce1047e841"
      },
      "outputs": [
        {
          "output_type": "execute_result",
          "data": {
            "text/plain": [
              "(54183, 107)"
            ]
          },
          "metadata": {},
          "execution_count": 26
        }
      ],
      "source": [
        "df_valid = df[~df['priv_pay_mean'].isna()]\n",
        "df_valid.shape\n",
        "## Nearly 60% target is missing"
      ]
    },
    {
      "cell_type": "code",
      "execution_count": null,
      "metadata": {
        "colab": {
          "base_uri": "https://localhost:8080/"
        },
        "id": "VAnzUHZ0DjwG",
        "outputId": "c3cad405-2f12-48fe-e8b9-55238dd8f63c"
      },
      "outputs": [
        {
          "output_type": "execute_result",
          "data": {
            "text/plain": [
              "48"
            ]
          },
          "metadata": {},
          "execution_count": 27
        }
      ],
      "source": [
        "df_valid.group.nunique()\n",
        "# 3 groups and proccedure types missing. Cannot be predicted."
      ]
    },
    {
      "cell_type": "code",
      "source": [
        "## fetching procedure level data\n",
        "df_cluster = pd.read_csv('/content/drive/MyDrive/discharge_physpec_categorised.csv')\n",
        "df_cluster = df_cluster[~((df_cluster.group == 'lung ablation') & (df_cluster.phy_spec == 'HOSPITALIST\\xa0(HOS)'))]\n",
        "df_cluster = df_cluster[['group', 'pat_cost', 'discharge_to_home_pct', 'phy_spec',\n",
        "       'IP_pct', 'discharge_category_dbscan', 'discharge_category_kmedoids']]\n",
        "df_cluster.drop_duplicates(inplace = True)\n",
        "df_cluster.reset_index(inplace = True, drop = True)\n",
        "print(df_cluster.shape)\n",
        "print(df_cluster.group.nunique())"
      ],
      "metadata": {
        "colab": {
          "base_uri": "https://localhost:8080/"
        },
        "id": "xQjrwG-6JB-x",
        "outputId": "67736205-f8f0-45f4-fc87-22ccd87870f0"
      },
      "execution_count": null,
      "outputs": [
        {
          "output_type": "stream",
          "name": "stdout",
          "text": [
            "(48, 7)\n",
            "48\n"
          ]
        }
      ]
    },
    {
      "cell_type": "code",
      "source": [
        "df_cluster.head()"
      ],
      "metadata": {
        "colab": {
          "base_uri": "https://localhost:8080/",
          "height": 206
        },
        "id": "W3v9pRT-Ty51",
        "outputId": "1018a36d-08cc-4c76-c0b1-1d23a38d0425"
      },
      "execution_count": null,
      "outputs": [
        {
          "output_type": "execute_result",
          "data": {
            "text/plain": [
              "                   group    pat_cost  discharge_to_home_pct  \\\n",
              "0              ankle_fix  16741.5136               0.621714   \n",
              "1        ant_cerv_fusion  18848.1697               0.846973   \n",
              "2         ant_tls_fusion  49478.1242               0.596666   \n",
              "3              bariatric  14585.5550               0.945035   \n",
              "4  breast reconstruction  13690.8043               0.929970   \n",
              "\n",
              "                    phy_spec    IP_pct  discharge_category_dbscan  \\\n",
              "0   ORTHOPEDIC SURGERY (ORS)  0.542798                          0   \n",
              "1  NEUROLOGICAL SURGERY (NS)  0.575495                         -1   \n",
              "2   ORTHOPEDIC SURGERY (ORS)  0.983543                          0   \n",
              "3       GENERAL SURGERY (GS)  0.911311                          1   \n",
              "4       PLASTIC SURGERY (PS)  0.246127                         -1   \n",
              "\n",
              "   discharge_category_kmedoids  \n",
              "0                            0  \n",
              "1                            3  \n",
              "2                            2  \n",
              "3                            3  \n",
              "4                            0  "
            ],
            "text/html": [
              "\n",
              "  <div id=\"df-00514a9d-9293-4203-bc10-46fbaf5fa094\">\n",
              "    <div class=\"colab-df-container\">\n",
              "      <div>\n",
              "<style scoped>\n",
              "    .dataframe tbody tr th:only-of-type {\n",
              "        vertical-align: middle;\n",
              "    }\n",
              "\n",
              "    .dataframe tbody tr th {\n",
              "        vertical-align: top;\n",
              "    }\n",
              "\n",
              "    .dataframe thead th {\n",
              "        text-align: right;\n",
              "    }\n",
              "</style>\n",
              "<table border=\"1\" class=\"dataframe\">\n",
              "  <thead>\n",
              "    <tr style=\"text-align: right;\">\n",
              "      <th></th>\n",
              "      <th>group</th>\n",
              "      <th>pat_cost</th>\n",
              "      <th>discharge_to_home_pct</th>\n",
              "      <th>phy_spec</th>\n",
              "      <th>IP_pct</th>\n",
              "      <th>discharge_category_dbscan</th>\n",
              "      <th>discharge_category_kmedoids</th>\n",
              "    </tr>\n",
              "  </thead>\n",
              "  <tbody>\n",
              "    <tr>\n",
              "      <th>0</th>\n",
              "      <td>ankle_fix</td>\n",
              "      <td>16741.5136</td>\n",
              "      <td>0.621714</td>\n",
              "      <td>ORTHOPEDIC SURGERY (ORS)</td>\n",
              "      <td>0.542798</td>\n",
              "      <td>0</td>\n",
              "      <td>0</td>\n",
              "    </tr>\n",
              "    <tr>\n",
              "      <th>1</th>\n",
              "      <td>ant_cerv_fusion</td>\n",
              "      <td>18848.1697</td>\n",
              "      <td>0.846973</td>\n",
              "      <td>NEUROLOGICAL SURGERY (NS)</td>\n",
              "      <td>0.575495</td>\n",
              "      <td>-1</td>\n",
              "      <td>3</td>\n",
              "    </tr>\n",
              "    <tr>\n",
              "      <th>2</th>\n",
              "      <td>ant_tls_fusion</td>\n",
              "      <td>49478.1242</td>\n",
              "      <td>0.596666</td>\n",
              "      <td>ORTHOPEDIC SURGERY (ORS)</td>\n",
              "      <td>0.983543</td>\n",
              "      <td>0</td>\n",
              "      <td>2</td>\n",
              "    </tr>\n",
              "    <tr>\n",
              "      <th>3</th>\n",
              "      <td>bariatric</td>\n",
              "      <td>14585.5550</td>\n",
              "      <td>0.945035</td>\n",
              "      <td>GENERAL SURGERY (GS)</td>\n",
              "      <td>0.911311</td>\n",
              "      <td>1</td>\n",
              "      <td>3</td>\n",
              "    </tr>\n",
              "    <tr>\n",
              "      <th>4</th>\n",
              "      <td>breast reconstruction</td>\n",
              "      <td>13690.8043</td>\n",
              "      <td>0.929970</td>\n",
              "      <td>PLASTIC SURGERY (PS)</td>\n",
              "      <td>0.246127</td>\n",
              "      <td>-1</td>\n",
              "      <td>0</td>\n",
              "    </tr>\n",
              "  </tbody>\n",
              "</table>\n",
              "</div>\n",
              "      <button class=\"colab-df-convert\" onclick=\"convertToInteractive('df-00514a9d-9293-4203-bc10-46fbaf5fa094')\"\n",
              "              title=\"Convert this dataframe to an interactive table.\"\n",
              "              style=\"display:none;\">\n",
              "        \n",
              "  <svg xmlns=\"http://www.w3.org/2000/svg\" height=\"24px\"viewBox=\"0 0 24 24\"\n",
              "       width=\"24px\">\n",
              "    <path d=\"M0 0h24v24H0V0z\" fill=\"none\"/>\n",
              "    <path d=\"M18.56 5.44l.94 2.06.94-2.06 2.06-.94-2.06-.94-.94-2.06-.94 2.06-2.06.94zm-11 1L8.5 8.5l.94-2.06 2.06-.94-2.06-.94L8.5 2.5l-.94 2.06-2.06.94zm10 10l.94 2.06.94-2.06 2.06-.94-2.06-.94-.94-2.06-.94 2.06-2.06.94z\"/><path d=\"M17.41 7.96l-1.37-1.37c-.4-.4-.92-.59-1.43-.59-.52 0-1.04.2-1.43.59L10.3 9.45l-7.72 7.72c-.78.78-.78 2.05 0 2.83L4 21.41c.39.39.9.59 1.41.59.51 0 1.02-.2 1.41-.59l7.78-7.78 2.81-2.81c.8-.78.8-2.07 0-2.86zM5.41 20L4 18.59l7.72-7.72 1.47 1.35L5.41 20z\"/>\n",
              "  </svg>\n",
              "      </button>\n",
              "      \n",
              "  <style>\n",
              "    .colab-df-container {\n",
              "      display:flex;\n",
              "      flex-wrap:wrap;\n",
              "      gap: 12px;\n",
              "    }\n",
              "\n",
              "    .colab-df-convert {\n",
              "      background-color: #E8F0FE;\n",
              "      border: none;\n",
              "      border-radius: 50%;\n",
              "      cursor: pointer;\n",
              "      display: none;\n",
              "      fill: #1967D2;\n",
              "      height: 32px;\n",
              "      padding: 0 0 0 0;\n",
              "      width: 32px;\n",
              "    }\n",
              "\n",
              "    .colab-df-convert:hover {\n",
              "      background-color: #E2EBFA;\n",
              "      box-shadow: 0px 1px 2px rgba(60, 64, 67, 0.3), 0px 1px 3px 1px rgba(60, 64, 67, 0.15);\n",
              "      fill: #174EA6;\n",
              "    }\n",
              "\n",
              "    [theme=dark] .colab-df-convert {\n",
              "      background-color: #3B4455;\n",
              "      fill: #D2E3FC;\n",
              "    }\n",
              "\n",
              "    [theme=dark] .colab-df-convert:hover {\n",
              "      background-color: #434B5C;\n",
              "      box-shadow: 0px 1px 3px 1px rgba(0, 0, 0, 0.15);\n",
              "      filter: drop-shadow(0px 1px 2px rgba(0, 0, 0, 0.3));\n",
              "      fill: #FFFFFF;\n",
              "    }\n",
              "  </style>\n",
              "\n",
              "      <script>\n",
              "        const buttonEl =\n",
              "          document.querySelector('#df-00514a9d-9293-4203-bc10-46fbaf5fa094 button.colab-df-convert');\n",
              "        buttonEl.style.display =\n",
              "          google.colab.kernel.accessAllowed ? 'block' : 'none';\n",
              "\n",
              "        async function convertToInteractive(key) {\n",
              "          const element = document.querySelector('#df-00514a9d-9293-4203-bc10-46fbaf5fa094');\n",
              "          const dataTable =\n",
              "            await google.colab.kernel.invokeFunction('convertToInteractive',\n",
              "                                                     [key], {});\n",
              "          if (!dataTable) return;\n",
              "\n",
              "          const docLinkHtml = 'Like what you see? Visit the ' +\n",
              "            '<a target=\"_blank\" href=https://colab.research.google.com/notebooks/data_table.ipynb>data table notebook</a>'\n",
              "            + ' to learn more about interactive tables.';\n",
              "          element.innerHTML = '';\n",
              "          dataTable['output_type'] = 'display_data';\n",
              "          await google.colab.output.renderOutput(dataTable, element);\n",
              "          const docLink = document.createElement('div');\n",
              "          docLink.innerHTML = docLinkHtml;\n",
              "          element.appendChild(docLink);\n",
              "        }\n",
              "      </script>\n",
              "    </div>\n",
              "  </div>\n",
              "  "
            ]
          },
          "metadata": {},
          "execution_count": 29
        }
      ]
    },
    {
      "cell_type": "code",
      "source": [
        "print(df.shape)\n",
        "print(df.group.nunique())"
      ],
      "metadata": {
        "colab": {
          "base_uri": "https://localhost:8080/"
        },
        "id": "SpWa0JusJCAr",
        "outputId": "3df1ae8a-2caf-450a-e38f-f1bf35f9e641"
      },
      "execution_count": null,
      "outputs": [
        {
          "output_type": "stream",
          "name": "stdout",
          "text": [
            "(132938, 107)\n",
            "51\n"
          ]
        }
      ]
    },
    {
      "cell_type": "code",
      "source": [
        "print(pd.merge(df, df_cluster, on = 'group', how = 'inner').shape)\n",
        "print(pd.merge(df, df_cluster, on = 'group', how = 'inner')['group'].nunique())"
      ],
      "metadata": {
        "colab": {
          "base_uri": "https://localhost:8080/"
        },
        "id": "buC-7g_OJ_1P",
        "outputId": "f923a6ce-5151-43cb-9673-445416538198"
      },
      "execution_count": null,
      "outputs": [
        {
          "output_type": "stream",
          "name": "stdout",
          "text": [
            "(126834, 113)\n",
            "48\n"
          ]
        }
      ]
    },
    {
      "cell_type": "code",
      "source": [
        "df_temp = df_cluster.copy()\n",
        "df_temp.columns = ['group_procedure', 'pat_cost', 'discharge_to_home_pct', 'phy_spec',\n",
        "       'IP_pct', 'discharge_category_dbscan', 'discharge_category_kmedoids']\n",
        "\n",
        "df_temp = df_temp[['group_procedure', 'pat_cost', 'discharge_to_home_pct', 'phy_spec',\n",
        "       'IP_pct', 'discharge_category_dbscan', 'discharge_category_kmedoids']]\n",
        "\n",
        "df_temp = df_temp[['group_procedure']]"
      ],
      "metadata": {
        "id": "s6HnEjEPKqXe"
      },
      "execution_count": null,
      "outputs": []
    },
    {
      "cell_type": "code",
      "source": [
        "df_temp.drop_duplicates(inplace = True)\n",
        "df_temp.sort_values(by = 'group_procedure', inplace = True)\n",
        "df_temp.reset_index(inplace = True, drop = True)\n",
        "df_temp.shape\n"
      ],
      "metadata": {
        "colab": {
          "base_uri": "https://localhost:8080/"
        },
        "id": "TID-d6z5RnsQ",
        "outputId": "578d98de-c5ca-44ce-cbaf-0f261234ea97"
      },
      "execution_count": null,
      "outputs": [
        {
          "output_type": "execute_result",
          "data": {
            "text/plain": [
              "(48, 1)"
            ]
          },
          "metadata": {},
          "execution_count": 33
        }
      ]
    },
    {
      "cell_type": "code",
      "source": [
        "df_temp2 = df.copy()\n",
        "df_temp2 = df_temp2[['group']]\n",
        "df_temp2.drop_duplicates(inplace = True)\n",
        "df_temp2.drop_duplicates(inplace = True)\n",
        "df_temp2.sort_values(by = 'group', inplace = True)\n",
        "df_temp2.reset_index(inplace = True, drop = True)\n",
        "df_temp2.shape"
      ],
      "metadata": {
        "colab": {
          "base_uri": "https://localhost:8080/"
        },
        "id": "GYlI4_5hLOLu",
        "outputId": "1fb01bed-9bc0-405d-e699-b3733af2cf31"
      },
      "execution_count": null,
      "outputs": [
        {
          "output_type": "execute_result",
          "data": {
            "text/plain": [
              "(51, 1)"
            ]
          },
          "metadata": {},
          "execution_count": 34
        }
      ]
    },
    {
      "cell_type": "code",
      "source": [
        "print(df.shape)\n",
        "df = pd.merge(df, df_cluster, on = 'group', how = 'inner')\n",
        "print(df.shape)"
      ],
      "metadata": {
        "colab": {
          "base_uri": "https://localhost:8080/"
        },
        "id": "hms_JRUMOz01",
        "outputId": "49350d44-11eb-4141-c75c-ffb594d8d50f"
      },
      "execution_count": null,
      "outputs": [
        {
          "output_type": "stream",
          "name": "stdout",
          "text": [
            "(132938, 107)\n",
            "(126834, 113)\n"
          ]
        }
      ]
    },
    {
      "cell_type": "code",
      "execution_count": null,
      "metadata": {
        "colab": {
          "base_uri": "https://localhost:8080/"
        },
        "outputId": "d112e735-7725-4dfb-e3cc-d62ec44ab47c",
        "id": "tK9Obj_p60J3"
      },
      "outputs": [
        {
          "output_type": "execute_result",
          "data": {
            "text/plain": [
              "(54123, 113)"
            ]
          },
          "metadata": {},
          "execution_count": 36
        }
      ],
      "source": [
        "df_valid = df[~df['priv_pay_mean'].isna()]\n",
        "df_valid.shape\n",
        "## Nearly 60% target is missing"
      ]
    },
    {
      "cell_type": "code",
      "execution_count": null,
      "metadata": {
        "colab": {
          "base_uri": "https://localhost:8080/"
        },
        "outputId": "caa762ab-9c3c-4529-8c24-31f13fb0b740",
        "id": "32TNA0AA60J3"
      },
      "outputs": [
        {
          "output_type": "execute_result",
          "data": {
            "text/plain": [
              "47"
            ]
          },
          "metadata": {},
          "execution_count": 37
        }
      ],
      "source": [
        "df_valid.group.nunique()\n",
        "# 3 groups and proccedure types missing. Cannot be predicted."
      ]
    },
    {
      "cell_type": "code",
      "execution_count": null,
      "metadata": {
        "id": "9aO6yIyx60J4"
      },
      "outputs": [],
      "source": [
        "def get_data_threshold(df, var, thres):\n",
        "  print('There are {} rows and {} unique groups using {} as theshold'.format( df[df[var] > thres].shape[0], \n",
        "                                                                             df[df[var] > thres].group.nunique(), thres ) )"
      ]
    },
    {
      "cell_type": "code",
      "execution_count": null,
      "metadata": {
        "id": "XIbOWO0xIWxE"
      },
      "outputs": [],
      "source": [
        "def get_data_threshold(df, var, thres):\n",
        "  print('There are {} rows and {} unique groups using {} as theshold'.format( df[df[var] > thres].shape[0], \n",
        "                                                                             df[df[var] > thres].group.nunique(), thres ) )"
      ]
    },
    {
      "cell_type": "code",
      "execution_count": null,
      "metadata": {
        "colab": {
          "base_uri": "https://localhost:8080/"
        },
        "id": "kbcejHjyJR-x",
        "outputId": "fa7730a1-be61-479c-b1b1-ed854d0c4437"
      },
      "outputs": [
        {
          "output_type": "stream",
          "name": "stdout",
          "text": [
            "There are 8087 rows and 41 unique groups using 20 as theshold\n",
            "There are 6841 rows and 39 unique groups using 25 as theshold\n",
            "There are 5921 rows and 39 unique groups using 30 as theshold\n",
            "There are 4680 rows and 38 unique groups using 40 as theshold\n",
            "There are 3843 rows and 36 unique groups using 50 as theshold\n",
            "There are 3295 rows and 31 unique groups using 60 as theshold\n"
          ]
        }
      ],
      "source": [
        "get_data_threshold(df_valid, 'priv_count', 20)\n",
        "get_data_threshold(df_valid, 'priv_count', 25)\n",
        "get_data_threshold(df_valid, 'priv_count', 30)\n",
        "get_data_threshold(df_valid, 'priv_count', 40)\n",
        "get_data_threshold(df_valid, 'priv_count', 50)\n",
        "get_data_threshold(df_valid, 'priv_count', 60)"
      ]
    },
    {
      "cell_type": "code",
      "source": [
        "copy_df_valid = df_valid.copy()"
      ],
      "metadata": {
        "id": "JKO1vjxqBkVy"
      },
      "execution_count": null,
      "outputs": []
    },
    {
      "cell_type": "code",
      "execution_count": null,
      "metadata": {
        "colab": {
          "base_uri": "https://localhost:8080/"
        },
        "id": "ojWNLuRRGJfx",
        "outputId": "968fd0e2-3296-4a1c-ca94-7f73f49be066"
      },
      "outputs": [
        {
          "output_type": "stream",
          "name": "stderr",
          "text": [
            "<ipython-input-42-39709cb9c109>:2: UserWarning:\n",
            "\n",
            "Boolean Series key will be reindexed to match DataFrame index.\n",
            "\n"
          ]
        },
        {
          "output_type": "execute_result",
          "data": {
            "text/plain": [
              "(5921, 113)"
            ]
          },
          "metadata": {},
          "execution_count": 42
        }
      ],
      "source": [
        "#slicing the data\n",
        "df_valid = df_valid[df['priv_count'] > 30]\n",
        "df_valid.shape"
      ]
    },
    {
      "cell_type": "code",
      "execution_count": null,
      "metadata": {
        "colab": {
          "base_uri": "https://localhost:8080/",
          "height": 296
        },
        "id": "UtOpDgDdja6k",
        "outputId": "9984e068-c288-4bb6-a020-51f9bdf2e927"
      },
      "outputs": [
        {
          "output_type": "display_data",
          "data": {
            "text/plain": [
              "<Figure size 432x288 with 1 Axes>"
            ],
            "image/png": "[encoded data removed]"
          },
          "metadata": {
            "needs_background": "light"
          }
        }
      ],
      "source": [
        "plt.hist(df_valid.priv_pay_mean, bins=15, ec=\"black\", alpha=0.8)\n",
        "plt.xlabel('Overall Payout')\n",
        "plt.ylabel('Count')\n",
        "plt.title('Histogram of Overall Payout', fontsize = 14)\n",
        "plt.grid('both', linestyle='dashed', alpha=0.2)\n",
        "plt.show() "
      ]
    },
    {
      "cell_type": "code",
      "execution_count": null,
      "metadata": {
        "colab": {
          "base_uri": "https://localhost:8080/",
          "height": 296
        },
        "id": "zdM5ZsFYja8i",
        "outputId": "1ab21e9e-8282-4a2b-aebc-9c45f4308124"
      },
      "outputs": [
        {
          "output_type": "display_data",
          "data": {
            "text/plain": [
              "<Figure size 432x288 with 1 Axes>"
            ],
            "image/png": "[encoded data removed]"
          },
          "metadata": {
            "needs_background": "light"
          }
        }
      ],
      "source": [
        "df_valid['bc_priv_pay_mean'] = stats.boxcox(df_valid['priv_pay_mean'])[0]\n",
        "\n",
        "plt.hist(df_valid.bc_priv_pay_mean, bins=15, ec=\"black\", alpha=0.8)\n",
        "plt.xlabel('Overall Payout')\n",
        "plt.ylabel('Count')\n",
        "plt.title('Histogram of Overall Box Cox Transformed Payout', fontsize = 14)\n",
        "plt.grid('both', linestyle='dashed', alpha=0.2)\n",
        "plt.show() "
      ]
    },
    {
      "cell_type": "code",
      "execution_count": null,
      "metadata": {
        "colab": {
          "base_uri": "https://localhost:8080/",
          "height": 296
        },
        "id": "1UTKiJD0ja-a",
        "outputId": "690cbcea-06e8-4069-9b3a-b2f89fe58802"
      },
      "outputs": [
        {
          "output_type": "display_data",
          "data": {
            "text/plain": [
              "<Figure size 432x288 with 1 Axes>"
            ],
            "image/png": "[encoded data removed]"
          },
          "metadata": {
            "needs_background": "light"
          }
        }
      ],
      "source": [
        "df_valid['log_priv_pay_mean'] = np.log(df_valid['priv_pay_mean'])\n",
        "\n",
        "plt.hist(df_valid.log_priv_pay_mean, bins=15, ec=\"black\", alpha=0.8)\n",
        "plt.xlabel('Overall Payout')\n",
        "plt.ylabel('Count')\n",
        "plt.title('Histogram of Log Transformed Payout', fontsize = 14)\n",
        "plt.grid('both', linestyle='dashed', alpha=0.2)\n",
        "plt.show() "
      ]
    },
    {
      "cell_type": "code",
      "execution_count": null,
      "metadata": {
        "colab": {
          "base_uri": "https://localhost:8080/"
        },
        "id": "U_bIonIjU2DK",
        "outputId": "52e0785e-bc82-46fc-b3f6-3c5bf525aab9"
      },
      "outputs": [
        {
          "output_type": "execute_result",
          "data": {
            "text/plain": [
              "25"
            ]
          },
          "metadata": {},
          "execution_count": 46
        }
      ],
      "source": [
        "## numerical features\n",
        "num_features = [\n",
        "'site_weight',\n",
        "'year',  \n",
        "'priv_count', \n",
        "#'mcare_pay_median',\n",
        "'ownership_FEDERAL_median','ownership_HOSPITAL DISTRICT OR AUTHORITY_median','ownership_LOCAL_median', 'ownership_OTHER (SPECIFY)_median',\n",
        "'ownership_PHYSICIAN OWNERSHIP_median', 'ownership_PRIVATE (FOR PROFIT)_median', 'ownership_PRIVATE (NOT FOR PROFIT)_median', 'ownership_STATE_median',\n",
        "'ownership_TRIBAL_median', 'urban_rural_URBAN_median',\n",
        "'teaching_YES_median',\n",
        "'hospital_count', \n",
        "'avg_income_2020',\n",
        "'population_estimate_2020', \n",
        "'Life Expectancy', \n",
        "'harvesine_distance',\n",
        "'Covid_payment_median', \n",
        "'beds_grp_median','beds_grp_greater_500_median',\n",
        "'pat_cost', \n",
        "'discharge_to_home_pct',\n",
        "'IP_pct'\n",
        "]\n",
        "len(num_features)"
      ]
    },
    {
      "cell_type": "code",
      "execution_count": null,
      "metadata": {
        "id": "tEeQKG7WU2Fb"
      },
      "outputs": [],
      "source": [
        "## one hot encoded feature\n",
        "ohe_features = ['site', ]\n",
        "## features for which we have applied target encoding\n",
        "tar_enc_features = ['group', 'msa', 'phy_spec']"
      ]
    },
    {
      "cell_type": "code",
      "execution_count": null,
      "metadata": {
        "colab": {
          "base_uri": "https://localhost:8080/"
        },
        "id": "ebRYVBZkc5Ov",
        "outputId": "7a942944-ac33-4988-dbbb-fe638c07ee8c"
      },
      "outputs": [
        {
          "output_type": "execute_result",
          "data": {
            "text/plain": [
              "29"
            ]
          },
          "metadata": {},
          "execution_count": 48
        }
      ],
      "source": [
        "## final features which are 29 in count\n",
        "all_features = num_features + ohe_features + tar_enc_features\n",
        "len(all_features)"
      ]
    },
    {
      "cell_type": "code",
      "source": [
        "df.shape"
      ],
      "metadata": {
        "colab": {
          "base_uri": "https://localhost:8080/"
        },
        "id": "07ih-EiqIIvX",
        "outputId": "4bd986dc-6b39-4862-d75a-0a8df048d95f"
      },
      "execution_count": null,
      "outputs": [
        {
          "output_type": "execute_result",
          "data": {
            "text/plain": [
              "(126834, 113)"
            ]
          },
          "metadata": {},
          "execution_count": 49
        }
      ]
    },
    {
      "cell_type": "markdown",
      "metadata": {
        "id": "8PSSZ4MXu61p"
      },
      "source": [
        "### Data Visualization"
      ]
    },
    {
      "cell_type": "code",
      "execution_count": null,
      "metadata": {
        "colab": {
          "base_uri": "https://localhost:8080/",
          "height": 1000
        },
        "id": "vr5h6Zf5dq4Y",
        "outputId": "c15f0f57-db32-4779-b3f1-cdf804bce498"
      },
      "outputs": [
        {
          "output_type": "display_data",
          "data": {
            "text/plain": [
              "<Figure size 1440x2160 with 24 Axes>"
            ],
            "image/png": "[encoded data removed]"
          },
          "metadata": {
            "needs_background": "light"
          }
        }
      ],
      "source": [
        "### Plotting all the numerical features \n",
        "fig, ax = plt.subplots(8, 3, figsize = (20,30))\n",
        "\n",
        "for col, subplot in zip(num_features, ax.flatten()):\n",
        "    sns.scatterplot(x=col, y=df_valid['log_priv_pay_mean'], data = df_valid[num_features] , ax= subplot)\n",
        "plt.show(fig)"
      ]
    },
    {
      "cell_type": "code",
      "execution_count": null,
      "metadata": {
        "colab": {
          "base_uri": "https://localhost:8080/",
          "height": 581
        },
        "id": "EdObC7WNK-u4",
        "outputId": "4316b5c6-8748-42fe-a02e-e491a9141bcc"
      },
      "outputs": [
        {
          "output_type": "display_data",
          "data": {
            "text/plain": [
              "<Figure size 1800x720 with 1 Axes>"
            ],
            "image/png": "[encoded data removed]"
          },
          "metadata": {
            "needs_background": "light"
          }
        }
      ],
      "source": [
        "## plotting missing values for final dataset i.e df_valid\n",
        "m = []\n",
        "idx = []\n",
        "x = []\n",
        "\n",
        "for id, i in enumerate(df_valid.columns):\n",
        "  percent = df_valid[i].isnull().sum()/len(df_valid)\n",
        "  if percent > 0.01:\n",
        "    idx.append(id)\n",
        "    m.append(percent)\n",
        "\n",
        "for i in idx:\n",
        "  x.append(list(df_valid.columns)[i])\n",
        "\n",
        "plt.figure(figsize=(25,10))\n",
        "plt.bar(x, m, color ='green', width = 0.5)\n",
        "plt.xlabel(\"features\")\n",
        "plt.ylabel(\"Missing %\")\n",
        "plt.title(\"Plot of missing %\")\n",
        "plt.show()"
      ]
    },
    {
      "cell_type": "code",
      "execution_count": null,
      "metadata": {
        "colab": {
          "base_uri": "https://localhost:8080/",
          "height": 424
        },
        "id": "ulyK8yNojMzk",
        "outputId": "d378ac3d-e61b-40ef-f565-2e18a74c13a2"
      },
      "outputs": [
        {
          "output_type": "execute_result",
          "data": {
            "text/plain": [
              "          msa  population_estimate_2020  FIPS State Code\n",
              "89      19124                       NaN               48\n",
              "261     35614                       NaN               34\n",
              "496     19124                       NaN               48\n",
              "667     35614                       NaN               34\n",
              "902     19124                       NaN               48\n",
              "...       ...                       ...              ...\n",
              "126154  23104                       NaN               48\n",
              "126402  47664                       NaN               26\n",
              "126516  19124                       NaN               48\n",
              "126688  35614                       NaN               34\n",
              "126809  47664                       NaN               26\n",
              "\n",
              "[1908 rows x 3 columns]"
            ],
            "text/html": [
              "\n",
              "  <div id=\"df-0a49c427-b571-4f03-9777-9ad61631b5a4\">\n",
              "    <div class=\"colab-df-container\">\n",
              "      <div>\n",
              "<style scoped>\n",
              "    .dataframe tbody tr th:only-of-type {\n",
              "        vertical-align: middle;\n",
              "    }\n",
              "\n",
              "    .dataframe tbody tr th {\n",
              "        vertical-align: top;\n",
              "    }\n",
              "\n",
              "    .dataframe thead th {\n",
              "        text-align: right;\n",
              "    }\n",
              "</style>\n",
              "<table border=\"1\" class=\"dataframe\">\n",
              "  <thead>\n",
              "    <tr style=\"text-align: right;\">\n",
              "      <th></th>\n",
              "      <th>msa</th>\n",
              "      <th>population_estimate_2020</th>\n",
              "      <th>FIPS State Code</th>\n",
              "    </tr>\n",
              "  </thead>\n",
              "  <tbody>\n",
              "    <tr>\n",
              "      <th>89</th>\n",
              "      <td>19124</td>\n",
              "      <td>NaN</td>\n",
              "      <td>48</td>\n",
              "    </tr>\n",
              "    <tr>\n",
              "      <th>261</th>\n",
              "      <td>35614</td>\n",
              "      <td>NaN</td>\n",
              "      <td>34</td>\n",
              "    </tr>\n",
              "    <tr>\n",
              "      <th>496</th>\n",
              "      <td>19124</td>\n",
              "      <td>NaN</td>\n",
              "      <td>48</td>\n",
              "    </tr>\n",
              "    <tr>\n",
              "      <th>667</th>\n",
              "      <td>35614</td>\n",
              "      <td>NaN</td>\n",
              "      <td>34</td>\n",
              "    </tr>\n",
              "    <tr>\n",
              "      <th>902</th>\n",
              "      <td>19124</td>\n",
              "      <td>NaN</td>\n",
              "      <td>48</td>\n",
              "    </tr>\n",
              "    <tr>\n",
              "      <th>...</th>\n",
              "      <td>...</td>\n",
              "      <td>...</td>\n",
              "      <td>...</td>\n",
              "    </tr>\n",
              "    <tr>\n",
              "      <th>126154</th>\n",
              "      <td>23104</td>\n",
              "      <td>NaN</td>\n",
              "      <td>48</td>\n",
              "    </tr>\n",
              "    <tr>\n",
              "      <th>126402</th>\n",
              "      <td>47664</td>\n",
              "      <td>NaN</td>\n",
              "      <td>26</td>\n",
              "    </tr>\n",
              "    <tr>\n",
              "      <th>126516</th>\n",
              "      <td>19124</td>\n",
              "      <td>NaN</td>\n",
              "      <td>48</td>\n",
              "    </tr>\n",
              "    <tr>\n",
              "      <th>126688</th>\n",
              "      <td>35614</td>\n",
              "      <td>NaN</td>\n",
              "      <td>34</td>\n",
              "    </tr>\n",
              "    <tr>\n",
              "      <th>126809</th>\n",
              "      <td>47664</td>\n",
              "      <td>NaN</td>\n",
              "      <td>26</td>\n",
              "    </tr>\n",
              "  </tbody>\n",
              "</table>\n",
              "<p>1908 rows × 3 columns</p>\n",
              "</div>\n",
              "      <button class=\"colab-df-convert\" onclick=\"convertToInteractive('df-0a49c427-b571-4f03-9777-9ad61631b5a4')\"\n",
              "              title=\"Convert this dataframe to an interactive table.\"\n",
              "              style=\"display:none;\">\n",
              "        \n",
              "  <svg xmlns=\"http://www.w3.org/2000/svg\" height=\"24px\"viewBox=\"0 0 24 24\"\n",
              "       width=\"24px\">\n",
              "    <path d=\"M0 0h24v24H0V0z\" fill=\"none\"/>\n",
              "    <path d=\"M18.56 5.44l.94 2.06.94-2.06 2.06-.94-2.06-.94-.94-2.06-.94 2.06-2.06.94zm-11 1L8.5 8.5l.94-2.06 2.06-.94-2.06-.94L8.5 2.5l-.94 2.06-2.06.94zm10 10l.94 2.06.94-2.06 2.06-.94-2.06-.94-.94-2.06-.94 2.06-2.06.94z\"/><path d=\"M17.41 7.96l-1.37-1.37c-.4-.4-.92-.59-1.43-.59-.52 0-1.04.2-1.43.59L10.3 9.45l-7.72 7.72c-.78.78-.78 2.05 0 2.83L4 21.41c.39.39.9.59 1.41.59.51 0 1.02-.2 1.41-.59l7.78-7.78 2.81-2.81c.8-.78.8-2.07 0-2.86zM5.41 20L4 18.59l7.72-7.72 1.47 1.35L5.41 20z\"/>\n",
              "  </svg>\n",
              "      </button>\n",
              "      \n",
              "  <style>\n",
              "    .colab-df-container {\n",
              "      display:flex;\n",
              "      flex-wrap:wrap;\n",
              "      gap: 12px;\n",
              "    }\n",
              "\n",
              "    .colab-df-convert {\n",
              "      background-color: #E8F0FE;\n",
              "      border: none;\n",
              "      border-radius: 50%;\n",
              "      cursor: pointer;\n",
              "      display: none;\n",
              "      fill: #1967D2;\n",
              "      height: 32px;\n",
              "      padding: 0 0 0 0;\n",
              "      width: 32px;\n",
              "    }\n",
              "\n",
              "    .colab-df-convert:hover {\n",
              "      background-color: #E2EBFA;\n",
              "      box-shadow: 0px 1px 2px rgba(60, 64, 67, 0.3), 0px 1px 3px 1px rgba(60, 64, 67, 0.15);\n",
              "      fill: #174EA6;\n",
              "    }\n",
              "\n",
              "    [theme=dark] .colab-df-convert {\n",
              "      background-color: #3B4455;\n",
              "      fill: #D2E3FC;\n",
              "    }\n",
              "\n",
              "    [theme=dark] .colab-df-convert:hover {\n",
              "      background-color: #434B5C;\n",
              "      box-shadow: 0px 1px 3px 1px rgba(0, 0, 0, 0.15);\n",
              "      filter: drop-shadow(0px 1px 2px rgba(0, 0, 0, 0.3));\n",
              "      fill: #FFFFFF;\n",
              "    }\n",
              "  </style>\n",
              "\n",
              "      <script>\n",
              "        const buttonEl =\n",
              "          document.querySelector('#df-0a49c427-b571-4f03-9777-9ad61631b5a4 button.colab-df-convert');\n",
              "        buttonEl.style.display =\n",
              "          google.colab.kernel.accessAllowed ? 'block' : 'none';\n",
              "\n",
              "        async function convertToInteractive(key) {\n",
              "          const element = document.querySelector('#df-0a49c427-b571-4f03-9777-9ad61631b5a4');\n",
              "          const dataTable =\n",
              "            await google.colab.kernel.invokeFunction('convertToInteractive',\n",
              "                                                     [key], {});\n",
              "          if (!dataTable) return;\n",
              "\n",
              "          const docLinkHtml = 'Like what you see? Visit the ' +\n",
              "            '<a target=\"_blank\" href=https://colab.research.google.com/notebooks/data_table.ipynb>data table notebook</a>'\n",
              "            + ' to learn more about interactive tables.';\n",
              "          element.innerHTML = '';\n",
              "          dataTable['output_type'] = 'display_data';\n",
              "          await google.colab.output.renderOutput(dataTable, element);\n",
              "          const docLink = document.createElement('div');\n",
              "          docLink.innerHTML = docLinkHtml;\n",
              "          element.appendChild(docLink);\n",
              "        }\n",
              "      </script>\n",
              "    </div>\n",
              "  </div>\n",
              "  "
            ]
          },
          "metadata": {},
          "execution_count": 52
        }
      ],
      "source": [
        "df_valid[df_valid['population_estimate_2020'].isnull()][['msa', 'population_estimate_2020', 'FIPS State Code']]"
      ]
    },
    {
      "cell_type": "code",
      "execution_count": null,
      "metadata": {
        "colab": {
          "base_uri": "https://localhost:8080/"
        },
        "id": "C4ydE8UfjQSm",
        "outputId": "665ce133-27a1-4aa7-fd11-5c6dd1885b3f"
      },
      "outputs": [
        {
          "output_type": "execute_result",
          "data": {
            "text/plain": [
              "msa                            0\n",
              "year                           0\n",
              "site                           0\n",
              "group                          0\n",
              "priv_count                     0\n",
              "                              ..\n",
              "IP_pct                         0\n",
              "discharge_category_dbscan      0\n",
              "discharge_category_kmedoids    0\n",
              "bc_priv_pay_mean               0\n",
              "log_priv_pay_mean              0\n",
              "Length: 115, dtype: int64"
            ]
          },
          "metadata": {},
          "execution_count": 53
        }
      ],
      "source": [
        "df_valid.isnull().sum()"
      ]
    },
    {
      "cell_type": "code",
      "execution_count": null,
      "metadata": {
        "id": "3qu6GLKpywOB"
      },
      "outputs": [],
      "source": [
        "df_valid = df_valid[~df_valid['teaching_YES_mode_y'].isnull()]"
      ]
    },
    {
      "cell_type": "code",
      "execution_count": null,
      "metadata": {
        "id": "38upf__GxXAk",
        "colab": {
          "base_uri": "https://localhost:8080/"
        },
        "outputId": "4f42083c-8266-414b-a1a1-6b6c94e71d8f"
      },
      "outputs": [
        {
          "output_type": "stream",
          "name": "stderr",
          "text": [
            "<ipython-input-55-ccbdaeb93043>:1: SettingWithCopyWarning:\n",
            "\n",
            "\n",
            "A value is trying to be set on a copy of a slice from a DataFrame.\n",
            "Try using .loc[row_indexer,col_indexer] = value instead\n",
            "\n",
            "See the caveats in the documentation: https://pandas.pydata.org/pandas-docs/stable/user_guide/indexing.html#returning-a-view-versus-a-copy\n",
            "\n",
            "<ipython-input-55-ccbdaeb93043>:2: SettingWithCopyWarning:\n",
            "\n",
            "\n",
            "A value is trying to be set on a copy of a slice from a DataFrame.\n",
            "Try using .loc[row_indexer,col_indexer] = value instead\n",
            "\n",
            "See the caveats in the documentation: https://pandas.pydata.org/pandas-docs/stable/user_guide/indexing.html#returning-a-view-versus-a-copy\n",
            "\n"
          ]
        }
      ],
      "source": [
        "## imputing missing values\n",
        "df_valid['population_estimate_2020'] = df_valid['population_estimate_2020'].fillna(df_valid['population_estimate_2020'].mean())\n",
        "df_valid['avg_income_2020'] = df_valid['avg_income_2020'].fillna(df_valid['avg_income_2020'].mean())"
      ]
    },
    {
      "cell_type": "code",
      "execution_count": null,
      "metadata": {
        "colab": {
          "base_uri": "https://localhost:8080/"
        },
        "id": "af9mEuztCpLp",
        "outputId": "783a8b1a-4088-4c35-c96f-1c0858b706cf"
      },
      "outputs": [
        {
          "output_type": "execute_result",
          "data": {
            "text/plain": [
              "msa                            0\n",
              "year                           0\n",
              "site                           0\n",
              "group                          0\n",
              "priv_count                     0\n",
              "                              ..\n",
              "IP_pct                         0\n",
              "discharge_category_dbscan      0\n",
              "discharge_category_kmedoids    0\n",
              "bc_priv_pay_mean               0\n",
              "log_priv_pay_mean              0\n",
              "Length: 115, dtype: int64"
            ]
          },
          "metadata": {},
          "execution_count": 56
        }
      ],
      "source": [
        "## checking if any column has missing value\n",
        "df_valid.isnull().sum()"
      ]
    },
    {
      "cell_type": "code",
      "source": [
        "df_valid.shape"
      ],
      "metadata": {
        "colab": {
          "base_uri": "https://localhost:8080/"
        },
        "id": "GpESgI_kITAq",
        "outputId": "e8e444c3-3bc9-4a47-f129-c78ecb7c86a9"
      },
      "execution_count": null,
      "outputs": [
        {
          "output_type": "execute_result",
          "data": {
            "text/plain": [
              "(5885, 115)"
            ]
          },
          "metadata": {},
          "execution_count": 57
        }
      ]
    },
    {
      "cell_type": "markdown",
      "metadata": {
        "id": "p3WfFaeyvJmB"
      },
      "source": [
        "### Data Split"
      ]
    },
    {
      "cell_type": "code",
      "execution_count": null,
      "metadata": {
        "colab": {
          "base_uri": "https://localhost:8080/"
        },
        "id": "a74xvt86vfcG",
        "outputId": "29897f0b-f979-4a1d-bcb4-ca38c0246092"
      },
      "outputs": [
        {
          "output_type": "stream",
          "name": "stdout",
          "text": [
            "Looking in indexes: https://pypi.org/simple, https://us-python.pkg.dev/colab-wheels/public/simple/\n",
            "Collecting category_encoders\n",
            "  Downloading category_encoders-2.5.1.post0-py2.py3-none-any.whl (72 kB)\n",
            "\u001b[K     |████████████████████████████████| 72 kB 1.2 MB/s \n",
            "\u001b[?25hRequirement already satisfied: scipy>=1.0.0 in /usr/local/lib/python3.8/dist-packages (from category_encoders) (1.7.3)\n",
            "Requirement already satisfied: pandas>=1.0.5 in /usr/local/lib/python3.8/dist-packages (from category_encoders) (1.3.5)\n",
            "Requirement already satisfied: patsy>=0.5.1 in /usr/local/lib/python3.8/dist-packages (from category_encoders) (0.5.3)\n",
            "Requirement already satisfied: scikit-learn>=0.20.0 in /usr/local/lib/python3.8/dist-packages (from category_encoders) (1.0.2)\n",
            "Requirement already satisfied: statsmodels>=0.9.0 in /usr/local/lib/python3.8/dist-packages (from category_encoders) (0.12.2)\n",
            "Requirement already satisfied: numpy>=1.14.0 in /usr/local/lib/python3.8/dist-packages (from category_encoders) (1.21.6)\n",
            "Requirement already satisfied: pytz>=2017.3 in /usr/local/lib/python3.8/dist-packages (from pandas>=1.0.5->category_encoders) (2022.6)\n",
            "Requirement already satisfied: python-dateutil>=2.7.3 in /usr/local/lib/python3.8/dist-packages (from pandas>=1.0.5->category_encoders) (2.8.2)\n",
            "Requirement already satisfied: six in /usr/local/lib/python3.8/dist-packages (from patsy>=0.5.1->category_encoders) (1.15.0)\n",
            "Requirement already satisfied: joblib>=0.11 in /usr/local/lib/python3.8/dist-packages (from scikit-learn>=0.20.0->category_encoders) (1.2.0)\n",
            "Requirement already satisfied: threadpoolctl>=2.0.0 in /usr/local/lib/python3.8/dist-packages (from scikit-learn>=0.20.0->category_encoders) (3.1.0)\n",
            "Installing collected packages: category-encoders\n",
            "Successfully installed category-encoders-2.5.1.post0\n"
          ]
        }
      ],
      "source": [
        "import sklearn\n",
        "from sklearn.linear_model import LinearRegression\n",
        "from sklearn.pipeline import make_pipeline, FeatureUnion, Pipeline\n",
        "from sklearn.compose import make_column_transformer\n",
        "from sklearn.preprocessing import StandardScaler, OneHotEncoder\n",
        "from sklearn.model_selection import KFold, StratifiedKFold, cross_val_score, GridSearchCV, RandomizedSearchCV\n",
        "from sklearn.tree import DecisionTreeClassifier\n",
        "from sklearn.model_selection import train_test_split\n",
        "!pip install category_encoders\n",
        "from category_encoders import TargetEncoder\n",
        "import time\n",
        "from datetime import timedelta"
      ]
    },
    {
      "cell_type": "code",
      "execution_count": null,
      "metadata": {
        "id": "4lgB6v-8l0Tf"
      },
      "outputs": [],
      "source": [
        "df_valid_X = df_valid[all_features] ## all the features\n",
        "df_valid_y = df_valid['log_priv_pay_mean'] ## target variable"
      ]
    },
    {
      "cell_type": "markdown",
      "metadata": {
        "id": "O33LRqodvOCk"
      },
      "source": [
        "### Model Building"
      ]
    },
    {
      "cell_type": "code",
      "execution_count": null,
      "metadata": {
        "id": "MNZ0j0o8mpE8"
      },
      "outputs": [],
      "source": [
        "##creating pipeline\n",
        "preprocess = make_column_transformer((StandardScaler(), num_features),\n",
        "                                      (OneHotEncoder(handle_unknown = \"ignore\"), ohe_features),\n",
        "                                      (TargetEncoder(handle_unknown = \"ignore\"), tar_enc_features),\n",
        "                                      remainder = 'passthrough'\n",
        "                                     )"
      ]
    },
    {
      "cell_type": "code",
      "execution_count": null,
      "metadata": {
        "id": "U8_X71zIIb41"
      },
      "outputs": [],
      "source": [
        "## defining mape function\n",
        "def mape(pred, actual):\n",
        "  mape = 0\n",
        "  for (p, a) in zip(pred, actual):\n",
        "     mape += abs(p-a)/a\n",
        "  return mape/(1+len(pred)) "
      ]
    },
    {
      "cell_type": "code",
      "execution_count": null,
      "metadata": {
        "id": "RbUVwIwR0zeh"
      },
      "outputs": [],
      "source": [
        "## creating 80/20 split\n",
        "df_valid_X_dev, df_valid_X_test, df_valid_y_dev, df_valid_y_test = train_test_split(df_valid_X, df_valid_y, test_size=0.20, random_state=0)"
      ]
    },
    {
      "cell_type": "markdown",
      "metadata": {
        "id": "Mpwvr0AvKmaV"
      },
      "source": [
        "#### XGBoost + Bayesian Optimization"
      ]
    },
    {
      "cell_type": "code",
      "execution_count": null,
      "metadata": {
        "id": "GzwSGrc8Klxw"
      },
      "outputs": [],
      "source": [
        "from xgboost import XGBRegressor"
      ]
    },
    {
      "cell_type": "code",
      "source": [
        "x = tuple([1] + [0]*28) ## array with all 0s except first element that is 1 for monotonicity constraint for site_weight"
      ],
      "metadata": {
        "id": "EfrmlDo7Htm6"
      },
      "execution_count": null,
      "outputs": []
    },
    {
      "cell_type": "code",
      "source": [
        "from hyperopt import STATUS_OK, Trials, fmin, hp, tpe\n",
        "\n",
        "## defining search space\n",
        "space={'max_depth': hp.quniform(\"max_depth\", 3, 10, 1),\n",
        "        'gamma': hp.uniform ('gamma', 0, 5),\n",
        "        'reg_alpha' : hp.quniform('reg_alpha', 0, 20,1),\n",
        "        'reg_lambda' : hp.uniform('reg_lambda', 0, 1),\n",
        "        'colsample_bytree' : hp.uniform('colsample_bytree', 0.9, 1),\n",
        "        'min_child_weight' : hp.quniform('min_child_weight', 0, 10, 1),\n",
        "        'n_estimators': hp.quniform('n_estimators', 400, 1000, 50),\n",
        "        'seed': 0\n",
        "    }"
      ],
      "metadata": {
        "id": "y4ecRUuzU5AO"
      },
      "execution_count": null,
      "outputs": []
    },
    {
      "cell_type": "code",
      "source": [
        "X_train, y_train = df_valid_X_dev, df_valid_y_dev\n",
        "X_test, y_test = df_valid_X_test, df_valid_y_test\n",
        "train_mape = []\n",
        "test_mape = []\n",
        "def objective(space):\n",
        "\n",
        "  pipe_xgb = make_pipeline(preprocess, XGBRegressor (n_estimators = int(space['n_estimators']), \n",
        "                                                     max_depth = int(space['max_depth']), \n",
        "                                                     gamma = space['gamma'],\n",
        "                                                     reg_alpha = int(space['reg_alpha']),\n",
        "                                                     objective ='reg:squarederror',\n",
        "                                                     monotone = x))\n",
        "  \n",
        "  evaluation = [( X_train, y_train), ( X_test, y_test)]\n",
        "    \n",
        "  pipe_xgb.fit(X_train, y_train)\n",
        "  pred = pipe_xgb.predict(X_test)\n",
        "  m = mape(np.exp(pipe_xgb.predict(df_valid_X_test)), np.exp(df_valid_y_test))\n",
        "  m1 = mape(np.exp(pipe_xgb.predict(df_valid_X_dev)), np.exp(df_valid_y_dev))\n",
        "\n",
        "  m1 = \"{:.3f}\".format(m1)\n",
        "  m = \"{:.3f}\".format(m)\n",
        "  train_mape.append(m1)\n",
        "  test_mape.append(m)\n",
        "\n",
        "  print (\"Train MAPE\", m1, \n",
        "         \"Test MAPE\", m)\n",
        "  return {'loss': m, 'status': STATUS_OK }"
      ],
      "metadata": {
        "id": "OZA-ALmjuVGH"
      },
      "execution_count": null,
      "outputs": []
    },
    {
      "cell_type": "code",
      "source": [
        "trials = Trials()\n",
        "\n",
        "best_hyperparams = fmin(fn = objective,\n",
        "                        space = space,\n",
        "                        algo = tpe.suggest,\n",
        "                        max_evals = 100,\n",
        "                        trials = trials)"
      ],
      "metadata": {
        "colab": {
          "base_uri": "https://localhost:8080/"
        },
        "id": "3ANu1c6hx8YC",
        "outputId": "80e8c648-03aa-41b1-a6db-09119522a733"
      },
      "execution_count": null,
      "outputs": [
        {
          "output_type": "stream",
          "name": "stdout",
          "text": [
            "Train MAPE\n",
            "0.225\n",
            "Test MAPE\n",
            "0.223\n",
            "Train MAPE\n",
            "0.219\n",
            "Test MAPE\n",
            "0.220\n",
            "Train MAPE\n",
            "0.233\n",
            "Test MAPE\n",
            "0.229\n",
            "Train MAPE\n",
            "0.203\n",
            "Test MAPE\n",
            "0.208\n",
            "Train MAPE\n",
            "0.191\n",
            "Test MAPE\n",
            "0.196\n",
            "Train MAPE\n",
            "0.214\n",
            "Test MAPE\n",
            "0.217\n",
            "Train MAPE\n",
            "0.188\n",
            "Test MAPE\n",
            "0.194\n",
            "Train MAPE\n",
            "0.243\n",
            "Test MAPE\n",
            "0.241\n",
            "Train MAPE\n",
            "0.200\n",
            "Test MAPE\n",
            "0.202\n",
            "Train MAPE\n",
            "0.248\n",
            "Test MAPE\n",
            "0.244\n",
            "Train MAPE\n",
            "0.242\n",
            "Test MAPE\n",
            "0.239\n",
            "Train MAPE\n",
            "0.247\n",
            "Test MAPE\n",
            "0.243\n",
            "Train MAPE\n",
            "0.238\n",
            "Test MAPE\n",
            "0.236\n",
            "Train MAPE\n",
            "0.227\n",
            "Test MAPE\n",
            "0.226\n",
            "Train MAPE\n",
            "0.224\n",
            "Test MAPE\n",
            "0.226\n",
            "Train MAPE\n",
            "0.237\n",
            "Test MAPE\n",
            "0.236\n",
            "Train MAPE\n",
            "0.251\n",
            "Test MAPE\n",
            "0.247\n",
            "Train MAPE\n",
            "0.216\n",
            "Test MAPE\n",
            "0.216\n",
            "Train MAPE\n",
            "0.229\n",
            "Test MAPE\n",
            "0.227\n",
            "Train MAPE\n",
            "0.244\n",
            "Test MAPE\n",
            "0.238\n",
            "Train MAPE\n",
            "0.156\n",
            "Test MAPE\n",
            "0.171\n",
            "Train MAPE\n",
            "0.164\n",
            "Test MAPE\n",
            "0.178\n",
            "Train MAPE\n",
            "0.144\n",
            "Test MAPE\n",
            "0.166\n",
            "Train MAPE\n",
            "0.149\n",
            "Test MAPE\n",
            "0.167\n",
            "Train MAPE\n",
            "0.182\n",
            "Test MAPE\n",
            "0.187\n",
            "Train MAPE\n",
            "0.168\n",
            "Test MAPE\n",
            "0.179\n",
            "Train MAPE\n",
            "0.193\n",
            "Test MAPE\n",
            "0.199\n",
            "Train MAPE\n",
            "0.168\n",
            "Test MAPE\n",
            "0.180\n",
            "Train MAPE\n",
            "0.243\n",
            "Test MAPE\n",
            "0.239\n",
            "Train MAPE\n",
            "0.214\n",
            "Test MAPE\n",
            "0.215\n",
            "Train MAPE\n",
            "0.172\n",
            "Test MAPE\n",
            "0.181\n",
            "Train MAPE\n",
            "0.213\n",
            "Test MAPE\n",
            "0.215\n",
            "Train MAPE\n",
            "0.204\n",
            "Test MAPE\n",
            "0.209\n",
            "Train MAPE\n",
            "0.226\n",
            "Test MAPE\n",
            "0.223\n",
            "Train MAPE\n",
            "0.240\n",
            "Test MAPE\n",
            "0.238\n",
            "Train MAPE\n",
            "0.205\n",
            "Test MAPE\n",
            "0.207\n",
            "Train MAPE\n",
            "0.234\n",
            "Test MAPE\n",
            "0.229\n",
            "Train MAPE\n",
            "0.171\n",
            "Test MAPE\n",
            "0.183\n",
            "Train MAPE\n",
            "0.187\n",
            "Test MAPE\n",
            "0.193\n",
            "Train MAPE\n",
            "0.212\n",
            "Test MAPE\n",
            "0.215\n",
            "Train MAPE\n",
            "0.177\n",
            "Test MAPE\n",
            "0.183\n",
            "Train MAPE\n",
            "0.202\n",
            "Test MAPE\n",
            "0.206\n",
            "Train MAPE\n",
            "0.163\n",
            "Test MAPE\n",
            "0.180\n",
            "Train MAPE\n",
            "0.194\n",
            "Test MAPE\n",
            "0.200\n",
            "Train MAPE\n",
            "0.236\n",
            "Test MAPE\n",
            "0.235\n",
            "Train MAPE\n",
            "0.238\n",
            "Test MAPE\n",
            "0.236\n",
            "Train MAPE\n",
            "0.212\n",
            "Test MAPE\n",
            "0.214\n",
            "Train MAPE\n",
            "0.231\n",
            "Test MAPE\n",
            "0.231\n",
            "Train MAPE\n",
            "0.229\n",
            "Test MAPE\n",
            "0.226\n",
            "Train MAPE\n",
            "0.234\n",
            "Test MAPE\n",
            "0.233\n",
            "Train MAPE\n",
            "0.201\n",
            "Test MAPE\n",
            "0.205\n",
            "Train MAPE\n",
            "0.235\n",
            "Test MAPE\n",
            "0.231\n",
            "Train MAPE\n",
            "0.191\n",
            "Test MAPE\n",
            "0.197\n",
            "Train MAPE\n",
            "0.197\n",
            "Test MAPE\n",
            "0.200\n",
            "Train MAPE\n",
            "0.239\n",
            "Test MAPE\n",
            "0.236\n",
            "Train MAPE\n",
            "0.225\n",
            "Test MAPE\n",
            "0.225\n",
            "Train MAPE\n",
            "0.217\n",
            "Test MAPE\n",
            "0.216\n",
            "Train MAPE\n",
            "0.140\n",
            "Test MAPE\n",
            "0.160\n",
            "Train MAPE\n",
            "0.178\n",
            "Test MAPE\n",
            "0.187\n",
            "Train MAPE\n",
            "0.176\n",
            "Test MAPE\n",
            "0.184\n",
            "Train MAPE\n",
            "0.232\n",
            "Test MAPE\n",
            "0.229\n",
            "Train MAPE\n",
            "0.193\n",
            "Test MAPE\n",
            "0.197\n",
            "Train MAPE\n",
            "0.251\n",
            "Test MAPE\n",
            "0.243\n",
            "Train MAPE\n",
            "0.193\n",
            "Test MAPE\n",
            "0.198\n",
            "Train MAPE\n",
            "0.223\n",
            "Test MAPE\n",
            "0.220\n",
            "Train MAPE\n",
            "0.135\n",
            "Test MAPE\n",
            "0.159\n",
            "Train MAPE\n",
            "0.130\n",
            "Test MAPE\n",
            "0.156\n",
            "Train MAPE\n",
            "0.183\n",
            "Test MAPE\n",
            "0.188\n",
            "Train MAPE\n",
            "0.172\n",
            "Test MAPE\n",
            "0.181\n",
            "Train MAPE\n",
            "0.171\n",
            "Test MAPE\n",
            "0.181\n",
            "Train MAPE\n",
            "0.182\n",
            "Test MAPE\n",
            "0.190\n",
            "Train MAPE\n",
            "0.173\n",
            "Test MAPE\n",
            "0.181\n",
            "Train MAPE\n",
            "0.139\n",
            "Test MAPE\n",
            "0.160\n",
            "Train MAPE\n",
            "0.173\n",
            "Test MAPE\n",
            "0.181\n",
            "Train MAPE\n",
            "0.153\n",
            "Test MAPE\n",
            "0.169\n",
            "Train MAPE\n",
            "0.198\n",
            "Test MAPE\n",
            "0.201\n",
            "Train MAPE\n",
            "0.155\n",
            "Test MAPE\n",
            "0.169\n",
            "Train MAPE\n",
            "0.182\n",
            "Test MAPE\n",
            "0.188\n",
            "Train MAPE\n",
            "0.202\n",
            "Test MAPE\n",
            "0.207\n",
            "Train MAPE\n",
            "0.116\n",
            "Test MAPE\n",
            "0.150\n",
            "Train MAPE\n",
            "0.190\n",
            "Test MAPE\n",
            "0.196\n",
            "Train MAPE\n",
            "0.184\n",
            "Test MAPE\n",
            "0.190\n",
            "Train MAPE\n",
            "0.192\n",
            "Test MAPE\n",
            "0.197\n",
            "Train MAPE\n",
            "0.107\n",
            "Test MAPE\n",
            "0.149\n",
            "Train MAPE\n",
            "0.186\n",
            "Test MAPE\n",
            "0.193\n",
            "Train MAPE\n",
            "0.208\n",
            "Test MAPE\n",
            "0.208\n",
            "Train MAPE\n",
            "0.139\n",
            "Test MAPE\n",
            "0.162\n",
            "Train MAPE\n",
            "0.132\n",
            "Test MAPE\n",
            "0.156\n",
            "Train MAPE\n",
            "0.189\n",
            "Test MAPE\n",
            "0.196\n",
            "Train MAPE\n",
            "0.226\n",
            "Test MAPE\n",
            "0.223\n",
            "Train MAPE\n",
            "0.224\n",
            "Test MAPE\n",
            "0.221\n",
            "Train MAPE\n",
            "0.175\n",
            "Test MAPE\n",
            "0.182\n",
            "Train MAPE\n",
            "0.136\n",
            "Test MAPE\n",
            "0.156\n",
            "Train MAPE\n",
            "0.172\n",
            "Test MAPE\n",
            "0.179\n",
            "Train MAPE\n",
            "0.213\n",
            "Test MAPE\n",
            "0.215\n",
            "Train MAPE\n",
            "0.229\n",
            "Test MAPE\n",
            "0.226\n",
            "Train MAPE\n",
            "0.201\n",
            "Test MAPE\n",
            "0.205\n",
            "Train MAPE\n",
            "0.109\n",
            "Test MAPE\n",
            "0.148\n",
            "Train MAPE\n",
            "0.196\n",
            "Test MAPE\n",
            "0.200\n",
            "Train MAPE\n",
            "0.129\n",
            "Test MAPE\n",
            "0.156\n",
            "100%|██████████| 100/100 [09:33<00:00,  5.73s/it, best loss: 0.148]\n"
          ]
        }
      ]
    },
    {
      "cell_type": "markdown",
      "source": [
        "## Evaluation on best parameters:"
      ],
      "metadata": {
        "id": "S0CHk5gtJPd3"
      }
    },
    {
      "cell_type": "code",
      "source": [
        "start_time_xgb = time.monotonic()\n",
        "pipe_xgb = make_pipeline(preprocess, XGBRegressor (n_estimators = int(900.0), \n",
        "                                                     max_depth = int(10.0), \n",
        "                                                     gamma = 0.014825550580583137,\n",
        "                                                     reg_alpha = int(2.0),\n",
        "                                                     objective ='reg:squarederror',\n",
        "                                                     monotone = x, ## this helps to implement the monotonicity constraint\n",
        "                                                     tree_method = 'exact'))\n",
        "\n",
        "pipe_fit_xgb = pipe_xgb.fit(df_valid_X_dev, df_valid_y_dev)"
      ],
      "metadata": {
        "id": "PvlG-zxSJOmq"
      },
      "execution_count": null,
      "outputs": []
    },
    {
      "cell_type": "code",
      "source": [
        "print(f\"Performance on Test Dataset is: {pipe_xgb.score(df_valid_X_test, df_valid_y_test) :3f}\")\n",
        "mape(np.exp(pipe_xgb.predict(df_valid_X_test)), np.exp(df_valid_y_test))"
      ],
      "metadata": {
        "colab": {
          "base_uri": "https://localhost:8080/"
        },
        "outputId": "77769d51-444e-40b9-b775-dd6fb348fd6e",
        "id": "8kVYimh8JfgE"
      },
      "execution_count": null,
      "outputs": [
        {
          "output_type": "stream",
          "name": "stdout",
          "text": [
            "Performance on Test Dataset is: 0.934659\n"
          ]
        },
        {
          "output_type": "execute_result",
          "data": {
            "text/plain": [
              "0.14026890022967267"
            ]
          },
          "metadata": {},
          "execution_count": 105
        }
      ]
    },
    {
      "cell_type": "code",
      "source": [
        "#check_df = pd.concat([copy_df_valid.reset_index(drop = True), pd.DataFrame(np.exp(pipe_xgb.predict(copy_df_valid)), columns = ['predictions'])], axis = 1)\n",
        "check_df = pd.concat([df_valid_X_test.reset_index(drop = True), \n",
        "                      pd.DataFrame(np.exp(pipe_xgb.predict(df_valid_X_test)), columns = ['predictions']),\n",
        "                      pd.DataFrame(df_valid_y_test.reset_index(drop = True))], axis = 1)\n",
        "check_df.head()"
      ],
      "metadata": {
        "colab": {
          "base_uri": "https://localhost:8080/",
          "height": 334
        },
        "outputId": "49801c8b-3df1-4fda-bfcc-62b0c96ebeb0",
        "id": "Czy07RdwJfgF"
      },
      "execution_count": null,
      "outputs": [
        {
          "output_type": "execute_result",
          "data": {
            "text/plain": [
              "   site_weight  year  priv_count  ownership_FEDERAL_median  \\\n",
              "0            1  2020        31.0                       0.0   \n",
              "1            1  2018      1007.0                       0.0   \n",
              "2            0  2019        95.0                       0.0   \n",
              "3            1  2019       109.0                       0.0   \n",
              "4            1  2018        41.0                       0.0   \n",
              "\n",
              "   ownership_HOSPITAL DISTRICT OR AUTHORITY_median  ownership_LOCAL_median  \\\n",
              "0                                              0.0                     0.0   \n",
              "1                                              0.0                     0.0   \n",
              "2                                              0.0                     0.0   \n",
              "3                                              0.0                     0.0   \n",
              "4                                              0.0                     0.0   \n",
              "\n",
              "   ownership_OTHER (SPECIFY)_median  ownership_PHYSICIAN OWNERSHIP_median  \\\n",
              "0                               0.0                                   0.0   \n",
              "1                               0.0                                   0.0   \n",
              "2                               0.0                                   0.0   \n",
              "3                               0.0                                   0.0   \n",
              "4                               0.0                                   0.0   \n",
              "\n",
              "   ownership_PRIVATE (FOR PROFIT)_median  \\\n",
              "0                                    1.0   \n",
              "1                                    0.0   \n",
              "2                                    0.0   \n",
              "3                                    0.0   \n",
              "4                                    0.0   \n",
              "\n",
              "   ownership_PRIVATE (NOT FOR PROFIT)_median  ...  \\\n",
              "0                                        0.0  ...   \n",
              "1                                        1.0  ...   \n",
              "2                                        0.0  ...   \n",
              "3                                        0.0  ...   \n",
              "4                                        1.0  ...   \n",
              "\n",
              "   beds_grp_greater_500_median    pat_cost  discharge_to_home_pct    IP_pct  \\\n",
              "0                          0.0   8922.4310               0.984233  0.000000   \n",
              "1                          0.0   9390.2633               0.930895  0.131144   \n",
              "2                          0.0  16741.5136               0.621714  0.542798   \n",
              "3                          0.0  16741.5136               0.621714  0.542798   \n",
              "4                          0.0   6433.5226               0.988582  0.000000   \n",
              "\n",
              "         site                     group    msa                  phy_spec  \\\n",
              "0  Outpatient  robotic_assisted_surgery  22744      GENERAL SURGERY (GS)   \n",
              "1  Outpatient                mastectomy  35614      GENERAL SURGERY (GS)   \n",
              "2         ASC                 ankle_fix  12060  ORTHOPEDIC SURGERY (ORS)   \n",
              "3  Outpatient                 ankle_fix  18140  ORTHOPEDIC SURGERY (ORS)   \n",
              "4  Outpatient          lap appendectomy  39340      GENERAL SURGERY (GS)   \n",
              "\n",
              "    predictions  log_priv_pay_mean  \n",
              "0  11687.338867           9.824409  \n",
              "1  13665.017578           9.433972  \n",
              "2   7500.948730           8.697315  \n",
              "3  18933.789062           9.846485  \n",
              "4   8187.880371           8.784543  \n",
              "\n",
              "[5 rows x 31 columns]"
            ],
            "text/html": [
              "\n",
              "  <div id=\"df-313e0256-881c-43d7-a485-6cf093ab5814\">\n",
              "    <div class=\"colab-df-container\">\n",
              "      <div>\n",
              "<style scoped>\n",
              "    .dataframe tbody tr th:only-of-type {\n",
              "        vertical-align: middle;\n",
              "    }\n",
              "\n",
              "    .dataframe tbody tr th {\n",
              "        vertical-align: top;\n",
              "    }\n",
              "\n",
              "    .dataframe thead th {\n",
              "        text-align: right;\n",
              "    }\n",
              "</style>\n",
              "<table border=\"1\" class=\"dataframe\">\n",
              "  <thead>\n",
              "    <tr style=\"text-align: right;\">\n",
              "      <th></th>\n",
              "      <th>site_weight</th>\n",
              "      <th>year</th>\n",
              "      <th>priv_count</th>\n",
              "      <th>ownership_FEDERAL_median</th>\n",
              "      <th>ownership_HOSPITAL DISTRICT OR AUTHORITY_median</th>\n",
              "      <th>ownership_LOCAL_median</th>\n",
              "      <th>ownership_OTHER (SPECIFY)_median</th>\n",
              "      <th>ownership_PHYSICIAN OWNERSHIP_median</th>\n",
              "      <th>ownership_PRIVATE (FOR PROFIT)_median</th>\n",
              "      <th>ownership_PRIVATE (NOT FOR PROFIT)_median</th>\n",
              "      <th>...</th>\n",
              "      <th>beds_grp_greater_500_median</th>\n",
              "      <th>pat_cost</th>\n",
              "      <th>discharge_to_home_pct</th>\n",
              "      <th>IP_pct</th>\n",
              "      <th>site</th>\n",
              "      <th>group</th>\n",
              "      <th>msa</th>\n",
              "      <th>phy_spec</th>\n",
              "      <th>predictions</th>\n",
              "      <th>log_priv_pay_mean</th>\n",
              "    </tr>\n",
              "  </thead>\n",
              "  <tbody>\n",
              "    <tr>\n",
              "      <th>0</th>\n",
              "      <td>1</td>\n",
              "      <td>2020</td>\n",
              "      <td>31.0</td>\n",
              "      <td>0.0</td>\n",
              "      <td>0.0</td>\n",
              "      <td>0.0</td>\n",
              "      <td>0.0</td>\n",
              "      <td>0.0</td>\n",
              "      <td>1.0</td>\n",
              "      <td>0.0</td>\n",
              "      <td>...</td>\n",
              "      <td>0.0</td>\n",
              "      <td>8922.4310</td>\n",
              "      <td>0.984233</td>\n",
              "      <td>0.000000</td>\n",
              "      <td>Outpatient</td>\n",
              "      <td>robotic_assisted_surgery</td>\n",
              "      <td>22744</td>\n",
              "      <td>GENERAL SURGERY (GS)</td>\n",
              "      <td>11687.338867</td>\n",
              "      <td>9.824409</td>\n",
              "    </tr>\n",
              "    <tr>\n",
              "      <th>1</th>\n",
              "      <td>1</td>\n",
              "      <td>2018</td>\n",
              "      <td>1007.0</td>\n",
              "      <td>0.0</td>\n",
              "      <td>0.0</td>\n",
              "      <td>0.0</td>\n",
              "      <td>0.0</td>\n",
              "      <td>0.0</td>\n",
              "      <td>0.0</td>\n",
              "      <td>1.0</td>\n",
              "      <td>...</td>\n",
              "      <td>0.0</td>\n",
              "      <td>9390.2633</td>\n",
              "      <td>0.930895</td>\n",
              "      <td>0.131144</td>\n",
              "      <td>Outpatient</td>\n",
              "      <td>mastectomy</td>\n",
              "      <td>35614</td>\n",
              "      <td>GENERAL SURGERY (GS)</td>\n",
              "      <td>13665.017578</td>\n",
              "      <td>9.433972</td>\n",
              "    </tr>\n",
              "    <tr>\n",
              "      <th>2</th>\n",
              "      <td>0</td>\n",
              "      <td>2019</td>\n",
              "      <td>95.0</td>\n",
              "      <td>0.0</td>\n",
              "      <td>0.0</td>\n",
              "      <td>0.0</td>\n",
              "      <td>0.0</td>\n",
              "      <td>0.0</td>\n",
              "      <td>0.0</td>\n",
              "      <td>0.0</td>\n",
              "      <td>...</td>\n",
              "      <td>0.0</td>\n",
              "      <td>16741.5136</td>\n",
              "      <td>0.621714</td>\n",
              "      <td>0.542798</td>\n",
              "      <td>ASC</td>\n",
              "      <td>ankle_fix</td>\n",
              "      <td>12060</td>\n",
              "      <td>ORTHOPEDIC SURGERY (ORS)</td>\n",
              "      <td>7500.948730</td>\n",
              "      <td>8.697315</td>\n",
              "    </tr>\n",
              "    <tr>\n",
              "      <th>3</th>\n",
              "      <td>1</td>\n",
              "      <td>2019</td>\n",
              "      <td>109.0</td>\n",
              "      <td>0.0</td>\n",
              "      <td>0.0</td>\n",
              "      <td>0.0</td>\n",
              "      <td>0.0</td>\n",
              "      <td>0.0</td>\n",
              "      <td>0.0</td>\n",
              "      <td>0.0</td>\n",
              "      <td>...</td>\n",
              "      <td>0.0</td>\n",
              "      <td>16741.5136</td>\n",
              "      <td>0.621714</td>\n",
              "      <td>0.542798</td>\n",
              "      <td>Outpatient</td>\n",
              "      <td>ankle_fix</td>\n",
              "      <td>18140</td>\n",
              "      <td>ORTHOPEDIC SURGERY (ORS)</td>\n",
              "      <td>18933.789062</td>\n",
              "      <td>9.846485</td>\n",
              "    </tr>\n",
              "    <tr>\n",
              "      <th>4</th>\n",
              "      <td>1</td>\n",
              "      <td>2018</td>\n",
              "      <td>41.0</td>\n",
              "      <td>0.0</td>\n",
              "      <td>0.0</td>\n",
              "      <td>0.0</td>\n",
              "      <td>0.0</td>\n",
              "      <td>0.0</td>\n",
              "      <td>0.0</td>\n",
              "      <td>1.0</td>\n",
              "      <td>...</td>\n",
              "      <td>0.0</td>\n",
              "      <td>6433.5226</td>\n",
              "      <td>0.988582</td>\n",
              "      <td>0.000000</td>\n",
              "      <td>Outpatient</td>\n",
              "      <td>lap appendectomy</td>\n",
              "      <td>39340</td>\n",
              "      <td>GENERAL SURGERY (GS)</td>\n",
              "      <td>8187.880371</td>\n",
              "      <td>8.784543</td>\n",
              "    </tr>\n",
              "  </tbody>\n",
              "</table>\n",
              "<p>5 rows × 31 columns</p>\n",
              "</div>\n",
              "      <button class=\"colab-df-convert\" onclick=\"convertToInteractive('df-313e0256-881c-43d7-a485-6cf093ab5814')\"\n",
              "              title=\"Convert this dataframe to an interactive table.\"\n",
              "              style=\"display:none;\">\n",
              "        \n",
              "  <svg xmlns=\"http://www.w3.org/2000/svg\" height=\"24px\"viewBox=\"0 0 24 24\"\n",
              "       width=\"24px\">\n",
              "    <path d=\"M0 0h24v24H0V0z\" fill=\"none\"/>\n",
              "    <path d=\"M18.56 5.44l.94 2.06.94-2.06 2.06-.94-2.06-.94-.94-2.06-.94 2.06-2.06.94zm-11 1L8.5 8.5l.94-2.06 2.06-.94-2.06-.94L8.5 2.5l-.94 2.06-2.06.94zm10 10l.94 2.06.94-2.06 2.06-.94-2.06-.94-.94-2.06-.94 2.06-2.06.94z\"/><path d=\"M17.41 7.96l-1.37-1.37c-.4-.4-.92-.59-1.43-.59-.52 0-1.04.2-1.43.59L10.3 9.45l-7.72 7.72c-.78.78-.78 2.05 0 2.83L4 21.41c.39.39.9.59 1.41.59.51 0 1.02-.2 1.41-.59l7.78-7.78 2.81-2.81c.8-.78.8-2.07 0-2.86zM5.41 20L4 18.59l7.72-7.72 1.47 1.35L5.41 20z\"/>\n",
              "  </svg>\n",
              "      </button>\n",
              "      \n",
              "  <style>\n",
              "    .colab-df-container {\n",
              "      display:flex;\n",
              "      flex-wrap:wrap;\n",
              "      gap: 12px;\n",
              "    }\n",
              "\n",
              "    .colab-df-convert {\n",
              "      background-color: #E8F0FE;\n",
              "      border: none;\n",
              "      border-radius: 50%;\n",
              "      cursor: pointer;\n",
              "      display: none;\n",
              "      fill: #1967D2;\n",
              "      height: 32px;\n",
              "      padding: 0 0 0 0;\n",
              "      width: 32px;\n",
              "    }\n",
              "\n",
              "    .colab-df-convert:hover {\n",
              "      background-color: #E2EBFA;\n",
              "      box-shadow: 0px 1px 2px rgba(60, 64, 67, 0.3), 0px 1px 3px 1px rgba(60, 64, 67, 0.15);\n",
              "      fill: #174EA6;\n",
              "    }\n",
              "\n",
              "    [theme=dark] .colab-df-convert {\n",
              "      background-color: #3B4455;\n",
              "      fill: #D2E3FC;\n",
              "    }\n",
              "\n",
              "    [theme=dark] .colab-df-convert:hover {\n",
              "      background-color: #434B5C;\n",
              "      box-shadow: 0px 1px 3px 1px rgba(0, 0, 0, 0.15);\n",
              "      filter: drop-shadow(0px 1px 2px rgba(0, 0, 0, 0.3));\n",
              "      fill: #FFFFFF;\n",
              "    }\n",
              "  </style>\n",
              "\n",
              "      <script>\n",
              "        const buttonEl =\n",
              "          document.querySelector('#df-313e0256-881c-43d7-a485-6cf093ab5814 button.colab-df-convert');\n",
              "        buttonEl.style.display =\n",
              "          google.colab.kernel.accessAllowed ? 'block' : 'none';\n",
              "\n",
              "        async function convertToInteractive(key) {\n",
              "          const element = document.querySelector('#df-313e0256-881c-43d7-a485-6cf093ab5814');\n",
              "          const dataTable =\n",
              "            await google.colab.kernel.invokeFunction('convertToInteractive',\n",
              "                                                     [key], {});\n",
              "          if (!dataTable) return;\n",
              "\n",
              "          const docLinkHtml = 'Like what you see? Visit the ' +\n",
              "            '<a target=\"_blank\" href=https://colab.research.google.com/notebooks/data_table.ipynb>data table notebook</a>'\n",
              "            + ' to learn more about interactive tables.';\n",
              "          element.innerHTML = '';\n",
              "          dataTable['output_type'] = 'display_data';\n",
              "          await google.colab.output.renderOutput(dataTable, element);\n",
              "          const docLink = document.createElement('div');\n",
              "          docLink.innerHTML = docLinkHtml;\n",
              "          element.appendChild(docLink);\n",
              "        }\n",
              "      </script>\n",
              "    </div>\n",
              "  </div>\n",
              "  "
            ]
          },
          "metadata": {},
          "execution_count": 106
        }
      ]
    },
    {
      "cell_type": "code",
      "source": [
        "from pandas.core.window.common import defaultdict\n",
        "dict1 = defaultdict(float)\n",
        "dict2 = defaultdict(float) \n",
        "i = 0\n",
        "for k, v in check_df[check_df.site == 'ASC'].groupby(['msa', 'group', 'year']):\n",
        "  dict1[k] = v['predictions'].values[0]\n",
        "\n",
        "for k, v in check_df[check_df.site == 'Inpatient'].groupby(['msa', 'group', 'year']):\n",
        "  dict2[k] = v['predictions'].values[0]"
      ],
      "metadata": {
        "id": "8AGKYTNhJfgF"
      },
      "execution_count": null,
      "outputs": []
    },
    {
      "cell_type": "code",
      "source": [
        "## checking for all (msa, year and group) key to find ASC < Inpatient\n",
        "i = 0\n",
        "j = 0\n",
        "for k in dict2:\n",
        "  if k in dict1:\n",
        "    #print(k)\n",
        "    j+=1\n",
        "    if dict1[k] >= dict2[k]:\n",
        "      i+=1\n",
        "print(i, j)"
      ],
      "metadata": {
        "colab": {
          "base_uri": "https://localhost:8080/"
        },
        "outputId": "a4ed98a4-1e68-4c0b-ee6f-94dcd0ca12b4",
        "id": "Wqptx-8VJfgF"
      },
      "execution_count": null,
      "outputs": [
        {
          "output_type": "stream",
          "name": "stdout",
          "text": [
            "0 4\n"
          ]
        }
      ]
    },
    {
      "cell_type": "code",
      "source": [
        "end_time_xgb = time.monotonic()\n",
        "print(end_time_xgb - start_time_xgb)"
      ],
      "metadata": {
        "id": "MQC5eSVSsWJt",
        "outputId": "0b544d09-d2ca-4427-9bdc-e8cfd0c5c77c",
        "colab": {
          "base_uri": "https://localhost:8080/"
        }
      },
      "execution_count": null,
      "outputs": [
        {
          "output_type": "stream",
          "name": "stdout",
          "text": [
            "21.432462115000135\n"
          ]
        }
      ]
    },
    {
      "cell_type": "code",
      "source": [
        "train_mape = [float(i) for i in train_mape]\n",
        "test_mape = [float(i) for i in test_mape]\n",
        "train_mape"
      ],
      "metadata": {
        "colab": {
          "base_uri": "https://localhost:8080/"
        },
        "id": "ps5oaApIw3zK",
        "outputId": "663edfda-8935-4ba7-ea70-2d862faeffc0"
      },
      "execution_count": null,
      "outputs": [
        {
          "output_type": "execute_result",
          "data": {
            "text/plain": [
              "[0.225,\n",
              " 0.219,\n",
              " 0.233,\n",
              " 0.203,\n",
              " 0.191,\n",
              " 0.214,\n",
              " 0.188,\n",
              " 0.243,\n",
              " 0.2,\n",
              " 0.248,\n",
              " 0.242,\n",
              " 0.247,\n",
              " 0.238,\n",
              " 0.227,\n",
              " 0.224,\n",
              " 0.237,\n",
              " 0.251,\n",
              " 0.216,\n",
              " 0.229,\n",
              " 0.244,\n",
              " 0.156,\n",
              " 0.164,\n",
              " 0.144,\n",
              " 0.149,\n",
              " 0.182,\n",
              " 0.168,\n",
              " 0.193,\n",
              " 0.168,\n",
              " 0.243,\n",
              " 0.214,\n",
              " 0.172,\n",
              " 0.213,\n",
              " 0.204,\n",
              " 0.226,\n",
              " 0.24,\n",
              " 0.205,\n",
              " 0.234,\n",
              " 0.171,\n",
              " 0.187,\n",
              " 0.212,\n",
              " 0.177,\n",
              " 0.202,\n",
              " 0.163,\n",
              " 0.194,\n",
              " 0.236,\n",
              " 0.238,\n",
              " 0.212,\n",
              " 0.231,\n",
              " 0.229,\n",
              " 0.234,\n",
              " 0.201,\n",
              " 0.235,\n",
              " 0.191,\n",
              " 0.197,\n",
              " 0.239,\n",
              " 0.225,\n",
              " 0.217,\n",
              " 0.14,\n",
              " 0.178,\n",
              " 0.176,\n",
              " 0.232,\n",
              " 0.193,\n",
              " 0.251,\n",
              " 0.193,\n",
              " 0.223,\n",
              " 0.135,\n",
              " 0.13,\n",
              " 0.183,\n",
              " 0.172,\n",
              " 0.171,\n",
              " 0.182,\n",
              " 0.173,\n",
              " 0.139,\n",
              " 0.173,\n",
              " 0.153,\n",
              " 0.198,\n",
              " 0.155,\n",
              " 0.182,\n",
              " 0.202,\n",
              " 0.116,\n",
              " 0.19,\n",
              " 0.184,\n",
              " 0.192,\n",
              " 0.107,\n",
              " 0.186,\n",
              " 0.208,\n",
              " 0.139,\n",
              " 0.132,\n",
              " 0.189,\n",
              " 0.226,\n",
              " 0.224,\n",
              " 0.175,\n",
              " 0.136,\n",
              " 0.172,\n",
              " 0.213,\n",
              " 0.229,\n",
              " 0.201,\n",
              " 0.109,\n",
              " 0.196,\n",
              " 0.129]"
            ]
          },
          "metadata": {},
          "execution_count": 110
        }
      ]
    },
    {
      "cell_type": "code",
      "source": [
        "y = [i for i in range(1, 101)]\n",
        "plt.figure(figsize=(15,8))\n",
        "plt.scatter(y, test_mape)\n",
        "ind = test_mape.index(min(test_mape)) \n",
        "plt.plot(y[ind],test_mape[ind],\"ro\")\n",
        "plt.xlabel(\"Trials\")\n",
        "plt.ylabel(\"Test MAPE\")\n",
        "plt.title(\"Test MAPE vs Trials for 100 trials of Bayesian Optimization\")"
      ],
      "metadata": {
        "colab": {
          "base_uri": "https://localhost:8080/",
          "height": 531
        },
        "id": "T9GGeyRjz2vJ",
        "outputId": "205b0524-2147-4bb9-ef1a-cf0b1a27e504"
      },
      "execution_count": null,
      "outputs": [
        {
          "output_type": "execute_result",
          "data": {
            "text/plain": [
              "Text(0.5, 1.0, 'Test MAPE vs Trials for 100 trials of Bayesian Optimization')"
            ]
          },
          "metadata": {},
          "execution_count": 117
        },
        {
          "output_type": "display_data",
          "data": {
            "text/plain": [
              "<Figure size 1080x576 with 1 Axes>"
            ],
            "image/png": "[encoded data removed]"
          },
          "metadata": {
            "needs_background": "light"
          }
        }
      ]
    },
    {
      "cell_type": "code",
      "source": [
        "out = {}\n",
        "count = 0\n",
        "from sklearn.metrics import mean_absolute_percentage_error as MAPE\n",
        "for grp in check_df['group'].unique():\n",
        "    temp = check_df[check_df['group'] == grp]\n",
        "    out[grp] = (MAPE(temp['predictions'], np.exp(temp['log_priv_pay_mean'])))\n",
        "sorted(out.items(), key = lambda x: x) "
      ],
      "metadata": {
        "colab": {
          "base_uri": "https://localhost:8080/"
        },
        "outputId": "ffd44d75-b322-486f-aadc-de91712dfba8",
        "id": "EdCPXVCQJfgG"
      },
      "execution_count": null,
      "outputs": [
        {
          "output_type": "execute_result",
          "data": {
            "text/plain": [
              "[('ankle_fix', 0.18135705104839211),\n",
              " ('ant_cerv_fusion', 0.18333615949925108),\n",
              " ('ant_tls_fusion', 0.12260389208946743),\n",
              " ('bariatric', 0.11905967808873935),\n",
              " ('breast reconstruction', 0.16582336649025273),\n",
              " ('bsp', 0.2078118881344618),\n",
              " ('bunionectomy', 0.1816512854501887),\n",
              " ('cardiac ablation', 0.09925970802188043),\n",
              " ('cardiac ablation_additional_discrete', 0.19562691654210002),\n",
              " ('cardiac ablation_linear_focal', 0.26758951043524415),\n",
              " ('cardiac_ablaton_anesthesia', 0.13668873973548087),\n",
              " ('cardiac_ablaton_ice', 0.13396206317585027),\n",
              " ('clavicle fixation', 0.08702848301133023),\n",
              " ('colorect', 0.1408614513969996),\n",
              " ('fess', 0.148015821392498),\n",
              " ('hepat', 0.3358524224491219),\n",
              " ('hernia', 0.14110462669486057),\n",
              " ('hysterect', 0.13815847844265386),\n",
              " ('lap appendectomy', 0.0863646425758582),\n",
              " ('mastectomy', 0.14927672425189084),\n",
              " ('navigation', 0.14562189498914702),\n",
              " ('orthovisc_monovisc', 0.480692142926932),\n",
              " ('pka', 0.17852521888934203),\n",
              " ('post_tls_fusion', 0.12123655829597861),\n",
              " ('prostatectomy', 0.1505760506348013),\n",
              " ('prox_tibia_fixation', 0.2832323213492137),\n",
              " ('radius/ulna internal fixation', 0.1292507706109647),\n",
              " ('robotic_assisted_surgery', 0.1950547317632218),\n",
              " ('rtc_slap_bank', 0.143915545225621),\n",
              " ('septoplasty', 0.13231944026029305),\n",
              " ('tha', 0.11602240575227228),\n",
              " ('thoracic', 0.7082603748999627),\n",
              " ('tka', 0.10983592128164679),\n",
              " ('tpa', 0.0779914481456819),\n",
              " ('tsa', 0.10190096750249544)]"
            ]
          },
          "metadata": {},
          "execution_count": 111
        }
      ]
    },
    {
      "cell_type": "code",
      "source": [
        "pipe_xgb.named_steps['xgbregressor'].feature_importances_"
      ],
      "metadata": {
        "colab": {
          "base_uri": "https://localhost:8080/"
        },
        "id": "UNdek1hWIkX2",
        "outputId": "c9338f55-f14d-4405-a481-334274d978c3"
      },
      "execution_count": null,
      "outputs": [
        {
          "output_type": "execute_result",
          "data": {
            "text/plain": [
              "array([0.03615991, 0.01107214, 0.00219886, 0.        , 0.00241819,\n",
              "       0.00338302, 0.00557351, 0.        , 0.00423027, 0.00409384,\n",
              "       0.00203991, 0.        , 0.        , 0.00500012, 0.00716122,\n",
              "       0.00457213, 0.0087842 , 0.01360814, 0.01094294, 0.00633486,\n",
              "       0.00625033, 0.        , 0.01391438, 0.00350026, 0.00644136,\n",
              "       0.        , 0.24440703, 0.00383442, 0.58086246, 0.00700809,\n",
              "       0.0062084 ], dtype=float32)"
            ]
          },
          "metadata": {},
          "execution_count": 112
        }
      ]
    },
    {
      "cell_type": "markdown",
      "source": [
        "### Top 8 final features in the XGBoost model after monotonicity constraint on site_weight"
      ],
      "metadata": {
        "id": "sKtPChgHH9JC"
      }
    },
    {
      "cell_type": "code",
      "source": [
        "ohe_feature_names = preprocess.named_transformers_[\"onehotencoder\"].get_feature_names().tolist()\n",
        "te_feature_names = preprocess.named_transformers_[\"targetencoder\"].get_feature_names()\n",
        "feature_names = num_features + ohe_feature_names+te_feature_names  \n",
        "\n",
        "feat_imps = zip(feature_names, pipe_xgb.named_steps['xgbregressor'].feature_importances_)\n",
        "\n",
        "feats, imps = zip(*(sorted(list(filter( lambda x : x[1]!=0 , feat_imps)), key = lambda x : x[1] , reverse=True)))\n",
        "\n",
        "ax = sns.barplot(list(imps)[:8], list(feats)[:8], palette=(\"YlOrBr_r\"))\n",
        "ax.tick_params(axis='x', rotation = 0)\n",
        "plt.title(\"Top 3 Important Features\", fontsize=14)\n",
        "plt.xlabel(\"Variables\")\n",
        "plt.ylabel(\"Feature Importance\")"
      ],
      "metadata": {
        "colab": {
          "base_uri": "https://localhost:8080/",
          "height": 314
        },
        "id": "Bxcb4G3XImGx",
        "outputId": "fd0024f7-96f0-41a2-9faf-05aa65b91de7"
      },
      "execution_count": null,
      "outputs": [
        {
          "output_type": "execute_result",
          "data": {
            "text/plain": [
              "Text(0, 0.5, 'Feature Importance')"
            ]
          },
          "metadata": {},
          "execution_count": 113
        },
        {
          "output_type": "display_data",
          "data": {
            "text/plain": [
              "<Figure size 432x288 with 1 Axes>"
            ],
            "image/png": "[encoded data removed]"
          },
          "metadata": {
            "needs_background": "light"
          }
        }
      ]
    },
    {
      "cell_type": "code",
      "source": [
        "list(imps)[:8], list(feats)[:8]"
      ],
      "metadata": {
        "colab": {
          "base_uri": "https://localhost:8080/"
        },
        "id": "W5ZBjJAwNOAP",
        "outputId": "f1d7c4b3-7a2e-411f-8711-2704be53395d"
      },
      "execution_count": null,
      "outputs": [
        {
          "output_type": "execute_result",
          "data": {
            "text/plain": [
              "([0.58086246,\n",
              "  0.24440703,\n",
              "  0.036159907,\n",
              "  0.013914383,\n",
              "  0.013608142,\n",
              "  0.011072136,\n",
              "  0.010942939,\n",
              "  0.0087842],\n",
              " ['group',\n",
              "  'x0_Inpatient',\n",
              "  'site_weight',\n",
              "  'pat_cost',\n",
              "  'Life Expectancy',\n",
              "  'year',\n",
              "  'harvesine_distance',\n",
              "  'population_estimate_2020'])"
            ]
          },
          "metadata": {},
          "execution_count": 114
        }
      ]
    }
  ],
  "metadata": {
    "colab": {
      "provenance": []
    },
    "gpuClass": "standard",
    "kernelspec": {
      "display_name": "Python 3",
      "name": "python3"
    },
    "language_info": {
      "name": "python"
    },
    "accelerator": "GPU"
  },
  "nbformat": 4,
  "nbformat_minor": 0
}