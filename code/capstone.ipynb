{
  "cells": [
    {
      "cell_type": "code",
      "execution_count": 3,
      "metadata": {
        "id": "KlgyBCGoGtBH"
      },
      "outputs": [],
      "source": [
        "import csv\n",
        "import pandas as pd\n",
        "from sklearn.model_selection import train_test_split\n",
        "from sklearn.compose import make_column_transformer\n",
        "from sklearn.preprocessing import StandardScaler\n",
        "#from category_encoders import TargetEncoder\n",
        "from sklearn.preprocessing import OneHotEncoder\n",
        "from sklearn.tree import DecisionTreeClassifier\n",
        "import sklearn\n",
        "from sklearn import tree\n",
        "import matplotlib.pyplot as plt\n",
        "import seaborn as sns\n",
        "import time\n",
        "from datetime import timedelta\n",
        "from scipy.special import boxcox1p\n",
        "from scipy import stats\n",
        "import numpy as np"
      ]
    },
    {
      "cell_type": "code",
      "execution_count": 4,
      "metadata": {
        "colab": {
          "base_uri": "https://localhost:8080/"
        },
        "id": "Wb1TmnZ1DkeB",
        "outputId": "80a2e708-c901-4d43-a531-48eaee0e091c"
      },
      "outputs": [
        {
          "output_type": "stream",
          "name": "stdout",
          "text": [
            "Drive already mounted at /content/drive; to attempt to forcibly remount, call drive.mount(\"/content/drive\", force_remount=True).\n"
          ]
        }
      ],
      "source": [
        "from google.colab import drive\n",
        "drive.mount('/content/drive')"
      ]
    },
    {
      "cell_type": "code",
      "execution_count": 5,
      "metadata": {
        "id": "N8eLDIYXD5WO"
      },
      "outputs": [],
      "source": [
        "import warnings\n",
        "warnings.simplefilter(action='ignore', category=FutureWarning)\n"
      ]
    },
    {
      "cell_type": "code",
      "execution_count": 6,
      "metadata": {
        "id": "HgQmkDvDHx-x"
      },
      "outputs": [],
      "source": [
        "df = pd.read_csv('/content/drive/MyDrive/final_df.csv')"
      ]
    },
    {
      "cell_type": "code",
      "execution_count": 7,
      "metadata": {
        "colab": {
          "base_uri": "https://localhost:8080/",
          "height": 421
        },
        "id": "obj5-JDcH4Jp",
        "outputId": "e9a9b132-1879-4d02-f66a-d7e1c0a161ef"
      },
      "outputs": [
        {
          "output_type": "execute_result",
          "data": {
            "text/plain": [
              "     msa  year       site                  group  priv_count  priv_pay_mean  \\\n",
              "0  10180  2018  Inpatient  breast reconstruction         NaN            NaN   \n",
              "1  10420  2018  Inpatient  breast reconstruction         8.0    19937.08375   \n",
              "2  10500  2018  Inpatient  breast reconstruction         NaN            NaN   \n",
              "3  10540  2018  Inpatient  breast reconstruction         NaN            NaN   \n",
              "4  10580  2018  Inpatient  breast reconstruction         4.0    14837.26000   \n",
              "\n",
              "   priv_pay_median  priv_pay_iqr  mcare_pay_mean  mcare_pay_median  ...  \\\n",
              "0              NaN           NaN             NaN               NaN  ...   \n",
              "1        16147.330       5692.86             NaN               NaN  ...   \n",
              "2              NaN           NaN             NaN               NaN  ...   \n",
              "3              NaN           NaN             NaN               NaN  ...   \n",
              "4        10420.675       4474.06             NaN               NaN  ...   \n",
              "\n",
              "   ownership_PRIVATE (FOR PROFIT)_mode_y  \\\n",
              "0                                    0.0   \n",
              "1                                    0.0   \n",
              "2                                    0.5   \n",
              "3                                    0.0   \n",
              "4                                    0.0   \n",
              "\n",
              "  ownership_PRIVATE (NOT FOR PROFIT)_mode_y ownership_STATE_mode_y  \\\n",
              "0                                       0.0                    0.0   \n",
              "1                                       0.0                    0.0   \n",
              "2                                       0.0                    0.0   \n",
              "3                                       0.5                    0.0   \n",
              "4                                       1.0                    0.0   \n",
              "\n",
              "   ownership_TRIBAL_mode_y  urban_rural_URBAN_mode_y  teaching_YES_mode_y  \\\n",
              "0                      0.0                       1.0                  0.0   \n",
              "1                      0.0                       1.0                  1.0   \n",
              "2                      0.0                       1.0                  0.0   \n",
              "3                      0.0                       1.0                  0.5   \n",
              "4                      0.0                       1.0                  0.0   \n",
              "\n",
              "   hospital_count  avg_income_2020  population_estimate_2020  Life Expectancy  \n",
              "0             8.0          47740.0                  173185.0        77.864183  \n",
              "1            11.0          53252.0                  701449.0        76.567472  \n",
              "2             4.0          45593.0                  145206.0        76.615437  \n",
              "3             2.0          42653.0                  131054.0        79.088550  \n",
              "4            17.0          58601.0                  878550.0        80.327023  \n",
              "\n",
              "[5 rows x 104 columns]"
            ],
            "text/html": [
              "\n",
              "  <div id=\"df-f15ed093-8bd9-4580-9c69-8a08a079dcdd\">\n",
              "    <div class=\"colab-df-container\">\n",
              "      <div>\n",
              "<style scoped>\n",
              "    .dataframe tbody tr th:only-of-type {\n",
              "        vertical-align: middle;\n",
              "    }\n",
              "\n",
              "    .dataframe tbody tr th {\n",
              "        vertical-align: top;\n",
              "    }\n",
              "\n",
              "    .dataframe thead th {\n",
              "        text-align: right;\n",
              "    }\n",
              "</style>\n",
              "<table border=\"1\" class=\"dataframe\">\n",
              "  <thead>\n",
              "    <tr style=\"text-align: right;\">\n",
              "      <th></th>\n",
              "      <th>msa</th>\n",
              "      <th>year</th>\n",
              "      <th>site</th>\n",
              "      <th>group</th>\n",
              "      <th>priv_count</th>\n",
              "      <th>priv_pay_mean</th>\n",
              "      <th>priv_pay_median</th>\n",
              "      <th>priv_pay_iqr</th>\n",
              "      <th>mcare_pay_mean</th>\n",
              "      <th>mcare_pay_median</th>\n",
              "      <th>...</th>\n",
              "      <th>ownership_PRIVATE (FOR PROFIT)_mode_y</th>\n",
              "      <th>ownership_PRIVATE (NOT FOR PROFIT)_mode_y</th>\n",
              "      <th>ownership_STATE_mode_y</th>\n",
              "      <th>ownership_TRIBAL_mode_y</th>\n",
              "      <th>urban_rural_URBAN_mode_y</th>\n",
              "      <th>teaching_YES_mode_y</th>\n",
              "      <th>hospital_count</th>\n",
              "      <th>avg_income_2020</th>\n",
              "      <th>population_estimate_2020</th>\n",
              "      <th>Life Expectancy</th>\n",
              "    </tr>\n",
              "  </thead>\n",
              "  <tbody>\n",
              "    <tr>\n",
              "      <th>0</th>\n",
              "      <td>10180</td>\n",
              "      <td>2018</td>\n",
              "      <td>Inpatient</td>\n",
              "      <td>breast reconstruction</td>\n",
              "      <td>NaN</td>\n",
              "      <td>NaN</td>\n",
              "      <td>NaN</td>\n",
              "      <td>NaN</td>\n",
              "      <td>NaN</td>\n",
              "      <td>NaN</td>\n",
              "      <td>...</td>\n",
              "      <td>0.0</td>\n",
              "      <td>0.0</td>\n",
              "      <td>0.0</td>\n",
              "      <td>0.0</td>\n",
              "      <td>1.0</td>\n",
              "      <td>0.0</td>\n",
              "      <td>8.0</td>\n",
              "      <td>47740.0</td>\n",
              "      <td>173185.0</td>\n",
              "      <td>77.864183</td>\n",
              "    </tr>\n",
              "    <tr>\n",
              "      <th>1</th>\n",
              "      <td>10420</td>\n",
              "      <td>2018</td>\n",
              "      <td>Inpatient</td>\n",
              "      <td>breast reconstruction</td>\n",
              "      <td>8.0</td>\n",
              "      <td>19937.08375</td>\n",
              "      <td>16147.330</td>\n",
              "      <td>5692.86</td>\n",
              "      <td>NaN</td>\n",
              "      <td>NaN</td>\n",
              "      <td>...</td>\n",
              "      <td>0.0</td>\n",
              "      <td>0.0</td>\n",
              "      <td>0.0</td>\n",
              "      <td>0.0</td>\n",
              "      <td>1.0</td>\n",
              "      <td>1.0</td>\n",
              "      <td>11.0</td>\n",
              "      <td>53252.0</td>\n",
              "      <td>701449.0</td>\n",
              "      <td>76.567472</td>\n",
              "    </tr>\n",
              "    <tr>\n",
              "      <th>2</th>\n",
              "      <td>10500</td>\n",
              "      <td>2018</td>\n",
              "      <td>Inpatient</td>\n",
              "      <td>breast reconstruction</td>\n",
              "      <td>NaN</td>\n",
              "      <td>NaN</td>\n",
              "      <td>NaN</td>\n",
              "      <td>NaN</td>\n",
              "      <td>NaN</td>\n",
              "      <td>NaN</td>\n",
              "      <td>...</td>\n",
              "      <td>0.5</td>\n",
              "      <td>0.0</td>\n",
              "      <td>0.0</td>\n",
              "      <td>0.0</td>\n",
              "      <td>1.0</td>\n",
              "      <td>0.0</td>\n",
              "      <td>4.0</td>\n",
              "      <td>45593.0</td>\n",
              "      <td>145206.0</td>\n",
              "      <td>76.615437</td>\n",
              "    </tr>\n",
              "    <tr>\n",
              "      <th>3</th>\n",
              "      <td>10540</td>\n",
              "      <td>2018</td>\n",
              "      <td>Inpatient</td>\n",
              "      <td>breast reconstruction</td>\n",
              "      <td>NaN</td>\n",
              "      <td>NaN</td>\n",
              "      <td>NaN</td>\n",
              "      <td>NaN</td>\n",
              "      <td>NaN</td>\n",
              "      <td>NaN</td>\n",
              "      <td>...</td>\n",
              "      <td>0.0</td>\n",
              "      <td>0.5</td>\n",
              "      <td>0.0</td>\n",
              "      <td>0.0</td>\n",
              "      <td>1.0</td>\n",
              "      <td>0.5</td>\n",
              "      <td>2.0</td>\n",
              "      <td>42653.0</td>\n",
              "      <td>131054.0</td>\n",
              "      <td>79.088550</td>\n",
              "    </tr>\n",
              "    <tr>\n",
              "      <th>4</th>\n",
              "      <td>10580</td>\n",
              "      <td>2018</td>\n",
              "      <td>Inpatient</td>\n",
              "      <td>breast reconstruction</td>\n",
              "      <td>4.0</td>\n",
              "      <td>14837.26000</td>\n",
              "      <td>10420.675</td>\n",
              "      <td>4474.06</td>\n",
              "      <td>NaN</td>\n",
              "      <td>NaN</td>\n",
              "      <td>...</td>\n",
              "      <td>0.0</td>\n",
              "      <td>1.0</td>\n",
              "      <td>0.0</td>\n",
              "      <td>0.0</td>\n",
              "      <td>1.0</td>\n",
              "      <td>0.0</td>\n",
              "      <td>17.0</td>\n",
              "      <td>58601.0</td>\n",
              "      <td>878550.0</td>\n",
              "      <td>80.327023</td>\n",
              "    </tr>\n",
              "  </tbody>\n",
              "</table>\n",
              "<p>5 rows × 104 columns</p>\n",
              "</div>\n",
              "      <button class=\"colab-df-convert\" onclick=\"convertToInteractive('df-f15ed093-8bd9-4580-9c69-8a08a079dcdd')\"\n",
              "              title=\"Convert this dataframe to an interactive table.\"\n",
              "              style=\"display:none;\">\n",
              "        \n",
              "  <svg xmlns=\"http://www.w3.org/2000/svg\" height=\"24px\"viewBox=\"0 0 24 24\"\n",
              "       width=\"24px\">\n",
              "    <path d=\"M0 0h24v24H0V0z\" fill=\"none\"/>\n",
              "    <path d=\"M18.56 5.44l.94 2.06.94-2.06 2.06-.94-2.06-.94-.94-2.06-.94 2.06-2.06.94zm-11 1L8.5 8.5l.94-2.06 2.06-.94-2.06-.94L8.5 2.5l-.94 2.06-2.06.94zm10 10l.94 2.06.94-2.06 2.06-.94-2.06-.94-.94-2.06-.94 2.06-2.06.94z\"/><path d=\"M17.41 7.96l-1.37-1.37c-.4-.4-.92-.59-1.43-.59-.52 0-1.04.2-1.43.59L10.3 9.45l-7.72 7.72c-.78.78-.78 2.05 0 2.83L4 21.41c.39.39.9.59 1.41.59.51 0 1.02-.2 1.41-.59l7.78-7.78 2.81-2.81c.8-.78.8-2.07 0-2.86zM5.41 20L4 18.59l7.72-7.72 1.47 1.35L5.41 20z\"/>\n",
              "  </svg>\n",
              "      </button>\n",
              "      \n",
              "  <style>\n",
              "    .colab-df-container {\n",
              "      display:flex;\n",
              "      flex-wrap:wrap;\n",
              "      gap: 12px;\n",
              "    }\n",
              "\n",
              "    .colab-df-convert {\n",
              "      background-color: #E8F0FE;\n",
              "      border: none;\n",
              "      border-radius: 50%;\n",
              "      cursor: pointer;\n",
              "      display: none;\n",
              "      fill: #1967D2;\n",
              "      height: 32px;\n",
              "      padding: 0 0 0 0;\n",
              "      width: 32px;\n",
              "    }\n",
              "\n",
              "    .colab-df-convert:hover {\n",
              "      background-color: #E2EBFA;\n",
              "      box-shadow: 0px 1px 2px rgba(60, 64, 67, 0.3), 0px 1px 3px 1px rgba(60, 64, 67, 0.15);\n",
              "      fill: #174EA6;\n",
              "    }\n",
              "\n",
              "    [theme=dark] .colab-df-convert {\n",
              "      background-color: #3B4455;\n",
              "      fill: #D2E3FC;\n",
              "    }\n",
              "\n",
              "    [theme=dark] .colab-df-convert:hover {\n",
              "      background-color: #434B5C;\n",
              "      box-shadow: 0px 1px 3px 1px rgba(0, 0, 0, 0.15);\n",
              "      filter: drop-shadow(0px 1px 2px rgba(0, 0, 0, 0.3));\n",
              "      fill: #FFFFFF;\n",
              "    }\n",
              "  </style>\n",
              "\n",
              "      <script>\n",
              "        const buttonEl =\n",
              "          document.querySelector('#df-f15ed093-8bd9-4580-9c69-8a08a079dcdd button.colab-df-convert');\n",
              "        buttonEl.style.display =\n",
              "          google.colab.kernel.accessAllowed ? 'block' : 'none';\n",
              "\n",
              "        async function convertToInteractive(key) {\n",
              "          const element = document.querySelector('#df-f15ed093-8bd9-4580-9c69-8a08a079dcdd');\n",
              "          const dataTable =\n",
              "            await google.colab.kernel.invokeFunction('convertToInteractive',\n",
              "                                                     [key], {});\n",
              "          if (!dataTable) return;\n",
              "\n",
              "          const docLinkHtml = 'Like what you see? Visit the ' +\n",
              "            '<a target=\"_blank\" href=https://colab.research.google.com/notebooks/data_table.ipynb>data table notebook</a>'\n",
              "            + ' to learn more about interactive tables.';\n",
              "          element.innerHTML = '';\n",
              "          dataTable['output_type'] = 'display_data';\n",
              "          await google.colab.output.renderOutput(dataTable, element);\n",
              "          const docLink = document.createElement('div');\n",
              "          docLink.innerHTML = docLinkHtml;\n",
              "          element.appendChild(docLink);\n",
              "        }\n",
              "      </script>\n",
              "    </div>\n",
              "  </div>\n",
              "  "
            ]
          },
          "metadata": {},
          "execution_count": 7
        }
      ],
      "source": [
        "df.head()"
      ]
    },
    {
      "cell_type": "code",
      "execution_count": 8,
      "metadata": {
        "colab": {
          "base_uri": "https://localhost:8080/",
          "height": 581
        },
        "id": "UQfSKLyCJrTQ",
        "outputId": "49725d1f-eeb5-4b2c-a119-60e66d8b49ae"
      },
      "outputs": [
        {
          "output_type": "display_data",
          "data": {
            "text/plain": [
              "<Figure size 1800x720 with 1 Axes>"
            ],
            "image/png": "[encoded data removed]"
          },
          "metadata": {
            "needs_background": "light"
          }
        }
      ],
      "source": [
        "m = []\n",
        "idx = []\n",
        "x = []\n",
        "\n",
        "for id, i in enumerate(df.columns):\n",
        "  percent = df[i].isnull().sum()/len(df)\n",
        "  if percent > 0.025:\n",
        "    idx.append(id)\n",
        "    m.append(percent)\n",
        "\n",
        "for i in idx:\n",
        "  x.append(list(df.columns)[i])\n",
        "\n",
        "plt.figure(figsize=(25,10))\n",
        "plt.bar(x, m, color ='green', width = 0.5)\n",
        "plt.xlabel(\"features\")\n",
        "plt.ylabel(\"Missing %\")\n",
        "plt.title(\"Plot of missing %\")\n",
        "plt.show()"
      ]
    },
    {
      "cell_type": "code",
      "execution_count": 9,
      "metadata": {
        "colab": {
          "base_uri": "https://localhost:8080/"
        },
        "id": "6RKLMkL3KYB1",
        "outputId": "8c7763c3-1bfc-4f84-c231-eed2491bd43f"
      },
      "outputs": [
        {
          "output_type": "stream",
          "name": "stdout",
          "text": [
            "msa\n",
            "year\n",
            "site\n",
            "group\n",
            "priv_count\n",
            "priv_pay_mean\n",
            "priv_pay_median\n",
            "priv_pay_iqr\n",
            "mcare_pay_mean\n",
            "mcare_pay_median\n",
            "mcare_pay_sd\n",
            "CBSA_NAME\n",
            "State\n",
            "FIPS State Code\n",
            "lon\n",
            "lat\n",
            "beds_grp_mean\n",
            "Covid_payment_mean\n",
            "beds_grp_greater_500_mean\n",
            "ownership_FEDERAL_mean\n",
            "ownership_HOSPITAL DISTRICT OR AUTHORITY_mean\n",
            "ownership_LOCAL_mean\n",
            "ownership_OTHER (SPECIFY)_mean\n",
            "ownership_PHYSICIAN OWNERSHIP_mean\n",
            "ownership_PRIVATE (FOR PROFIT)_mean\n",
            "ownership_PRIVATE (NOT FOR PROFIT)_mean\n",
            "ownership_STATE_mean\n",
            "ownership_TRIBAL_mean\n",
            "urban_rural_URBAN_mean\n",
            "teaching_YES_mean\n",
            "beds_grp_count\n",
            "Covid_payment_count\n",
            "beds_grp_greater_500_count\n",
            "ownership_FEDERAL_count\n",
            "ownership_HOSPITAL DISTRICT OR AUTHORITY_count\n",
            "ownership_LOCAL_count\n",
            "ownership_OTHER (SPECIFY)_count\n",
            "ownership_PHYSICIAN OWNERSHIP_count\n",
            "ownership_PRIVATE (FOR PROFIT)_count\n",
            "ownership_PRIVATE (NOT FOR PROFIT)_count\n",
            "ownership_STATE_count\n",
            "ownership_TRIBAL_count\n",
            "urban_rural_URBAN_count\n",
            "teaching_YES_count\n",
            "beds_grp_exists\n",
            "Covid_payment_exists\n",
            "beds_grp_greater_500_exists\n",
            "ownership_FEDERAL_exists\n",
            "ownership_HOSPITAL DISTRICT OR AUTHORITY_exists\n",
            "ownership_LOCAL_exists\n",
            "ownership_OTHER (SPECIFY)_exists\n",
            "ownership_PHYSICIAN OWNERSHIP_exists\n",
            "ownership_PRIVATE (FOR PROFIT)_exists\n",
            "ownership_PRIVATE (NOT FOR PROFIT)_exists\n",
            "ownership_STATE_exists\n",
            "ownership_TRIBAL_exists\n",
            "urban_rural_URBAN_exists\n",
            "teaching_YES_exists\n",
            "beds_grp_median\n",
            "Covid_payment_median\n",
            "beds_grp_greater_500_median\n",
            "ownership_FEDERAL_median\n",
            "ownership_HOSPITAL DISTRICT OR AUTHORITY_median\n",
            "ownership_LOCAL_median\n",
            "ownership_OTHER (SPECIFY)_median\n",
            "ownership_PHYSICIAN OWNERSHIP_median\n",
            "ownership_PRIVATE (FOR PROFIT)_median\n",
            "ownership_PRIVATE (NOT FOR PROFIT)_median\n",
            "ownership_STATE_median\n",
            "ownership_TRIBAL_median\n",
            "urban_rural_URBAN_median\n",
            "teaching_YES_median\n",
            "beds_grp_mode_x\n",
            "Covid_payment_mode_x\n",
            "beds_grp_greater_500_mode_x\n",
            "ownership_FEDERAL_mode_x\n",
            "ownership_HOSPITAL DISTRICT OR AUTHORITY_mode_x\n",
            "ownership_LOCAL_mode_x\n",
            "ownership_OTHER (SPECIFY)_mode_x\n",
            "ownership_PHYSICIAN OWNERSHIP_mode_x\n",
            "ownership_PRIVATE (FOR PROFIT)_mode_x\n",
            "ownership_PRIVATE (NOT FOR PROFIT)_mode_x\n",
            "ownership_STATE_mode_x\n",
            "ownership_TRIBAL_mode_x\n",
            "urban_rural_URBAN_mode_x\n",
            "teaching_YES_mode_x\n",
            "beds_grp_mode_y\n",
            "Covid_payment_mode_y\n",
            "beds_grp_greater_500_mode_y\n",
            "ownership_FEDERAL_mode_y\n",
            "ownership_HOSPITAL DISTRICT OR AUTHORITY_mode_y\n",
            "ownership_LOCAL_mode_y\n",
            "ownership_OTHER (SPECIFY)_mode_y\n",
            "ownership_PHYSICIAN OWNERSHIP_mode_y\n",
            "ownership_PRIVATE (FOR PROFIT)_mode_y\n",
            "ownership_PRIVATE (NOT FOR PROFIT)_mode_y\n",
            "ownership_STATE_mode_y\n",
            "ownership_TRIBAL_mode_y\n",
            "urban_rural_URBAN_mode_y\n",
            "teaching_YES_mode_y\n",
            "hospital_count\n",
            "avg_income_2020\n",
            "population_estimate_2020\n",
            "Life Expectancy\n"
          ]
        }
      ],
      "source": [
        "for i in df.columns:\n",
        "  print(i)"
      ]
    },
    {
      "cell_type": "code",
      "execution_count": 10,
      "metadata": {
        "id": "bcZiu6m3GKGY"
      },
      "outputs": [],
      "source": [
        "import pandas as pd\n",
        "import requests\n",
        "from bs4 import BeautifulSoup\n",
        "import plotly.express as px"
      ]
    },
    {
      "cell_type": "code",
      "execution_count": 11,
      "metadata": {
        "id": "E9pQCejlJZmj"
      },
      "outputs": [],
      "source": [
        "def plot_choropleth(df, i):\n",
        "  state_code = pd.read_csv('/content/drive/MyDrive/us-state-ansi-fips.csv')\n",
        "  df1 = df.groupby(by = 'FIPS State Code')[i].mean()\n",
        "  a = state_code.merge(df1.to_frame(), left_on = ' st', right_on= 'FIPS State Code')\n",
        "  a[' stusps'] = a[' stusps'].apply(lambda x: x.lstrip())\n",
        "\n",
        "  fig = px.choropleth(a,\n",
        "                    locations=' stusps',\n",
        "                    color=i,\n",
        "                    color_continuous_scale='spectral_r',\n",
        "                    hover_name='stname',\n",
        "                    locationmode='USA-states',\n",
        "                    scope='usa')\n",
        "\n",
        "  fig.show()"
      ]
    },
    {
      "cell_type": "code",
      "execution_count": 12,
      "metadata": {
        "id": "lfFPYqlIKHhh"
      },
      "outputs": [],
      "source": [
        "# plot_choropleth(df, 'avg_income_2020')"
      ]
    },
    {
      "cell_type": "code",
      "execution_count": 13,
      "metadata": {
        "id": "w0iwJgzoKQxT"
      },
      "outputs": [],
      "source": [
        "# plot_choropleth(df, 'Life Expectancy')"
      ]
    },
    {
      "cell_type": "code",
      "execution_count": 14,
      "metadata": {
        "id": "_bXMyA34KZDv"
      },
      "outputs": [],
      "source": [
        "# plot_choropleth(df, 'hospital_count')"
      ]
    },
    {
      "cell_type": "code",
      "execution_count": 15,
      "metadata": {
        "id": "txafqQjzM9Ze"
      },
      "outputs": [],
      "source": [
        "df.loc[df.msa == 42540, 'lat'] = 41.408970\n",
        "df.loc[df.msa == 42540, 'lon'] = -75.662415"
      ]
    },
    {
      "cell_type": "code",
      "execution_count": 16,
      "metadata": {
        "id": "dbwPWwowDjoG"
      },
      "outputs": [],
      "source": [
        "# Adding Lat/Long to into haversine distance\n",
        "\n",
        "from math import radians, cos, sin, asin, sqrt\n",
        "\n",
        "def single_pt_haversine(lat, lng, degrees=True):\n",
        "    \"\"\"\n",
        "    'Single-point' Haversine: Calculates the great circle distance\n",
        "    between a point on Earth and the (0, 0) lat-long coordinate\n",
        "    \"\"\"\n",
        "    r = 6371 # Earth's radius (km). Have r = 3956 if you want miles\n",
        "\n",
        "    # Convert decimal degrees to radians\n",
        "    if degrees:\n",
        "        lat, lng = map(radians, [lat, lng])\n",
        "\n",
        "    # 'Single-point' Haversine formula\n",
        "    a = sin(lat/2)**2 + cos(lat) * sin(lng/2)**2\n",
        "    d = 2 * r * asin(sqrt(a)) \n",
        "\n",
        "    return d\n",
        "\n",
        "df['harvesine_distance'] = [single_pt_haversine(x, y) for x, y in zip(df.lat, df.lon)]\n",
        "# Geohash.encode(df_valid.iloc[0, list(df_valid.columns).index('lat')], df_valid.iloc[0, list(df_valid.columns).index('lon')])"
      ]
    },
    {
      "cell_type": "code",
      "execution_count": 17,
      "metadata": {
        "colab": {
          "base_uri": "https://localhost:8080/",
          "height": 49
        },
        "id": "K8mAz3NPLrJe",
        "outputId": "54e6c076-9e94-4815-dc2f-53c538772130"
      },
      "outputs": [
        {
          "output_type": "execute_result",
          "data": {
            "text/plain": [
              "Empty DataFrame\n",
              "Columns: [msa, lat, lon, CBSA_NAME, FIPS State Code]\n",
              "Index: []"
            ],
            "text/html": [
              "\n",
              "  <div id=\"df-c875bd0c-87f5-4011-a214-f01149b1b71d\">\n",
              "    <div class=\"colab-df-container\">\n",
              "      <div>\n",
              "<style scoped>\n",
              "    .dataframe tbody tr th:only-of-type {\n",
              "        vertical-align: middle;\n",
              "    }\n",
              "\n",
              "    .dataframe tbody tr th {\n",
              "        vertical-align: top;\n",
              "    }\n",
              "\n",
              "    .dataframe thead th {\n",
              "        text-align: right;\n",
              "    }\n",
              "</style>\n",
              "<table border=\"1\" class=\"dataframe\">\n",
              "  <thead>\n",
              "    <tr style=\"text-align: right;\">\n",
              "      <th></th>\n",
              "      <th>msa</th>\n",
              "      <th>lat</th>\n",
              "      <th>lon</th>\n",
              "      <th>CBSA_NAME</th>\n",
              "      <th>FIPS State Code</th>\n",
              "    </tr>\n",
              "  </thead>\n",
              "  <tbody>\n",
              "  </tbody>\n",
              "</table>\n",
              "</div>\n",
              "      <button class=\"colab-df-convert\" onclick=\"convertToInteractive('df-c875bd0c-87f5-4011-a214-f01149b1b71d')\"\n",
              "              title=\"Convert this dataframe to an interactive table.\"\n",
              "              style=\"display:none;\">\n",
              "        \n",
              "  <svg xmlns=\"http://www.w3.org/2000/svg\" height=\"24px\"viewBox=\"0 0 24 24\"\n",
              "       width=\"24px\">\n",
              "    <path d=\"M0 0h24v24H0V0z\" fill=\"none\"/>\n",
              "    <path d=\"M18.56 5.44l.94 2.06.94-2.06 2.06-.94-2.06-.94-.94-2.06-.94 2.06-2.06.94zm-11 1L8.5 8.5l.94-2.06 2.06-.94-2.06-.94L8.5 2.5l-.94 2.06-2.06.94zm10 10l.94 2.06.94-2.06 2.06-.94-2.06-.94-.94-2.06-.94 2.06-2.06.94z\"/><path d=\"M17.41 7.96l-1.37-1.37c-.4-.4-.92-.59-1.43-.59-.52 0-1.04.2-1.43.59L10.3 9.45l-7.72 7.72c-.78.78-.78 2.05 0 2.83L4 21.41c.39.39.9.59 1.41.59.51 0 1.02-.2 1.41-.59l7.78-7.78 2.81-2.81c.8-.78.8-2.07 0-2.86zM5.41 20L4 18.59l7.72-7.72 1.47 1.35L5.41 20z\"/>\n",
              "  </svg>\n",
              "      </button>\n",
              "      \n",
              "  <style>\n",
              "    .colab-df-container {\n",
              "      display:flex;\n",
              "      flex-wrap:wrap;\n",
              "      gap: 12px;\n",
              "    }\n",
              "\n",
              "    .colab-df-convert {\n",
              "      background-color: #E8F0FE;\n",
              "      border: none;\n",
              "      border-radius: 50%;\n",
              "      cursor: pointer;\n",
              "      display: none;\n",
              "      fill: #1967D2;\n",
              "      height: 32px;\n",
              "      padding: 0 0 0 0;\n",
              "      width: 32px;\n",
              "    }\n",
              "\n",
              "    .colab-df-convert:hover {\n",
              "      background-color: #E2EBFA;\n",
              "      box-shadow: 0px 1px 2px rgba(60, 64, 67, 0.3), 0px 1px 3px 1px rgba(60, 64, 67, 0.15);\n",
              "      fill: #174EA6;\n",
              "    }\n",
              "\n",
              "    [theme=dark] .colab-df-convert {\n",
              "      background-color: #3B4455;\n",
              "      fill: #D2E3FC;\n",
              "    }\n",
              "\n",
              "    [theme=dark] .colab-df-convert:hover {\n",
              "      background-color: #434B5C;\n",
              "      box-shadow: 0px 1px 3px 1px rgba(0, 0, 0, 0.15);\n",
              "      filter: drop-shadow(0px 1px 2px rgba(0, 0, 0, 0.3));\n",
              "      fill: #FFFFFF;\n",
              "    }\n",
              "  </style>\n",
              "\n",
              "      <script>\n",
              "        const buttonEl =\n",
              "          document.querySelector('#df-c875bd0c-87f5-4011-a214-f01149b1b71d button.colab-df-convert');\n",
              "        buttonEl.style.display =\n",
              "          google.colab.kernel.accessAllowed ? 'block' : 'none';\n",
              "\n",
              "        async function convertToInteractive(key) {\n",
              "          const element = document.querySelector('#df-c875bd0c-87f5-4011-a214-f01149b1b71d');\n",
              "          const dataTable =\n",
              "            await google.colab.kernel.invokeFunction('convertToInteractive',\n",
              "                                                     [key], {});\n",
              "          if (!dataTable) return;\n",
              "\n",
              "          const docLinkHtml = 'Like what you see? Visit the ' +\n",
              "            '<a target=\"_blank\" href=https://colab.research.google.com/notebooks/data_table.ipynb>data table notebook</a>'\n",
              "            + ' to learn more about interactive tables.';\n",
              "          element.innerHTML = '';\n",
              "          dataTable['output_type'] = 'display_data';\n",
              "          await google.colab.output.renderOutput(dataTable, element);\n",
              "          const docLink = document.createElement('div');\n",
              "          docLink.innerHTML = docLinkHtml;\n",
              "          element.appendChild(docLink);\n",
              "        }\n",
              "      </script>\n",
              "    </div>\n",
              "  </div>\n",
              "  "
            ]
          },
          "metadata": {},
          "execution_count": 17
        }
      ],
      "source": [
        "df[pd.isna(df['harvesine_distance'])][['msa', 'lat', 'lon', 'CBSA_NAME', 'FIPS State Code']]"
      ]
    },
    {
      "cell_type": "code",
      "execution_count": 18,
      "metadata": {
        "id": "kK0wfygRVX2H"
      },
      "outputs": [],
      "source": [
        "df = df[ (df.priv_pay_mean >0) | (df['priv_pay_mean'].isna())]"
      ]
    },
    {
      "cell_type": "code",
      "execution_count": 19,
      "metadata": {
        "colab": {
          "base_uri": "https://localhost:8080/"
        },
        "id": "V_PBe8v4OUDo",
        "outputId": "603168d0-43e3-4619-c489-5357e2865d4c"
      },
      "outputs": [
        {
          "output_type": "execute_result",
          "data": {
            "text/plain": [
              "Outpatient    60982\n",
              "Inpatient     60972\n",
              "ASC           10984\n",
              "Name: site, dtype: int64"
            ]
          },
          "metadata": {},
          "execution_count": 19
        }
      ],
      "source": [
        "df.site.value_counts()\n",
        "\n"
      ]
    },
    {
      "cell_type": "code",
      "execution_count": 20,
      "metadata": {
        "colab": {
          "base_uri": "https://localhost:8080/"
        },
        "id": "cI9oUMmXOUFp",
        "outputId": "822f9da3-e067-45b6-9c20-fd352489c892"
      },
      "outputs": [
        {
          "output_type": "execute_result",
          "data": {
            "text/plain": [
              "1    121954\n",
              "0     10984\n",
              "Name: site_weight, dtype: int64"
            ]
          },
          "metadata": {},
          "execution_count": 20
        }
      ],
      "source": [
        "#Since ASC has to be less than outpatient and Inpatient, Assigning  weight 0 to ASC and 1 to other groups.\n",
        "df['site_weight']  = 1\n",
        "df.loc[df['site'] == 'ASC', 'site_weight'] = 0\n",
        "df.site_weight.value_counts()"
      ]
    },
    {
      "cell_type": "code",
      "execution_count": 21,
      "metadata": {
        "colab": {
          "base_uri": "https://localhost:8080/"
        },
        "id": "9DX9qnSvF7IO",
        "outputId": "9b194afc-c62d-449d-b7a6-d4d39eb477f2"
      },
      "outputs": [
        {
          "output_type": "execute_result",
          "data": {
            "text/plain": [
              "(19996, 4)"
            ]
          },
          "metadata": {},
          "execution_count": 21
        }
      ],
      "source": [
        "#Check for ASC payment > Inpatient payment\n",
        "df_inpatient = df[ (df['site'] == 'Inpatient') & (~df['priv_pay_mean'].isna())].groupby(['msa','group','year'])['priv_pay_mean'].min().reset_index()\n",
        "df_inpatient.shape"
      ]
    },
    {
      "cell_type": "code",
      "execution_count": 22,
      "metadata": {
        "colab": {
          "base_uri": "https://localhost:8080/",
          "height": 206
        },
        "id": "K1hTSWBvHCGo",
        "outputId": "53348a13-d3b0-4dd6-de76-ca15d9995912"
      },
      "outputs": [
        {
          "output_type": "execute_result",
          "data": {
            "text/plain": [
              "     msa            group  year  min_inpatient_pay\n",
              "0  10180        ankle_fix  2018        50892.66000\n",
              "1  10180  ant_cerv_fusion  2018        71236.01333\n",
              "2  10180  ant_cerv_fusion  2019        62690.41000\n",
              "3  10180  ant_cerv_fusion  2020        78303.19500\n",
              "4  10180   ant_tls_fusion  2018        35398.22000"
            ],
            "text/html": [
              "\n",
              "  <div id=\"df-54d94518-8eaa-450a-9bf5-24f7408a41a6\">\n",
              "    <div class=\"colab-df-container\">\n",
              "      <div>\n",
              "<style scoped>\n",
              "    .dataframe tbody tr th:only-of-type {\n",
              "        vertical-align: middle;\n",
              "    }\n",
              "\n",
              "    .dataframe tbody tr th {\n",
              "        vertical-align: top;\n",
              "    }\n",
              "\n",
              "    .dataframe thead th {\n",
              "        text-align: right;\n",
              "    }\n",
              "</style>\n",
              "<table border=\"1\" class=\"dataframe\">\n",
              "  <thead>\n",
              "    <tr style=\"text-align: right;\">\n",
              "      <th></th>\n",
              "      <th>msa</th>\n",
              "      <th>group</th>\n",
              "      <th>year</th>\n",
              "      <th>min_inpatient_pay</th>\n",
              "    </tr>\n",
              "  </thead>\n",
              "  <tbody>\n",
              "    <tr>\n",
              "      <th>0</th>\n",
              "      <td>10180</td>\n",
              "      <td>ankle_fix</td>\n",
              "      <td>2018</td>\n",
              "      <td>50892.66000</td>\n",
              "    </tr>\n",
              "    <tr>\n",
              "      <th>1</th>\n",
              "      <td>10180</td>\n",
              "      <td>ant_cerv_fusion</td>\n",
              "      <td>2018</td>\n",
              "      <td>71236.01333</td>\n",
              "    </tr>\n",
              "    <tr>\n",
              "      <th>2</th>\n",
              "      <td>10180</td>\n",
              "      <td>ant_cerv_fusion</td>\n",
              "      <td>2019</td>\n",
              "      <td>62690.41000</td>\n",
              "    </tr>\n",
              "    <tr>\n",
              "      <th>3</th>\n",
              "      <td>10180</td>\n",
              "      <td>ant_cerv_fusion</td>\n",
              "      <td>2020</td>\n",
              "      <td>78303.19500</td>\n",
              "    </tr>\n",
              "    <tr>\n",
              "      <th>4</th>\n",
              "      <td>10180</td>\n",
              "      <td>ant_tls_fusion</td>\n",
              "      <td>2018</td>\n",
              "      <td>35398.22000</td>\n",
              "    </tr>\n",
              "  </tbody>\n",
              "</table>\n",
              "</div>\n",
              "      <button class=\"colab-df-convert\" onclick=\"convertToInteractive('df-54d94518-8eaa-450a-9bf5-24f7408a41a6')\"\n",
              "              title=\"Convert this dataframe to an interactive table.\"\n",
              "              style=\"display:none;\">\n",
              "        \n",
              "  <svg xmlns=\"http://www.w3.org/2000/svg\" height=\"24px\"viewBox=\"0 0 24 24\"\n",
              "       width=\"24px\">\n",
              "    <path d=\"M0 0h24v24H0V0z\" fill=\"none\"/>\n",
              "    <path d=\"M18.56 5.44l.94 2.06.94-2.06 2.06-.94-2.06-.94-.94-2.06-.94 2.06-2.06.94zm-11 1L8.5 8.5l.94-2.06 2.06-.94-2.06-.94L8.5 2.5l-.94 2.06-2.06.94zm10 10l.94 2.06.94-2.06 2.06-.94-2.06-.94-.94-2.06-.94 2.06-2.06.94z\"/><path d=\"M17.41 7.96l-1.37-1.37c-.4-.4-.92-.59-1.43-.59-.52 0-1.04.2-1.43.59L10.3 9.45l-7.72 7.72c-.78.78-.78 2.05 0 2.83L4 21.41c.39.39.9.59 1.41.59.51 0 1.02-.2 1.41-.59l7.78-7.78 2.81-2.81c.8-.78.8-2.07 0-2.86zM5.41 20L4 18.59l7.72-7.72 1.47 1.35L5.41 20z\"/>\n",
              "  </svg>\n",
              "      </button>\n",
              "      \n",
              "  <style>\n",
              "    .colab-df-container {\n",
              "      display:flex;\n",
              "      flex-wrap:wrap;\n",
              "      gap: 12px;\n",
              "    }\n",
              "\n",
              "    .colab-df-convert {\n",
              "      background-color: #E8F0FE;\n",
              "      border: none;\n",
              "      border-radius: 50%;\n",
              "      cursor: pointer;\n",
              "      display: none;\n",
              "      fill: #1967D2;\n",
              "      height: 32px;\n",
              "      padding: 0 0 0 0;\n",
              "      width: 32px;\n",
              "    }\n",
              "\n",
              "    .colab-df-convert:hover {\n",
              "      background-color: #E2EBFA;\n",
              "      box-shadow: 0px 1px 2px rgba(60, 64, 67, 0.3), 0px 1px 3px 1px rgba(60, 64, 67, 0.15);\n",
              "      fill: #174EA6;\n",
              "    }\n",
              "\n",
              "    [theme=dark] .colab-df-convert {\n",
              "      background-color: #3B4455;\n",
              "      fill: #D2E3FC;\n",
              "    }\n",
              "\n",
              "    [theme=dark] .colab-df-convert:hover {\n",
              "      background-color: #434B5C;\n",
              "      box-shadow: 0px 1px 3px 1px rgba(0, 0, 0, 0.15);\n",
              "      filter: drop-shadow(0px 1px 2px rgba(0, 0, 0, 0.3));\n",
              "      fill: #FFFFFF;\n",
              "    }\n",
              "  </style>\n",
              "\n",
              "      <script>\n",
              "        const buttonEl =\n",
              "          document.querySelector('#df-54d94518-8eaa-450a-9bf5-24f7408a41a6 button.colab-df-convert');\n",
              "        buttonEl.style.display =\n",
              "          google.colab.kernel.accessAllowed ? 'block' : 'none';\n",
              "\n",
              "        async function convertToInteractive(key) {\n",
              "          const element = document.querySelector('#df-54d94518-8eaa-450a-9bf5-24f7408a41a6');\n",
              "          const dataTable =\n",
              "            await google.colab.kernel.invokeFunction('convertToInteractive',\n",
              "                                                     [key], {});\n",
              "          if (!dataTable) return;\n",
              "\n",
              "          const docLinkHtml = 'Like what you see? Visit the ' +\n",
              "            '<a target=\"_blank\" href=https://colab.research.google.com/notebooks/data_table.ipynb>data table notebook</a>'\n",
              "            + ' to learn more about interactive tables.';\n",
              "          element.innerHTML = '';\n",
              "          dataTable['output_type'] = 'display_data';\n",
              "          await google.colab.output.renderOutput(dataTable, element);\n",
              "          const docLink = document.createElement('div');\n",
              "          docLink.innerHTML = docLinkHtml;\n",
              "          element.appendChild(docLink);\n",
              "        }\n",
              "      </script>\n",
              "    </div>\n",
              "  </div>\n",
              "  "
            ]
          },
          "metadata": {},
          "execution_count": 22
        }
      ],
      "source": [
        "df_inpatient.columns = ['msa', 'group', 'year', 'min_inpatient_pay']\n",
        "df_inpatient.head()"
      ]
    },
    {
      "cell_type": "code",
      "execution_count": 23,
      "metadata": {
        "colab": {
          "base_uri": "https://localhost:8080/"
        },
        "id": "uEiAZdAQHRQO",
        "outputId": "49bdf3ce-d3ed-4833-966a-dead913c6e4d"
      },
      "outputs": [
        {
          "output_type": "execute_result",
          "data": {
            "text/plain": [
              "(215, 107)"
            ]
          },
          "metadata": {},
          "execution_count": 23
        }
      ],
      "source": [
        "df = pd.merge(df, df_inpatient, on = ['msa', 'group', 'year'], how='left')\n",
        "df[ (~df['priv_pay_mean'].isna()) & (df.priv_pay_mean > df.min_inpatient_pay) & (df.site == 'ASC')].shape\n",
        "## 222 rows have ASC > Inpatient"
      ]
    },
    {
      "cell_type": "code",
      "execution_count": 24,
      "metadata": {
        "colab": {
          "base_uri": "https://localhost:8080/"
        },
        "id": "whuy51GcIjUY",
        "outputId": "f5139f59-fab9-447f-a2c9-2b9827c3c3db"
      },
      "outputs": [
        {
          "output_type": "execute_result",
          "data": {
            "text/plain": [
              "(0, 107)"
            ]
          },
          "metadata": {},
          "execution_count": 24
        }
      ],
      "source": [
        "df.loc[ (~df['priv_pay_mean'].isna()) & (df.priv_pay_mean > df.min_inpatient_pay) & (df.site == 'ASC'), 'priv_pay_mean'] = \\\n",
        "df.loc[ (~df['priv_pay_mean'].isna()) & (df.priv_pay_mean > df.min_inpatient_pay) & (df.site == 'ASC'), 'min_inpatient_pay']\n",
        "\n",
        "df[ (~df['priv_pay_mean'].isna()) & (df.priv_pay_mean > df.min_inpatient_pay) & (df.site == 'ASC')].shape"
      ]
    },
    {
      "cell_type": "code",
      "execution_count": 25,
      "metadata": {
        "colab": {
          "base_uri": "https://localhost:8080/"
        },
        "id": "liCLEuxtDthn",
        "outputId": "7f7f02d3-a812-422c-d363-334c99a0a833"
      },
      "outputs": [
        {
          "output_type": "execute_result",
          "data": {
            "text/plain": [
              "(54183, 107)"
            ]
          },
          "metadata": {},
          "execution_count": 25
        }
      ],
      "source": [
        "df_valid = df[~df['priv_pay_mean'].isna()]\n",
        "df_valid.shape\n",
        "## Nearly 60% target is missing"
      ]
    },
    {
      "cell_type": "code",
      "execution_count": 26,
      "metadata": {
        "colab": {
          "base_uri": "https://localhost:8080/"
        },
        "id": "VAnzUHZ0DjwG",
        "outputId": "0977b35f-29f7-489e-be0b-b28e28a54faa"
      },
      "outputs": [
        {
          "output_type": "execute_result",
          "data": {
            "text/plain": [
              "48"
            ]
          },
          "metadata": {},
          "execution_count": 26
        }
      ],
      "source": [
        "df_valid.group.nunique()\n",
        "# 3 groups and proccedure types missing. Cannot be predicted."
      ]
    },
    {
      "cell_type": "code",
      "execution_count": 27,
      "metadata": {
        "id": "XIbOWO0xIWxE"
      },
      "outputs": [],
      "source": [
        "def get_data_threshold(df, var, thres):\n",
        "  print('There are {} rows and {} unique groups using {} as theshold'.format( df[df[var] > thres].shape[0], \n",
        "                                                                             df[df[var] > thres].group.nunique(), thres ) )"
      ]
    },
    {
      "cell_type": "code",
      "execution_count": 28,
      "metadata": {
        "colab": {
          "base_uri": "https://localhost:8080/"
        },
        "id": "kbcejHjyJR-x",
        "outputId": "b57d48c5-62ea-48bf-f43e-61f466a5d1a1"
      },
      "outputs": [
        {
          "output_type": "stream",
          "name": "stdout",
          "text": [
            "There are 8087 rows and 41 unique groups using 20 as theshold\n",
            "There are 6841 rows and 39 unique groups using 25 as theshold\n",
            "There are 5921 rows and 39 unique groups using 30 as theshold\n",
            "There are 4680 rows and 38 unique groups using 40 as theshold\n",
            "There are 3843 rows and 36 unique groups using 50 as theshold\n",
            "There are 3295 rows and 31 unique groups using 60 as theshold\n"
          ]
        }
      ],
      "source": [
        "get_data_threshold(df_valid, 'priv_count', 20)\n",
        "get_data_threshold(df_valid, 'priv_count', 25)\n",
        "get_data_threshold(df_valid, 'priv_count', 30)\n",
        "get_data_threshold(df_valid, 'priv_count', 40)\n",
        "get_data_threshold(df_valid, 'priv_count', 50)\n",
        "get_data_threshold(df_valid, 'priv_count', 60)"
      ]
    },
    {
      "cell_type": "code",
      "execution_count": 29,
      "metadata": {
        "colab": {
          "base_uri": "https://localhost:8080/"
        },
        "id": "ojWNLuRRGJfx",
        "outputId": "7b67d6df-3f07-43ff-8f4b-318c945dc5c0"
      },
      "outputs": [
        {
          "output_type": "stream",
          "name": "stderr",
          "text": [
            "/usr/local/lib/python3.7/dist-packages/ipykernel_launcher.py:2: UserWarning: Boolean Series key will be reindexed to match DataFrame index.\n",
            "  \n"
          ]
        },
        {
          "output_type": "execute_result",
          "data": {
            "text/plain": [
              "(5921, 107)"
            ]
          },
          "metadata": {},
          "execution_count": 29
        }
      ],
      "source": [
        "#slicing the data\n",
        "df_valid = df_valid[df['priv_count'] > 30]\n",
        "df_valid.shape"
      ]
    },
    {
      "cell_type": "code",
      "execution_count": 30,
      "metadata": {
        "colab": {
          "base_uri": "https://localhost:8080/",
          "height": 296
        },
        "id": "UtOpDgDdja6k",
        "outputId": "f7ec3424-0662-4240-e243-70d7f2d476a2"
      },
      "outputs": [
        {
          "output_type": "display_data",
          "data": {
            "text/plain": [
              "<Figure size 432x288 with 1 Axes>"
            ],
            "image/png": "[encoded data removed]"
          },
          "metadata": {
            "needs_background": "light"
          }
        }
      ],
      "source": [
        "plt.hist(df_valid.priv_pay_mean, bins=15, ec=\"black\", alpha=0.8)\n",
        "plt.xlabel('Overall Payout')\n",
        "plt.ylabel('Count')\n",
        "plt.title('Histogram of Overall Payout', fontsize = 14)\n",
        "plt.grid('both', linestyle='dashed', alpha=0.2)\n",
        "plt.show() "
      ]
    },
    {
      "cell_type": "code",
      "execution_count": 31,
      "metadata": {
        "colab": {
          "base_uri": "https://localhost:8080/",
          "height": 296
        },
        "id": "zdM5ZsFYja8i",
        "outputId": "3e47a490-e1c4-4d8a-86b9-42fd06a2ca47"
      },
      "outputs": [
        {
          "output_type": "display_data",
          "data": {
            "text/plain": [
              "<Figure size 432x288 with 1 Axes>"
            ],
            "image/png": "[encoded data removed]"
          },
          "metadata": {
            "needs_background": "light"
          }
        }
      ],
      "source": [
        "df_valid['bc_priv_pay_mean'] = stats.boxcox(df_valid['priv_pay_mean'])[0]\n",
        "\n",
        "plt.hist(df_valid.bc_priv_pay_mean, bins=15, ec=\"black\", alpha=0.8)\n",
        "plt.xlabel('Overall Payout')\n",
        "plt.ylabel('Count')\n",
        "plt.title('Histogram of Overall Box Cox Transformed Payout', fontsize = 14)\n",
        "plt.grid('both', linestyle='dashed', alpha=0.2)\n",
        "plt.show() "
      ]
    },
    {
      "cell_type": "code",
      "execution_count": 32,
      "metadata": {
        "colab": {
          "base_uri": "https://localhost:8080/",
          "height": 296
        },
        "id": "1UTKiJD0ja-a",
        "outputId": "f0367f92-cbda-4e7d-d11b-a400235e9da8"
      },
      "outputs": [
        {
          "output_type": "display_data",
          "data": {
            "text/plain": [
              "<Figure size 432x288 with 1 Axes>"
            ],
            "image/png": "[encoded data removed]"
          },
          "metadata": {
            "needs_background": "light"
          }
        }
      ],
      "source": [
        "df_valid['log_priv_pay_mean'] = np.log(df_valid['priv_pay_mean'])\n",
        "\n",
        "plt.hist(df_valid.log_priv_pay_mean, bins=15, ec=\"black\", alpha=0.8)\n",
        "plt.xlabel('Overall Payout')\n",
        "plt.ylabel('Count')\n",
        "plt.title('Histogram of Log Transformed Payout', fontsize = 14)\n",
        "plt.grid('both', linestyle='dashed', alpha=0.2)\n",
        "plt.show() "
      ]
    },
    {
      "cell_type": "code",
      "execution_count": 33,
      "metadata": {
        "colab": {
          "base_uri": "https://localhost:8080/"
        },
        "id": "U_bIonIjU2DK",
        "outputId": "647907af-967d-4e15-d67d-48a8bc5fec37"
      },
      "outputs": [
        {
          "output_type": "execute_result",
          "data": {
            "text/plain": [
              "22"
            ]
          },
          "metadata": {},
          "execution_count": 33
        }
      ],
      "source": [
        "num_features = [\n",
        "'site_weight',\n",
        "'year',  \n",
        "'priv_count', \n",
        "#'mcare_pay_median',\n",
        "'ownership_FEDERAL_median','ownership_HOSPITAL DISTRICT OR AUTHORITY_median','ownership_LOCAL_median', 'ownership_OTHER (SPECIFY)_median',\n",
        "'ownership_PHYSICIAN OWNERSHIP_median', 'ownership_PRIVATE (FOR PROFIT)_median', 'ownership_PRIVATE (NOT FOR PROFIT)_median', 'ownership_STATE_median',\n",
        "'ownership_TRIBAL_median', 'urban_rural_URBAN_median',\n",
        "'teaching_YES_median',\n",
        "'hospital_count', \n",
        "'avg_income_2020',\n",
        "'population_estimate_2020', \n",
        "'Life Expectancy', \n",
        "'harvesine_distance',\n",
        "'Covid_payment_median', \n",
        "'beds_grp_median','beds_grp_greater_500_median'\n",
        "]\n",
        "len(num_features)"
      ]
    },
    {
      "cell_type": "code",
      "execution_count": 34,
      "metadata": {
        "id": "tEeQKG7WU2Fb"
      },
      "outputs": [],
      "source": [
        "ohe_features = ['site']\n",
        "tar_enc_features = ['group', 'msa']"
      ]
    },
    {
      "cell_type": "code",
      "execution_count": 35,
      "metadata": {
        "colab": {
          "base_uri": "https://localhost:8080/"
        },
        "id": "ebRYVBZkc5Ov",
        "outputId": "b6a3fe77-24f3-4356-90a2-3e4e184fc34b"
      },
      "outputs": [
        {
          "output_type": "execute_result",
          "data": {
            "text/plain": [
              "25"
            ]
          },
          "metadata": {},
          "execution_count": 35
        }
      ],
      "source": [
        "all_features = num_features + ohe_features + tar_enc_features\n",
        "len(all_features)"
      ]
    },
    {
      "cell_type": "markdown",
      "metadata": {
        "id": "8PSSZ4MXu61p"
      },
      "source": [
        "### Data Visualization"
      ]
    },
    {
      "cell_type": "code",
      "execution_count": 36,
      "metadata": {
        "colab": {
          "base_uri": "https://localhost:8080/",
          "height": 1000
        },
        "id": "vr5h6Zf5dq4Y",
        "outputId": "1bdab638-c695-42ee-c802-5cace06ab7e4"
      },
      "outputs": [
        {
          "output_type": "display_data",
          "data": {
            "text/plain": [
              "<Figure size 1440x2160 with 24 Axes>"
            ],
            "image/png": "[encoded data removed]"
          },
          "metadata": {
            "needs_background": "light"
          }
        }
      ],
      "source": [
        "### Your code here\n",
        "fig, ax = plt.subplots(8, 3, figsize = (20,30))\n",
        "\n",
        "for col, subplot in zip(num_features, ax.flatten()):\n",
        "    sns.scatterplot(x=col, y=df_valid['log_priv_pay_mean'], data = df_valid[num_features] , ax= subplot)\n",
        "plt.show(fig)"
      ]
    },
    {
      "cell_type": "code",
      "execution_count": 37,
      "metadata": {
        "colab": {
          "base_uri": "https://localhost:8080/",
          "height": 581
        },
        "id": "EdObC7WNK-u4",
        "outputId": "6ed2a60b-291a-4d79-8e60-c40945597c05"
      },
      "outputs": [
        {
          "output_type": "display_data",
          "data": {
            "text/plain": [
              "<Figure size 1800x720 with 1 Axes>"
            ],
            "image/png": "[encoded data removed]"
          },
          "metadata": {
            "needs_background": "light"
          }
        }
      ],
      "source": [
        "m = []\n",
        "idx = []\n",
        "x = []\n",
        "\n",
        "for id, i in enumerate(df_valid.columns):\n",
        "  percent = df_valid[i].isnull().sum()/len(df_valid)\n",
        "  if percent > 0.01:\n",
        "    idx.append(id)\n",
        "    m.append(percent)\n",
        "\n",
        "for i in idx:\n",
        "  x.append(list(df_valid.columns)[i])\n",
        "\n",
        "plt.figure(figsize=(25,10))\n",
        "plt.bar(x, m, color ='green', width = 0.5)\n",
        "plt.xlabel(\"features\")\n",
        "plt.ylabel(\"Missing %\")\n",
        "plt.title(\"Plot of missing %\")\n",
        "plt.show()"
      ]
    },
    {
      "cell_type": "code",
      "execution_count": 38,
      "metadata": {
        "colab": {
          "base_uri": "https://localhost:8080/",
          "height": 424
        },
        "id": "ulyK8yNojMzk",
        "outputId": "908d813c-a4ec-493f-fe70-6e752ad83dde"
      },
      "outputs": [
        {
          "output_type": "execute_result",
          "data": {
            "text/plain": [
              "          msa  population_estimate_2020  FIPS State Code\n",
              "89      19124                       NaN               48\n",
              "261     35614                       NaN               34\n",
              "496     19124                       NaN               48\n",
              "667     35614                       NaN               34\n",
              "902     19124                       NaN               48\n",
              "...       ...                       ...              ...\n",
              "132873  43524                       NaN               24\n",
              "132913  47664                       NaN               26\n",
              "132914  47894                       NaN               51\n",
              "132920  48424                       NaN               12\n",
              "132925  48864                       NaN               10\n",
              "\n",
              "[1908 rows x 3 columns]"
            ],
            "text/html": [
              "\n",
              "  <div id=\"df-12d1e92b-694a-4bc7-9dd1-dde1c263a8ab\">\n",
              "    <div class=\"colab-df-container\">\n",
              "      <div>\n",
              "<style scoped>\n",
              "    .dataframe tbody tr th:only-of-type {\n",
              "        vertical-align: middle;\n",
              "    }\n",
              "\n",
              "    .dataframe tbody tr th {\n",
              "        vertical-align: top;\n",
              "    }\n",
              "\n",
              "    .dataframe thead th {\n",
              "        text-align: right;\n",
              "    }\n",
              "</style>\n",
              "<table border=\"1\" class=\"dataframe\">\n",
              "  <thead>\n",
              "    <tr style=\"text-align: right;\">\n",
              "      <th></th>\n",
              "      <th>msa</th>\n",
              "      <th>population_estimate_2020</th>\n",
              "      <th>FIPS State Code</th>\n",
              "    </tr>\n",
              "  </thead>\n",
              "  <tbody>\n",
              "    <tr>\n",
              "      <th>89</th>\n",
              "      <td>19124</td>\n",
              "      <td>NaN</td>\n",
              "      <td>48</td>\n",
              "    </tr>\n",
              "    <tr>\n",
              "      <th>261</th>\n",
              "      <td>35614</td>\n",
              "      <td>NaN</td>\n",
              "      <td>34</td>\n",
              "    </tr>\n",
              "    <tr>\n",
              "      <th>496</th>\n",
              "      <td>19124</td>\n",
              "      <td>NaN</td>\n",
              "      <td>48</td>\n",
              "    </tr>\n",
              "    <tr>\n",
              "      <th>667</th>\n",
              "      <td>35614</td>\n",
              "      <td>NaN</td>\n",
              "      <td>34</td>\n",
              "    </tr>\n",
              "    <tr>\n",
              "      <th>902</th>\n",
              "      <td>19124</td>\n",
              "      <td>NaN</td>\n",
              "      <td>48</td>\n",
              "    </tr>\n",
              "    <tr>\n",
              "      <th>...</th>\n",
              "      <td>...</td>\n",
              "      <td>...</td>\n",
              "      <td>...</td>\n",
              "    </tr>\n",
              "    <tr>\n",
              "      <th>132873</th>\n",
              "      <td>43524</td>\n",
              "      <td>NaN</td>\n",
              "      <td>24</td>\n",
              "    </tr>\n",
              "    <tr>\n",
              "      <th>132913</th>\n",
              "      <td>47664</td>\n",
              "      <td>NaN</td>\n",
              "      <td>26</td>\n",
              "    </tr>\n",
              "    <tr>\n",
              "      <th>132914</th>\n",
              "      <td>47894</td>\n",
              "      <td>NaN</td>\n",
              "      <td>51</td>\n",
              "    </tr>\n",
              "    <tr>\n",
              "      <th>132920</th>\n",
              "      <td>48424</td>\n",
              "      <td>NaN</td>\n",
              "      <td>12</td>\n",
              "    </tr>\n",
              "    <tr>\n",
              "      <th>132925</th>\n",
              "      <td>48864</td>\n",
              "      <td>NaN</td>\n",
              "      <td>10</td>\n",
              "    </tr>\n",
              "  </tbody>\n",
              "</table>\n",
              "<p>1908 rows × 3 columns</p>\n",
              "</div>\n",
              "      <button class=\"colab-df-convert\" onclick=\"convertToInteractive('df-12d1e92b-694a-4bc7-9dd1-dde1c263a8ab')\"\n",
              "              title=\"Convert this dataframe to an interactive table.\"\n",
              "              style=\"display:none;\">\n",
              "        \n",
              "  <svg xmlns=\"http://www.w3.org/2000/svg\" height=\"24px\"viewBox=\"0 0 24 24\"\n",
              "       width=\"24px\">\n",
              "    <path d=\"M0 0h24v24H0V0z\" fill=\"none\"/>\n",
              "    <path d=\"M18.56 5.44l.94 2.06.94-2.06 2.06-.94-2.06-.94-.94-2.06-.94 2.06-2.06.94zm-11 1L8.5 8.5l.94-2.06 2.06-.94-2.06-.94L8.5 2.5l-.94 2.06-2.06.94zm10 10l.94 2.06.94-2.06 2.06-.94-2.06-.94-.94-2.06-.94 2.06-2.06.94z\"/><path d=\"M17.41 7.96l-1.37-1.37c-.4-.4-.92-.59-1.43-.59-.52 0-1.04.2-1.43.59L10.3 9.45l-7.72 7.72c-.78.78-.78 2.05 0 2.83L4 21.41c.39.39.9.59 1.41.59.51 0 1.02-.2 1.41-.59l7.78-7.78 2.81-2.81c.8-.78.8-2.07 0-2.86zM5.41 20L4 18.59l7.72-7.72 1.47 1.35L5.41 20z\"/>\n",
              "  </svg>\n",
              "      </button>\n",
              "      \n",
              "  <style>\n",
              "    .colab-df-container {\n",
              "      display:flex;\n",
              "      flex-wrap:wrap;\n",
              "      gap: 12px;\n",
              "    }\n",
              "\n",
              "    .colab-df-convert {\n",
              "      background-color: #E8F0FE;\n",
              "      border: none;\n",
              "      border-radius: 50%;\n",
              "      cursor: pointer;\n",
              "      display: none;\n",
              "      fill: #1967D2;\n",
              "      height: 32px;\n",
              "      padding: 0 0 0 0;\n",
              "      width: 32px;\n",
              "    }\n",
              "\n",
              "    .colab-df-convert:hover {\n",
              "      background-color: #E2EBFA;\n",
              "      box-shadow: 0px 1px 2px rgba(60, 64, 67, 0.3), 0px 1px 3px 1px rgba(60, 64, 67, 0.15);\n",
              "      fill: #174EA6;\n",
              "    }\n",
              "\n",
              "    [theme=dark] .colab-df-convert {\n",
              "      background-color: #3B4455;\n",
              "      fill: #D2E3FC;\n",
              "    }\n",
              "\n",
              "    [theme=dark] .colab-df-convert:hover {\n",
              "      background-color: #434B5C;\n",
              "      box-shadow: 0px 1px 3px 1px rgba(0, 0, 0, 0.15);\n",
              "      filter: drop-shadow(0px 1px 2px rgba(0, 0, 0, 0.3));\n",
              "      fill: #FFFFFF;\n",
              "    }\n",
              "  </style>\n",
              "\n",
              "      <script>\n",
              "        const buttonEl =\n",
              "          document.querySelector('#df-12d1e92b-694a-4bc7-9dd1-dde1c263a8ab button.colab-df-convert');\n",
              "        buttonEl.style.display =\n",
              "          google.colab.kernel.accessAllowed ? 'block' : 'none';\n",
              "\n",
              "        async function convertToInteractive(key) {\n",
              "          const element = document.querySelector('#df-12d1e92b-694a-4bc7-9dd1-dde1c263a8ab');\n",
              "          const dataTable =\n",
              "            await google.colab.kernel.invokeFunction('convertToInteractive',\n",
              "                                                     [key], {});\n",
              "          if (!dataTable) return;\n",
              "\n",
              "          const docLinkHtml = 'Like what you see? Visit the ' +\n",
              "            '<a target=\"_blank\" href=https://colab.research.google.com/notebooks/data_table.ipynb>data table notebook</a>'\n",
              "            + ' to learn more about interactive tables.';\n",
              "          element.innerHTML = '';\n",
              "          dataTable['output_type'] = 'display_data';\n",
              "          await google.colab.output.renderOutput(dataTable, element);\n",
              "          const docLink = document.createElement('div');\n",
              "          docLink.innerHTML = docLinkHtml;\n",
              "          element.appendChild(docLink);\n",
              "        }\n",
              "      </script>\n",
              "    </div>\n",
              "  </div>\n",
              "  "
            ]
          },
          "metadata": {},
          "execution_count": 38
        }
      ],
      "source": [
        "df_valid[df_valid['population_estimate_2020'].isnull()][['msa', 'population_estimate_2020', 'FIPS State Code']]"
      ]
    },
    {
      "cell_type": "code",
      "execution_count": 39,
      "metadata": {
        "colab": {
          "base_uri": "https://localhost:8080/"
        },
        "id": "C4ydE8UfjQSm",
        "outputId": "4cb6931a-e0a7-4914-97c6-3d6d6c28f2fb"
      },
      "outputs": [
        {
          "output_type": "execute_result",
          "data": {
            "text/plain": [
              "msa                      0\n",
              "year                     0\n",
              "site                     0\n",
              "group                    0\n",
              "priv_count               0\n",
              "                      ... \n",
              "harvesine_distance       0\n",
              "site_weight              0\n",
              "min_inpatient_pay     2548\n",
              "bc_priv_pay_mean         0\n",
              "log_priv_pay_mean        0\n",
              "Length: 109, dtype: int64"
            ]
          },
          "metadata": {},
          "execution_count": 39
        }
      ],
      "source": [
        "df_valid.isnull().sum()"
      ]
    },
    {
      "cell_type": "code",
      "execution_count": 40,
      "metadata": {
        "id": "3qu6GLKpywOB"
      },
      "outputs": [],
      "source": [
        "df_valid = df_valid[~df_valid['teaching_YES_mode_y'].isnull()]"
      ]
    },
    {
      "cell_type": "code",
      "execution_count": 41,
      "metadata": {
        "colab": {
          "base_uri": "https://localhost:8080/"
        },
        "id": "38upf__GxXAk",
        "outputId": "ed6a4f99-0b33-4ff3-990d-e21f9ad7a129"
      },
      "outputs": [
        {
          "output_type": "stream",
          "name": "stderr",
          "text": [
            "/usr/local/lib/python3.7/dist-packages/ipykernel_launcher.py:1: SettingWithCopyWarning: \n",
            "A value is trying to be set on a copy of a slice from a DataFrame.\n",
            "Try using .loc[row_indexer,col_indexer] = value instead\n",
            "\n",
            "See the caveats in the documentation: https://pandas.pydata.org/pandas-docs/stable/user_guide/indexing.html#returning-a-view-versus-a-copy\n",
            "  \"\"\"Entry point for launching an IPython kernel.\n",
            "/usr/local/lib/python3.7/dist-packages/ipykernel_launcher.py:2: SettingWithCopyWarning: \n",
            "A value is trying to be set on a copy of a slice from a DataFrame.\n",
            "Try using .loc[row_indexer,col_indexer] = value instead\n",
            "\n",
            "See the caveats in the documentation: https://pandas.pydata.org/pandas-docs/stable/user_guide/indexing.html#returning-a-view-versus-a-copy\n",
            "  \n"
          ]
        }
      ],
      "source": [
        "df_valid['population_estimate_2020'] = df_valid['population_estimate_2020'].fillna(df_valid['population_estimate_2020'].mean())\n",
        "df_valid['avg_income_2020'] = df_valid['avg_income_2020'].fillna(df_valid['avg_income_2020'].mean())"
      ]
    },
    {
      "cell_type": "code",
      "execution_count": 42,
      "metadata": {
        "colab": {
          "base_uri": "https://localhost:8080/"
        },
        "id": "af9mEuztCpLp",
        "outputId": "be8ee08b-4750-4df2-c081-0321ea1e2e6a"
      },
      "outputs": [
        {
          "output_type": "execute_result",
          "data": {
            "text/plain": [
              "msa                      0\n",
              "year                     0\n",
              "site                     0\n",
              "group                    0\n",
              "priv_count               0\n",
              "                      ... \n",
              "harvesine_distance       0\n",
              "site_weight              0\n",
              "min_inpatient_pay     2534\n",
              "bc_priv_pay_mean         0\n",
              "log_priv_pay_mean        0\n",
              "Length: 109, dtype: int64"
            ]
          },
          "metadata": {},
          "execution_count": 42
        }
      ],
      "source": [
        "df_valid.isnull().sum()"
      ]
    },
    {
      "cell_type": "markdown",
      "metadata": {
        "id": "p3WfFaeyvJmB"
      },
      "source": [
        "### Data Split"
      ]
    },
    {
      "cell_type": "code",
      "execution_count": 43,
      "metadata": {
        "colab": {
          "base_uri": "https://localhost:8080/"
        },
        "id": "a74xvt86vfcG",
        "outputId": "de4366b8-3cd7-4565-e47d-58fa18d04072"
      },
      "outputs": [
        {
          "output_type": "stream",
          "name": "stdout",
          "text": [
            "Looking in indexes: https://pypi.org/simple, https://us-python.pkg.dev/colab-wheels/public/simple/\n",
            "Requirement already satisfied: category_encoders in /usr/local/lib/python3.7/dist-packages (2.5.1.post0)\n",
            "Requirement already satisfied: statsmodels>=0.9.0 in /usr/local/lib/python3.7/dist-packages (from category_encoders) (0.12.2)\n",
            "Requirement already satisfied: patsy>=0.5.1 in /usr/local/lib/python3.7/dist-packages (from category_encoders) (0.5.3)\n",
            "Requirement already satisfied: scikit-learn>=0.20.0 in /usr/local/lib/python3.7/dist-packages (from category_encoders) (1.0.2)\n",
            "Requirement already satisfied: scipy>=1.0.0 in /usr/local/lib/python3.7/dist-packages (from category_encoders) (1.7.3)\n",
            "Requirement already satisfied: pandas>=1.0.5 in /usr/local/lib/python3.7/dist-packages (from category_encoders) (1.3.5)\n",
            "Requirement already satisfied: numpy>=1.14.0 in /usr/local/lib/python3.7/dist-packages (from category_encoders) (1.21.6)\n",
            "Requirement already satisfied: python-dateutil>=2.7.3 in /usr/local/lib/python3.7/dist-packages (from pandas>=1.0.5->category_encoders) (2.8.2)\n",
            "Requirement already satisfied: pytz>=2017.3 in /usr/local/lib/python3.7/dist-packages (from pandas>=1.0.5->category_encoders) (2022.5)\n",
            "Requirement already satisfied: six in /usr/local/lib/python3.7/dist-packages (from patsy>=0.5.1->category_encoders) (1.15.0)\n",
            "Requirement already satisfied: threadpoolctl>=2.0.0 in /usr/local/lib/python3.7/dist-packages (from scikit-learn>=0.20.0->category_encoders) (3.1.0)\n",
            "Requirement already satisfied: joblib>=0.11 in /usr/local/lib/python3.7/dist-packages (from scikit-learn>=0.20.0->category_encoders) (1.2.0)\n"
          ]
        }
      ],
      "source": [
        "import sklearn\n",
        "from sklearn.linear_model import LinearRegression\n",
        "from sklearn.pipeline import make_pipeline, FeatureUnion, Pipeline\n",
        "from sklearn.compose import make_column_transformer\n",
        "from sklearn.preprocessing import StandardScaler, OneHotEncoder\n",
        "from sklearn.model_selection import KFold, StratifiedKFold, cross_val_score, GridSearchCV, RandomizedSearchCV\n",
        "from sklearn.tree import DecisionTreeClassifier\n",
        "from sklearn.model_selection import train_test_split\n",
        "!pip install category_encoders\n",
        "from category_encoders import TargetEncoder\n",
        "import time\n",
        "from datetime import timedelta"
      ]
    },
    {
      "cell_type": "code",
      "execution_count": 44,
      "metadata": {
        "id": "4lgB6v-8l0Tf"
      },
      "outputs": [],
      "source": [
        "df_valid_X = df_valid[all_features]\n",
        "df_valid_y = df_valid['log_priv_pay_mean']"
      ]
    },
    {
      "cell_type": "code",
      "execution_count": 45,
      "metadata": {
        "id": "lNfuaRqxmER5"
      },
      "outputs": [],
      "source": [
        "df_valid_X_dev, df_valid_X_test, df_valid_y_dev, df_valid_y_test = train_test_split(df_valid_X, df_valid_y, test_size=0.05, random_state=0)\n",
        "df_valid_X_train, df_valid_X_val, df_valid_y_train, df_valid_y_val = train_test_split(df_valid_X_dev, df_valid_y_dev, test_size=0.07, random_state=0)"
      ]
    },
    {
      "cell_type": "code",
      "execution_count": 46,
      "metadata": {
        "colab": {
          "base_uri": "https://localhost:8080/"
        },
        "id": "g1khatD6mETm",
        "outputId": "326d23a5-1356-435d-9871-ce9f727b6e82"
      },
      "outputs": [
        {
          "output_type": "stream",
          "name": "stdout",
          "text": [
            "(5885, 109)\n",
            "(5198, 25)\n",
            "(392, 25)\n",
            "(295, 25)\n"
          ]
        }
      ],
      "source": [
        "print(df_valid.shape)\n",
        "print(df_valid_X_train.shape)\n",
        "print(df_valid_X_val.shape)\n",
        "print(df_valid_X_test.shape)"
      ]
    },
    {
      "cell_type": "markdown",
      "metadata": {
        "id": "O33LRqodvOCk"
      },
      "source": [
        "### Model Building"
      ]
    },
    {
      "cell_type": "code",
      "execution_count": 47,
      "metadata": {
        "id": "MNZ0j0o8mpE8"
      },
      "outputs": [],
      "source": [
        "# #code here\n",
        "preprocess = make_column_transformer((StandardScaler(), num_features),\n",
        "                                      (OneHotEncoder(handle_unknown = \"ignore\"), ohe_features),\n",
        "                                      (TargetEncoder(handle_unknown = \"ignore\"), tar_enc_features),\n",
        "                                      remainder = 'passthrough'\n",
        "                                     )\n",
        "\n",
        "pipe_lr_pure = make_pipeline(preprocess, LinearRegression())\n",
        "pipe_fit_lr_pure = pipe_lr_pure.fit(df_valid_X_train, df_valid_y_train)"
      ]
    },
    {
      "cell_type": "code",
      "execution_count": 48,
      "metadata": {
        "colab": {
          "base_uri": "https://localhost:8080/"
        },
        "id": "t6vX7RWJyUGm",
        "outputId": "c205fa36-de0b-4a90-a800-3d0405c49ba4"
      },
      "outputs": [
        {
          "output_type": "execute_result",
          "data": {
            "text/plain": [
              "0.8160939503165967"
            ]
          },
          "metadata": {},
          "execution_count": 48
        }
      ],
      "source": [
        "pipe_fit_lr_pure.score(df_valid_X_val, df_valid_y_val)"
      ]
    },
    {
      "cell_type": "code",
      "execution_count": 49,
      "metadata": {
        "colab": {
          "base_uri": "https://localhost:8080/"
        },
        "id": "pm243nq8H-rN",
        "outputId": "007a9a74-57ee-4f52-fcf2-179795ff65b0"
      },
      "outputs": [
        {
          "output_type": "execute_result",
          "data": {
            "text/plain": [
              "0.7185676178843365"
            ]
          },
          "metadata": {},
          "execution_count": 49
        }
      ],
      "source": [
        "pipe_fit_lr_pure.score(df_valid_X_test, df_valid_y_test)"
      ]
    },
    {
      "cell_type": "code",
      "execution_count": 50,
      "metadata": {
        "id": "U8_X71zIIb41"
      },
      "outputs": [],
      "source": [
        "def mape(pred, actual):\n",
        "  mape = 0\n",
        "  for (p, a) in zip(pred, actual):\n",
        "     mape += abs(p-a)/a\n",
        "  return mape/len(pred) "
      ]
    },
    {
      "cell_type": "code",
      "execution_count": 51,
      "metadata": {
        "colab": {
          "base_uri": "https://localhost:8080/"
        },
        "id": "YjtEL6esIb7P",
        "outputId": "c9d75e09-3d34-4017-c1e9-f05c33362b07"
      },
      "outputs": [
        {
          "output_type": "execute_result",
          "data": {
            "text/plain": [
              "0.24257220115110584"
            ]
          },
          "metadata": {},
          "execution_count": 51
        }
      ],
      "source": [
        "mape(np.exp(pipe_fit_lr_pure.predict(df_valid_X_val)), np.exp(df_valid_y_val))"
      ]
    },
    {
      "cell_type": "code",
      "execution_count": 52,
      "metadata": {
        "colab": {
          "base_uri": "https://localhost:8080/"
        },
        "id": "9ZWMYOgMIb-R",
        "outputId": "05739007-cefa-4a59-e8db-25daa75c48bc"
      },
      "outputs": [
        {
          "output_type": "execute_result",
          "data": {
            "text/plain": [
              "0.308613553566064"
            ]
          },
          "metadata": {},
          "execution_count": 52
        }
      ],
      "source": [
        "mape(np.exp(pipe_fit_lr_pure.predict(df_valid_X_test)), np.exp(df_valid_y_test))"
      ]
    },
    {
      "cell_type": "code",
      "execution_count": 53,
      "metadata": {
        "colab": {
          "base_uri": "https://localhost:8080/"
        },
        "id": "0PDpXfhuSDWK",
        "outputId": "2e87bc5d-79da-4bcb-f36a-e8da5b33c498"
      },
      "outputs": [
        {
          "output_type": "execute_result",
          "data": {
            "text/plain": [
              "array([ 1.44897754e-01,  3.63404418e-02,  1.28040343e-02,  0.00000000e+00,\n",
              "       -1.78761503e-02,  7.00467979e-03, -1.20667251e-02,  1.38777878e-17,\n",
              "        2.52912274e-02,  1.88639322e-02, -4.37360436e-04, -2.77555756e-17,\n",
              "        0.00000000e+00, -8.99539576e-03, -4.83044964e-03,  1.12963637e-02,\n",
              "        1.65714785e-02,  1.10653831e-01,  2.28298025e-02, -4.03715036e-03,\n",
              "       -3.30949955e-02,  6.92549038e-03, -4.43545337e-02,  1.59923496e-01,\n",
              "       -1.15568962e-01,  8.34300661e-01,  2.18890883e-07])"
            ]
          },
          "metadata": {},
          "execution_count": 53
        }
      ],
      "source": [
        "pipe_fit_lr_pure.named_steps['linearregression'].coef_"
      ]
    },
    {
      "cell_type": "code",
      "execution_count": 54,
      "metadata": {
        "id": "6iNHVsIyQAlB"
      },
      "outputs": [],
      "source": [
        "ohe_feature_names = preprocess.named_transformers_[\"onehotencoder\"].get_feature_names().tolist()\n",
        "te_feature_names = preprocess.named_transformers_[\"targetencoder\"].get_feature_names()\n",
        "feature_names = num_features + ohe_feature_names + te_feature_names "
      ]
    },
    {
      "cell_type": "code",
      "execution_count": 55,
      "metadata": {
        "colab": {
          "base_uri": "https://localhost:8080/",
          "height": 781
        },
        "id": "A4XtsIkGt7X7",
        "outputId": "4c720256-e933-4ed3-d301-3f8d94f76c94"
      },
      "outputs": [
        {
          "output_type": "display_data",
          "data": {
            "text/plain": [
              "<Figure size 864x576 with 1 Axes>"
            ],
            "image/png": "[encoded data removed]"
          },
          "metadata": {
            "needs_background": "light"
          }
        }
      ],
      "source": [
        "### Your code here\n",
        "plt.figure(figsize=(12,8))\n",
        "ax = sns.barplot(x = feature_names, y = pipe_fit_lr_pure.named_steps['linearregression'].coef_, alpha=0.7)\n",
        "ax.tick_params(axis='x', rotation=90)\n",
        "ax.set_xlabel(\"variables\", fontsize = 12)\n",
        "plt.title(\"Coefficients of the Linear Regression Model\", fontsize=14)\n",
        "#plt.plot(X_test[:,[1]].reshape(20,), ridge_yhat, color = 'red')\n",
        "#sns.set_style('ticks')\n",
        "plt.show(fig)"
      ]
    },
    {
      "cell_type": "code",
      "execution_count": 56,
      "metadata": {
        "colab": {
          "base_uri": "https://localhost:8080/"
        },
        "id": "xEdbX4M_Ozg0",
        "outputId": "2ee9116d-b80b-45b7-c896-48895037d966"
      },
      "outputs": [
        {
          "output_type": "execute_result",
          "data": {
            "text/plain": [
              "LinearRegression()"
            ]
          },
          "metadata": {},
          "execution_count": 56
        }
      ],
      "source": [
        "pipe_fit_lr_pure.named_steps['linearregression']"
      ]
    },
    {
      "cell_type": "markdown",
      "metadata": {
        "id": "r5oVOVlpM2P8"
      },
      "source": [
        "### Decision Tree"
      ]
    },
    {
      "cell_type": "code",
      "execution_count": 57,
      "metadata": {
        "id": "Nni5-uGuNCoN"
      },
      "outputs": [],
      "source": [
        "from sklearn.tree import DecisionTreeRegressor"
      ]
    },
    {
      "cell_type": "code",
      "execution_count": 58,
      "metadata": {
        "id": "8rZDLxIbM33Y"
      },
      "outputs": [],
      "source": [
        "preprocess = make_column_transformer((StandardScaler(), num_features),\n",
        "                                      (OneHotEncoder(handle_unknown = \"ignore\"), ohe_features),\n",
        "                                      (TargetEncoder(handle_unknown = \"ignore\"), tar_enc_features),\n",
        "                                      remainder = 'passthrough'\n",
        "                                     )\n",
        "\n",
        "pipe_dt_pure = make_pipeline(preprocess, DecisionTreeRegressor())\n",
        "pipe_fit_dt_pure = pipe_dt_pure.fit(df_valid_X_train, df_valid_y_train)"
      ]
    },
    {
      "cell_type": "code",
      "execution_count": 59,
      "metadata": {
        "colab": {
          "base_uri": "https://localhost:8080/"
        },
        "id": "0R_F0ZTjNPZ1",
        "outputId": "bfbf3cb3-8efc-46d3-e782-471f75073c23"
      },
      "outputs": [
        {
          "output_type": "execute_result",
          "data": {
            "text/plain": [
              "0.9049031457122712"
            ]
          },
          "metadata": {},
          "execution_count": 59
        }
      ],
      "source": [
        "pipe_fit_dt_pure.score(df_valid_X_val, df_valid_y_val)"
      ]
    },
    {
      "cell_type": "code",
      "execution_count": 60,
      "metadata": {
        "colab": {
          "base_uri": "https://localhost:8080/"
        },
        "id": "oPq04zVvNT_0",
        "outputId": "72f2fdc4-ba75-46f4-ada5-df38dcd0fb0e"
      },
      "outputs": [
        {
          "output_type": "execute_result",
          "data": {
            "text/plain": [
              "0.8875582140502893"
            ]
          },
          "metadata": {},
          "execution_count": 60
        }
      ],
      "source": [
        "pipe_fit_dt_pure.score(df_valid_X_test, df_valid_y_test)"
      ]
    },
    {
      "cell_type": "code",
      "execution_count": 61,
      "metadata": {
        "colab": {
          "base_uri": "https://localhost:8080/"
        },
        "id": "LvO2naCINWNN",
        "outputId": "434c5cb2-3c75-4843-89ff-1b794e7d7418"
      },
      "outputs": [
        {
          "output_type": "execute_result",
          "data": {
            "text/plain": [
              "0.15730672997474962"
            ]
          },
          "metadata": {},
          "execution_count": 61
        }
      ],
      "source": [
        "mape(np.exp(pipe_fit_dt_pure.predict(df_valid_X_val)), np.exp(df_valid_y_val))"
      ]
    },
    {
      "cell_type": "code",
      "execution_count": 62,
      "metadata": {
        "colab": {
          "base_uri": "https://localhost:8080/"
        },
        "id": "TXj8eK9fNiZm",
        "outputId": "ea9a03b7-fbea-4e54-b519-985dd6a520fa"
      },
      "outputs": [
        {
          "output_type": "execute_result",
          "data": {
            "text/plain": [
              "0.17695651474609983"
            ]
          },
          "metadata": {},
          "execution_count": 62
        }
      ],
      "source": [
        "mape(np.exp(pipe_fit_dt_pure.predict(df_valid_X_test)), np.exp(df_valid_y_test))"
      ]
    },
    {
      "cell_type": "code",
      "execution_count": 63,
      "metadata": {
        "colab": {
          "base_uri": "https://localhost:8080/",
          "height": 405
        },
        "id": "FYHr-CEpNzm5",
        "outputId": "98db440c-b099-493d-8866-bb6a6854d017"
      },
      "outputs": [
        {
          "output_type": "execute_result",
          "data": {
            "text/plain": [
              "Text(0, 0.5, 'Feature Importance')"
            ]
          },
          "metadata": {},
          "execution_count": 63
        },
        {
          "output_type": "display_data",
          "data": {
            "text/plain": [
              "<Figure size 432x288 with 1 Axes>"
            ],
            "image/png": "[encoded data removed]"
          },
          "metadata": {
            "needs_background": "light"
          }
        }
      ],
      "source": [
        "ohe_feature_names = preprocess.named_transformers_[\"onehotencoder\"].get_feature_names().tolist()\n",
        "te_feature_names = preprocess.named_transformers_[\"targetencoder\"].get_feature_names()\n",
        "feature_names = num_features + ohe_feature_names + te_feature_names \n",
        "\n",
        "feat_imps = zip(feature_names, pipe_fit_dt_pure.named_steps['decisiontreeregressor'].feature_importances_)\n",
        "feats, imps = zip(*(sorted(list(filter( lambda x : x[1]!=0 , feat_imps)), key = lambda x : x[1] , reverse=True)))\n",
        "ax = sns.barplot( list(feats)[:10], list(imps)[:10])\n",
        "ax.tick_params(axis='x', rotation = 45)\n",
        "plt.title(\"Top 3 Important Features\", fontsize=14)\n",
        "plt.xlabel(\"Variables\")\n",
        "plt.ylabel(\"Feature Importance\")"
      ]
    },
    {
      "cell_type": "markdown",
      "metadata": {
        "id": "qIfWkQXWzv-g"
      },
      "source": [
        "#### Elasticnet Regression with CV"
      ]
    },
    {
      "cell_type": "code",
      "execution_count": 64,
      "metadata": {
        "id": "RbUVwIwR0zeh"
      },
      "outputs": [],
      "source": [
        "df_valid_X_dev, df_valid_X_test, df_valid_y_dev, df_valid_y_test = train_test_split(df_valid_X, df_valid_y, test_size=0.20, random_state=0)"
      ]
    },
    {
      "cell_type": "code",
      "execution_count": 65,
      "metadata": {
        "colab": {
          "base_uri": "https://localhost:8080/"
        },
        "id": "KNX7AlP0z3RX",
        "outputId": "65d6bf72-2c9b-44c8-9352-e083df4a00d1"
      },
      "outputs": [
        {
          "output_type": "execute_result",
          "data": {
            "text/plain": [
              "{'alpha': array([0.01      , 0.06210526, 0.11421053, 0.16631579, 0.21842105,\n",
              "        0.27052632, 0.32263158, 0.37473684, 0.42684211, 0.47894737,\n",
              "        0.53105263, 0.58315789, 0.63526316, 0.68736842, 0.73947368,\n",
              "        0.79157895, 0.84368421, 0.89578947, 0.94789474, 1.        ]),\n",
              " 'l1_ratio': array([0.01      , 0.06210526, 0.11421053, 0.16631579, 0.21842105,\n",
              "        0.27052632, 0.32263158, 0.37473684, 0.42684211, 0.47894737,\n",
              "        0.53105263, 0.58315789, 0.63526316, 0.68736842, 0.73947368,\n",
              "        0.79157895, 0.84368421, 0.89578947, 0.94789474, 1.        ])}"
            ]
          },
          "metadata": {},
          "execution_count": 65
        }
      ],
      "source": [
        "param_grid = {\n",
        "              'alpha': np.linspace(0.01, 1, 20),\n",
        "              'l1_ratio':np.linspace(0.01, 1, 20)\n",
        "              }\n",
        "param_grid"
      ]
    },
    {
      "cell_type": "code",
      "execution_count": 66,
      "metadata": {
        "colab": {
          "base_uri": "https://localhost:8080/"
        },
        "id": "t4Qnja2xz3TV",
        "outputId": "6469db68-3ddf-4f85-edd0-fc802f95a808"
      },
      "outputs": [
        {
          "output_type": "stream",
          "name": "stdout",
          "text": [
            "Best Score: 0.771038\n",
            "Best alpha: {'alpha': 0.01, 'l1_ratio': 0.21842105263157896}\n",
            "Performance on Test Dataset is: 0.739348\n"
          ]
        }
      ],
      "source": [
        "from sklearn.linear_model import ElasticNet\n",
        "\n",
        "pipe_lr = make_pipeline(preprocess,\n",
        "                    GridSearchCV(ElasticNet(random_state=80),\n",
        "                                param_grid = param_grid, cv = 10)\n",
        "                    )\n",
        "\n",
        "pipe_fit_lr = pipe_lr.fit(df_valid_X_dev, df_valid_y_dev)\n",
        "grid_search_results_lr = pipe_lr.named_steps[\"gridsearchcv\"]\n",
        "\n",
        "print(f\"Best Score: {grid_search_results_lr.best_score_ :3f}\")\n",
        "print(f\"Best alpha: {grid_search_results_lr.best_params_ }\")\n",
        "print(f\"Performance on Test Dataset is: {pipe_lr.score(df_valid_X_test, df_valid_y_test) :3f}\")\n",
        "best_tree = grid_search_results_lr.best_estimator_\n"
      ]
    },
    {
      "cell_type": "code",
      "execution_count": 67,
      "metadata": {
        "colab": {
          "base_uri": "https://localhost:8080/"
        },
        "id": "Fghpi-Wxz3Vc",
        "outputId": "300f7ffc-b542-4ae2-c4cc-5387a356027b"
      },
      "outputs": [
        {
          "output_type": "execute_result",
          "data": {
            "text/plain": [
              "0.279671234055132"
            ]
          },
          "metadata": {},
          "execution_count": 67
        }
      ],
      "source": [
        "mape(np.exp(pipe_fit_lr.predict(df_valid_X_dev)), np.exp(df_valid_y_dev))"
      ]
    },
    {
      "cell_type": "code",
      "execution_count": 68,
      "metadata": {
        "colab": {
          "base_uri": "https://localhost:8080/"
        },
        "id": "TL9jAqtv2jYJ",
        "outputId": "fc9c9d60-6147-4f31-d7e6-b4a9b560c59f"
      },
      "outputs": [
        {
          "output_type": "execute_result",
          "data": {
            "text/plain": [
              "0.3034983560619725"
            ]
          },
          "metadata": {},
          "execution_count": 68
        }
      ],
      "source": [
        "mape(np.exp(pipe_fit_lr.predict(df_valid_X_test)), np.exp(df_valid_y_test))"
      ]
    },
    {
      "cell_type": "markdown",
      "metadata": {
        "id": "F9L6VLSDp8ec"
      },
      "source": [
        "#### Decision Tree with CV"
      ]
    },
    {
      "cell_type": "code",
      "execution_count": 69,
      "metadata": {
        "colab": {
          "base_uri": "https://localhost:8080/"
        },
        "id": "TmmMjuydqKua",
        "outputId": "9d9e8def-5ba4-4b6e-9944-31f8f18bc909"
      },
      "outputs": [
        {
          "output_type": "execute_result",
          "data": {
            "text/plain": [
              "{'max_depth': [6, 7, 8],\n",
              " 'max_features': ['auto', 'sqrt', 'log2'],\n",
              " 'ccp_alpha': array([0.        , 0.00157895, 0.00315789, 0.00473684, 0.00631579,\n",
              "        0.00789474, 0.00947368, 0.01105263, 0.01263158, 0.01421053,\n",
              "        0.01578947, 0.01736842, 0.01894737, 0.02052632, 0.02210526,\n",
              "        0.02368421, 0.02526316, 0.02684211, 0.02842105, 0.03      ])}"
            ]
          },
          "metadata": {},
          "execution_count": 69
        }
      ],
      "source": [
        "param_grid = {\n",
        "              'max_depth': [6,7,8],\n",
        "              'max_features':['auto', 'sqrt', 'log2'],\n",
        "              \"ccp_alpha\": np.linspace(0., 0.03, 20)\n",
        "              }\n",
        "param_grid"
      ]
    },
    {
      "cell_type": "code",
      "execution_count": 70,
      "metadata": {
        "colab": {
          "base_uri": "https://localhost:8080/"
        },
        "id": "sK4F0sKxqByp",
        "outputId": "6a6513c6-b4a7-4785-d485-544840db1b21"
      },
      "outputs": [
        {
          "output_type": "stream",
          "name": "stdout",
          "text": [
            "Best Score: 0.830741\n",
            "Best alpha: {'ccp_alpha': 0.0, 'max_depth': 8, 'max_features': 'auto'}\n",
            "Performance on Test Dataset is: 0.790225\n"
          ]
        }
      ],
      "source": [
        "pipe_dt = make_pipeline(preprocess,\n",
        "                    GridSearchCV(DecisionTreeRegressor(random_state=80),\n",
        "                                param_grid = param_grid,\n",
        "                                return_train_score = True, cv = 10)\n",
        "                    )\n",
        "pipe_fit_dt = pipe_dt.fit(df_valid_X_dev, df_valid_y_dev)\n",
        "grid_search_results_dt = pipe_dt.named_steps[\"gridsearchcv\"]\n",
        "\n",
        "print(f\"Best Score: {grid_search_results_dt.best_score_ :3f}\")\n",
        "print(f\"Best alpha: {grid_search_results_dt.best_params_ }\")\n",
        "print(f\"Performance on Test Dataset is: {pipe_dt.score(df_valid_X_test, df_valid_y_test) :3f}\")\n",
        "best_tree = grid_search_results_dt.best_estimator_"
      ]
    },
    {
      "cell_type": "code",
      "execution_count": 71,
      "metadata": {
        "colab": {
          "base_uri": "https://localhost:8080/"
        },
        "id": "2rWVufZjqB0c",
        "outputId": "13ac875d-2d47-4a5b-889e-36b861af24c4"
      },
      "outputs": [
        {
          "output_type": "execute_result",
          "data": {
            "text/plain": [
              "0.2076079734569125"
            ]
          },
          "metadata": {},
          "execution_count": 71
        }
      ],
      "source": [
        "mape(np.exp(pipe_fit_dt.predict(df_valid_X_dev)), np.exp(df_valid_y_dev))"
      ]
    },
    {
      "cell_type": "code",
      "execution_count": 72,
      "metadata": {
        "colab": {
          "base_uri": "https://localhost:8080/"
        },
        "id": "GcMwyffgqB2c",
        "outputId": "6b3a9f1e-2880-4e01-f3fe-4c4c3ab0353d"
      },
      "outputs": [
        {
          "output_type": "execute_result",
          "data": {
            "text/plain": [
              "0.2670266556727236"
            ]
          },
          "metadata": {},
          "execution_count": 72
        }
      ],
      "source": [
        "mape(np.exp(pipe_fit_dt.predict(df_valid_X_test)), np.exp(df_valid_y_test))"
      ]
    },
    {
      "cell_type": "markdown",
      "metadata": {
        "id": "t9KR60WsgwlH"
      },
      "source": [
        "#### Random Forest"
      ]
    },
    {
      "cell_type": "code",
      "execution_count": 73,
      "metadata": {
        "colab": {
          "base_uri": "https://localhost:8080/"
        },
        "id": "D1IsOfU4gvIU",
        "outputId": "ec5f5bf8-815c-4b3b-a01f-a3ecef1e7aba"
      },
      "outputs": [
        {
          "output_type": "execute_result",
          "data": {
            "text/plain": [
              "{'bootstrap': [True],\n",
              " 'max_features': ['auto', 'log2'],\n",
              " 'n_estimators': array([200, 300, 400]),\n",
              " 'max_depth': [6, 7, 8]}"
            ]
          },
          "metadata": {},
          "execution_count": 73
        }
      ],
      "source": [
        "from sklearn.ensemble import RandomForestRegressor\n",
        "\n",
        "param_grid = {'bootstrap': [True], \n",
        "              'max_features': ['auto', 'log2'],\n",
        "              'n_estimators': np.arange(200, 401, 100),\n",
        "              'max_depth': [6,7,8]\n",
        "              }\n",
        "param_grid"
      ]
    },
    {
      "cell_type": "code",
      "execution_count": null,
      "metadata": {
        "id": "Klt7XcrwieoA"
      },
      "outputs": [],
      "source": [
        "pipe_rf = make_pipeline(preprocess,\n",
        "                    GridSearchCV(RandomForestRegressor(random_state=80, warm_start = True),\n",
        "                                     param_grid = param_grid\n",
        "                                     )\n",
        "                    )\n",
        "start_time_rf = time.monotonic()\n",
        "pipe_fit_rf = pipe_rf.fit(df_valid_X_dev, df_valid_y_dev)\n",
        "end_time_rf = time.monotonic()\n",
        "\n",
        "print(f\"Time taken for Model Selection of Random Forest is : {timedelta(seconds=end_time_rf - start_time_rf)}\")\n",
        "\n",
        "grid_search_results_rf = pipe_fit_rf.named_steps[\"gridsearchcv\"]\n",
        "print(f\"Best Score: {grid_search_results_rf.best_score_ :3f}\")\n",
        "print(f\"Best Parameters: {grid_search_results_rf.best_params_ }\")\n",
        "print(f\"Performance on Test Dataset is: {pipe_rf.score(df_valid_X_test, df_valid_y_test) :3f}\")"
      ]
    },
    {
      "cell_type": "code",
      "execution_count": null,
      "metadata": {
        "id": "ZPNU-gUJiZON"
      },
      "outputs": [],
      "source": [
        "mape(np.exp(pipe_fit_rf.predict(df_valid_X_dev)), np.exp(df_valid_y_dev))"
      ]
    },
    {
      "cell_type": "code",
      "execution_count": null,
      "metadata": {
        "id": "8ip2QpqYkkED"
      },
      "outputs": [],
      "source": [
        "mape(np.exp(pipe_fit_rf.predict(df_valid_X_test)), np.exp(df_valid_y_test))"
      ]
    },
    {
      "cell_type": "markdown",
      "metadata": {
        "id": "2wiMFijdk284"
      },
      "source": [
        "####GBM"
      ]
    },
    {
      "cell_type": "code",
      "execution_count": null,
      "metadata": {
        "id": "zmvpWv1ak16X"
      },
      "outputs": [],
      "source": [
        "from sklearn.ensemble import GradientBoostingRegressor\n",
        "\n",
        "param_grid = {\n",
        "              'n_estimators': np.arange(100, 250, 50),\n",
        "              'max_depth': [6,7,8],\n",
        "              'learning_rate' : [.01, .1, .2]\n",
        "              }"
      ]
    },
    {
      "cell_type": "code",
      "execution_count": null,
      "metadata": {
        "id": "sQD-dQ1IlMs8"
      },
      "outputs": [],
      "source": [
        "\n",
        "pipe_gbm = make_pipeline(preprocess,\n",
        "                    RandomizedSearchCV( GradientBoostingRegressor (random_state=80, warm_start = True),\n",
        "                                     param_distributions = param_grid, n_jobs = -1, cv = 10\n",
        "                                     )\n",
        "                    )\n",
        "\n",
        "start_time_gbm = time.monotonic()\n",
        "pipe_fit_gbm = pipe_gbm.fit(df_valid_X_dev, df_valid_y_dev)\n",
        "end_time_gbm = time.monotonic()\n",
        "\n",
        "print(f\"Time taken for Model Selection of Gradient Boosting Classifier is : {timedelta(seconds=end_time_gbm - start_time_gbm)}\") "
      ]
    },
    {
      "cell_type": "code",
      "execution_count": null,
      "metadata": {
        "id": "_o5UMD8NlMvB"
      },
      "outputs": [],
      "source": [
        "rand_search_results_gbm = pipe_fit_gbm.named_steps[\"randomizedsearchcv\"]\n",
        "print(f\"Best Score: {rand_search_results_gbm.best_score_ :3f}\")\n",
        "print(f\"Best Parameters: {rand_search_results_gbm.best_params_ }\")\n",
        "print(f\"Performance on Test Dataset is: {pipe_gbm.score(df_valid_X_test, df_valid_y_test) :3f}\")"
      ]
    },
    {
      "cell_type": "code",
      "execution_count": null,
      "metadata": {
        "id": "BihyEIy-lMxR"
      },
      "outputs": [],
      "source": [
        "mape(np.exp(pipe_fit_gbm.predict(df_valid_X_dev)), np.exp(df_valid_y_dev))"
      ]
    },
    {
      "cell_type": "code",
      "execution_count": null,
      "metadata": {
        "id": "12xH1Bj2k2La"
      },
      "outputs": [],
      "source": [
        "mape(np.exp(pipe_fit_gbm.predict(df_valid_X_test)), np.exp(df_valid_y_test))"
      ]
    },
    {
      "cell_type": "markdown",
      "metadata": {
        "id": "Mpwvr0AvKmaV"
      },
      "source": [
        "#### XGBoost"
      ]
    },
    {
      "cell_type": "code",
      "execution_count": null,
      "metadata": {
        "id": "GzwSGrc8Klxw"
      },
      "outputs": [],
      "source": [
        "from xgboost import XGBRegressor\n",
        "param_grid = {\n",
        "              'n_estimators': np.arange(100, 451, 50),\n",
        "              'max_depth': [5, 7, 8],\n",
        "              'learning_rate' : [.01, .1, .2]\n",
        "              }"
      ]
    },
    {
      "cell_type": "code",
      "execution_count": null,
      "metadata": {
        "id": "t_xxGGQAML8l"
      },
      "outputs": [],
      "source": [
        "pipe_xgb = make_pipeline(preprocess,\n",
        "                    RandomizedSearchCV( XGBRegressor (random_state=80, warm_start = True),\n",
        "                                     param_distributions = param_grid, cv = 10, n_jobs = -1\n",
        "                                     )\n",
        "                    )\n",
        "start_time_xgb = time.monotonic()\n",
        "pipe_fit_xgb = pipe_xgb.fit(df_valid_X_dev, df_valid_y_dev)\n",
        "end_time_xgb = time.monotonic()"
      ]
    },
    {
      "cell_type": "code",
      "execution_count": null,
      "metadata": {
        "id": "epU0-DmfMXyA"
      },
      "outputs": [],
      "source": [
        "random_search_results_xgb = pipe_fit_xgb.named_steps[\"randomizedsearchcv\"]\n",
        "\n",
        "print(f\"Best Score: {random_search_results_xgb.best_score_ :3f}\")\n",
        "print(f\"Best Parameters: {random_search_results_xgb.best_params_ }\")\n",
        "print(f\"Performance on Test Dataset is: {pipe_xgb.score(df_valid_X_test, df_valid_y_test) :3f}\")"
      ]
    },
    {
      "cell_type": "code",
      "execution_count": null,
      "metadata": {
        "id": "ZDE6Q0DTMX2z"
      },
      "outputs": [],
      "source": [
        "mape(np.exp(pipe_xgb.predict(df_valid_X_dev)), np.exp(df_valid_y_dev))"
      ]
    },
    {
      "cell_type": "code",
      "execution_count": null,
      "metadata": {
        "id": "7mH0-wAHMhkw"
      },
      "outputs": [],
      "source": [
        "mape(np.exp(pipe_xgb.predict(df_valid_X_test)), np.exp(df_valid_y_test))"
      ]
    },
    {
      "cell_type": "markdown",
      "metadata": {
        "id": "_GLUCHJ-RUs_"
      },
      "source": [
        "### Iterations and Testing\n"
      ]
    },
    {
      "cell_type": "code",
      "execution_count": 88,
      "metadata": {
        "id": "wk1XZqicRbWR"
      },
      "outputs": [],
      "source": [
        "num_features = [\n",
        "'site_weight',\n",
        "'year',  \n",
        "'priv_count', \n",
        "#'mcare_pay_median',\n",
        "'ownership_FEDERAL_median','ownership_HOSPITAL DISTRICT OR AUTHORITY_median','ownership_LOCAL_median', 'ownership_OTHER (SPECIFY)_median',\n",
        "'ownership_PHYSICIAN OWNERSHIP_median', 'ownership_PRIVATE (FOR PROFIT)_median', 'ownership_PRIVATE (NOT FOR PROFIT)_median', 'ownership_STATE_median',\n",
        "'ownership_TRIBAL_median', 'urban_rural_URBAN_median',\n",
        "'teaching_YES_median',\n",
        "'hospital_count', \n",
        "'avg_income_2020',\n",
        "'population_estimate_2020', \n",
        "'Life Expectancy', \n",
        "'harvesine_distance',\n",
        "'Covid_payment_median', \n",
        "'beds_grp_median','beds_grp_greater_500_median'\n",
        "]\n",
        "\n",
        "ohe_features = ['site']\n",
        "tar_enc_features = ['group', 'msa']"
      ]
    },
    {
      "cell_type": "code",
      "execution_count": 89,
      "metadata": {
        "id": "mPPDn__8RbYV"
      },
      "outputs": [],
      "source": [
        "preprocess = make_column_transformer((StandardScaler(), num_features),\n",
        "                                      (OneHotEncoder(handle_unknown = \"ignore\"), ohe_features),\n",
        "                                      (TargetEncoder(handle_unknown = \"ignore\"), tar_enc_features),\n",
        "                                      remainder = 'passthrough'\n",
        "                                     )"
      ]
    },
    {
      "cell_type": "code",
      "execution_count": 90,
      "metadata": {
        "id": "-wDWc11QWtRz"
      },
      "outputs": [],
      "source": [
        "def get_mean(lst):\n",
        "    return sum(lst) / len(lst)"
      ]
    },
    {
      "cell_type": "markdown",
      "metadata": {
        "id": "w5bhAN5sy9xt"
      },
      "source": [
        "### Iteration with CV"
      ]
    },
    {
      "cell_type": "code",
      "execution_count": 91,
      "metadata": {
        "id": "KK5tE7aWzFbj"
      },
      "outputs": [],
      "source": [
        "lr_dev_r2, lr_test_r2, lr_dev_mape, lr_test_mape = [],[],[], []\n",
        "\n",
        "dt_dev_r2, dt_test_r2, dt_dev_mape, dt_test_mape = [],[],[], []\n",
        "\n",
        "rf_dev_r2, rf_test_r2, rf_dev_mape, rf_test_mape = [],[],[], []\n",
        "\n",
        "gbm_dev_r2, gbm_test_r2, gbm_dev_mape, gbm_test_mape = [],[],[], []\n",
        "\n",
        "xgb_dev_r2, xgb_test_r2, xgb_dev_mape, xgb_test_mape = [],[],[], []\n"
      ]
    },
    {
      "cell_type": "code",
      "execution_count": 94,
      "metadata": {
        "id": "UbNMiNJMzAPA",
        "colab": {
          "base_uri": "https://localhost:8080/"
        },
        "outputId": "8614602e-a8ea-4a86-88f1-6a53be7bf2c5"
      },
      "outputs": [
        {
          "output_type": "stream",
          "name": "stdout",
          "text": [
            "[19:51:33] WARNING: /workspace/src/objective/regression_obj.cu:152: reg:linear is now deprecated in favor of reg:squarederror.\n",
            "Finished 1 iteration\n",
            "[19:52:39] WARNING: /workspace/src/objective/regression_obj.cu:152: reg:linear is now deprecated in favor of reg:squarederror.\n",
            "Finished 2 iteration\n",
            "[19:53:41] WARNING: /workspace/src/objective/regression_obj.cu:152: reg:linear is now deprecated in favor of reg:squarederror.\n",
            "Finished 3 iteration\n",
            "[19:54:45] WARNING: /workspace/src/objective/regression_obj.cu:152: reg:linear is now deprecated in favor of reg:squarederror.\n",
            "Finished 4 iteration\n",
            "[19:55:48] WARNING: /workspace/src/objective/regression_obj.cu:152: reg:linear is now deprecated in favor of reg:squarederror.\n",
            "Finished 5 iteration\n",
            "[19:56:50] WARNING: /workspace/src/objective/regression_obj.cu:152: reg:linear is now deprecated in favor of reg:squarederror.\n",
            "Finished 6 iteration\n",
            "[19:57:55] WARNING: /workspace/src/objective/regression_obj.cu:152: reg:linear is now deprecated in favor of reg:squarederror.\n",
            "Finished 7 iteration\n",
            "[19:58:57] WARNING: /workspace/src/objective/regression_obj.cu:152: reg:linear is now deprecated in favor of reg:squarederror.\n",
            "Finished 8 iteration\n",
            "[20:00:00] WARNING: /workspace/src/objective/regression_obj.cu:152: reg:linear is now deprecated in favor of reg:squarederror.\n",
            "Finished 9 iteration\n",
            "[20:01:04] WARNING: /workspace/src/objective/regression_obj.cu:152: reg:linear is now deprecated in favor of reg:squarederror.\n",
            "Finished 10 iteration\n"
          ]
        }
      ],
      "source": [
        "iters = 10\n",
        "\n",
        "for i in range(1, iters + 1):\n",
        "  df_valid_X_dev, df_valid_X_test, df_valid_y_dev, df_valid_y_test = train_test_split(df_valid_X, df_valid_y, test_size= 0.2, random_state= i)\n",
        " \n",
        "  ####### ElasticNet with CV\n",
        "\n",
        "  param_grid = {\n",
        "              'alpha': [0.01],\n",
        "              'l1_ratio': [0.21842105263157896]\n",
        "              }\n",
        "\n",
        "\n",
        "  pipe_lr = make_pipeline(preprocess,\n",
        "                    GridSearchCV(ElasticNet(random_state=80, alpha=0.01, l1_ratio = 0.21842105263157896),\n",
        "                                 param_grid = param_grid , cv = 10)\n",
        "                    )\n",
        "  \n",
        "  pipe_fit_lr = pipe_lr.fit(df_valid_X_dev, df_valid_y_dev)\n",
        "  grid_search_results_lr = pipe_lr.named_steps[\"gridsearchcv\"]\n",
        "\n",
        "  lr_dev_r2.append(pipe_fit_lr.score(df_valid_X_dev, df_valid_y_dev))\n",
        "  lr_test_r2.append(pipe_fit_lr.score(df_valid_X_test, df_valid_y_test))\n",
        "\n",
        "  lr_dev_mape.append(mape(np.exp(pipe_fit_lr.predict(df_valid_X_dev)), np.exp(df_valid_y_dev)))\n",
        "  lr_test_mape.append(mape(np.exp(pipe_fit_lr.predict(df_valid_X_test)), np.exp(df_valid_y_test)))\n",
        "\n",
        "  ######## Decision tree with CV\n",
        "\n",
        "  param_grid = {\n",
        "              'max_depth': [8],\n",
        "              'max_features':['auto'],\n",
        "              \"ccp_alpha\": [0]\n",
        "  }\n",
        "  pipe_dt = make_pipeline(preprocess,\n",
        "                    GridSearchCV(DecisionTreeRegressor(random_state=80),\n",
        "                                param_grid = param_grid,\n",
        "                                return_train_score = True, cv = 10)\n",
        "                    )\n",
        "  pipe_fit_dt = pipe_dt.fit(df_valid_X_dev, df_valid_y_dev)\n",
        "  grid_search_results_dt = pipe_dt.named_steps[\"gridsearchcv\"]\n",
        "\n",
        "  dt_dev_r2.append(pipe_fit_dt.score(df_valid_X_dev, df_valid_y_dev))\n",
        "  dt_test_r2.append(pipe_fit_dt.score(df_valid_X_test, df_valid_y_test))\n",
        "\n",
        "  dt_dev_mape.append(mape(np.exp(pipe_fit_dt.predict(df_valid_X_dev)), np.exp(df_valid_y_dev)))\n",
        "  dt_test_mape.append(mape(np.exp(pipe_fit_dt.predict(df_valid_X_test)), np.exp(df_valid_y_test)))\n",
        "\n",
        "\n",
        "  ######## Random Forest tree with CV\n",
        "\n",
        "  param_grid = {'bootstrap': [True], \n",
        "              'max_features': ['auto'],\n",
        "              'n_estimators': [200],\n",
        "              'max_depth': [8]\n",
        "              }\n",
        "\n",
        "  pipe_rf = make_pipeline(preprocess,\n",
        "                    GridSearchCV(RandomForestRegressor(random_state=80, warm_start = True),\n",
        "                                     param_grid = param_grid\n",
        "                                     )\n",
        "                    )\n",
        "  pipe_fit_rf = pipe_rf.fit(df_valid_X_dev, df_valid_y_dev)\n",
        "  grid_search_results_rf = pipe_fit_rf.named_steps[\"gridsearchcv\"]\n",
        "\n",
        "\n",
        "  rf_dev_r2.append(pipe_fit_rf.score(df_valid_X_dev, df_valid_y_dev))\n",
        "  rf_test_r2.append(pipe_fit_rf.score(df_valid_X_test, df_valid_y_test))\n",
        "\n",
        "  rf_dev_mape.append(mape(np.exp(pipe_fit_rf.predict(df_valid_X_dev)), np.exp(df_valid_y_dev)))\n",
        "  rf_test_mape.append(mape(np.exp(pipe_fit_rf.predict(df_valid_X_test)), np.exp(df_valid_y_test)))\n",
        "\n",
        "\n",
        "  ######## gbm tree with CV\n",
        "\n",
        "  param_grid = {\n",
        "              'n_estimators': [200],\n",
        "              'max_depth': [7],\n",
        "              'learning_rate' : [.01]\n",
        "              }\n",
        "\n",
        "  pipe_gbm = make_pipeline(preprocess,\n",
        "                    GridSearchCV( GradientBoostingRegressor (random_state=80, warm_start = True),\n",
        "                                     param_grid = param_grid, n_jobs = -1, cv = 10\n",
        "                                     )\n",
        "                    )\n",
        "  \n",
        "  pipe_fit_gbm = pipe_gbm.fit(df_valid_X_dev, df_valid_y_dev)\n",
        "  rand_search_results_gbm = pipe_fit_gbm.named_steps[\"gridsearchcv\"]\n",
        "\n",
        "\n",
        "  gbm_dev_r2.append(pipe_fit_gbm.score(df_valid_X_dev, df_valid_y_dev))\n",
        "  gbm_test_r2.append(pipe_fit_gbm.score(df_valid_X_test, df_valid_y_test))\n",
        "\n",
        "  gbm_dev_mape.append(mape(np.exp(pipe_fit_gbm.predict(df_valid_X_dev)), np.exp(df_valid_y_dev)))\n",
        "  gbm_test_mape.append(mape(np.exp(pipe_fit_gbm.predict(df_valid_X_test)), np.exp(df_valid_y_test)))\n",
        "\n",
        "\n",
        "  ###### XGB\n",
        "  from xgboost import XGBRegressor\n",
        "  param_grid = {\n",
        "              'n_estimators': [300],\n",
        "              'max_depth': [8],\n",
        "              'learning_rate' : [.1]\n",
        "              }\n",
        "\n",
        "  pipe_xgb = make_pipeline(preprocess,\n",
        "                    GridSearchCV( XGBRegressor (random_state=80, warm_start = True),\n",
        "                                     param_grid = param_grid, cv = 10, n_jobs = -1\n",
        "                                     )\n",
        "                    )\n",
        "  \n",
        "  pipe_fit_xgb = pipe_xgb.fit(df_valid_X_dev, df_valid_y_dev)\n",
        "  rand_search_results_xgb = pipe_fit_xgb.named_steps[\"gridsearchcv\"]\n",
        "\n",
        "  xgb_dev_r2.append(pipe_xgb.score(df_valid_X_dev, df_valid_y_dev))\n",
        "  xgb_test_r2.append(pipe_xgb.score(df_valid_X_test, df_valid_y_test))\n",
        "\n",
        "  xgb_dev_mape.append(mape(np.exp(pipe_xgb.predict(df_valid_X_dev)), np.exp(df_valid_y_dev)))\n",
        "  xgb_test_mape.append(mape(np.exp(pipe_xgb.predict(df_valid_X_test)), np.exp(df_valid_y_test)))\n",
        "\n",
        "  print('Finished {} iteration'.format(i))\n",
        "\n",
        "\n"
      ]
    },
    {
      "cell_type": "code",
      "execution_count": 95,
      "metadata": {
        "id": "sscG_eeTBCXC",
        "colab": {
          "base_uri": "https://localhost:8080/"
        },
        "outputId": "f9e83bf7-5da8-4f4b-a387-692dcbc34454"
      },
      "outputs": [
        {
          "output_type": "stream",
          "name": "stdout",
          "text": [
            "Logistic Regression: R2 on Dev Dataset after 10 iterations is 0.7689584300672795 - \n",
            "Logistic Regression: R2 on Val Dataset after 10 iterations is 0.7679814172917143 - \n",
            "Logistic Regression: MAPE on Dev Dataset after 10 iterations is 0.2835520974064335 - \n",
            "Logistic Regression: MAPE on Val Dataset after 10 iterations is 0.28491519696312717 - \n"
          ]
        }
      ],
      "source": [
        "print('Logistic Regression: R2 on Dev Dataset after {} iterations is {} - '.format(iters,get_mean(lr_dev_r2)))\n",
        "print('Logistic Regression: R2 on Val Dataset after {} iterations is {} - '.format(iters,get_mean(lr_test_r2)))\n",
        "print('Logistic Regression: MAPE on Dev Dataset after {} iterations is {} - '.format(iters,get_mean(lr_dev_mape)))\n",
        "print('Logistic Regression: MAPE on Val Dataset after {} iterations is {} - '.format(iters,get_mean(lr_test_mape)))"
      ]
    },
    {
      "cell_type": "code",
      "execution_count": 96,
      "metadata": {
        "id": "jFha9FsIBCY6",
        "colab": {
          "base_uri": "https://localhost:8080/"
        },
        "outputId": "495e70b1-2f9b-483c-9763-e9a1587d54ec"
      },
      "outputs": [
        {
          "output_type": "stream",
          "name": "stdout",
          "text": [
            "Decision Tree: R2 on Dev Dataset after 10 iterations is 0.8587227246952788 - \n",
            "Decision Tree: R2 on Val Dataset after 10 iterations is 0.8243006468484897 - \n",
            "Decision Tree: MAPE on Dev Dataset after 10 iterations is 0.21110773953588158 - \n",
            "Decision Tree: MAPE on Val Dataset after 10 iterations is 0.23756785810167624 - \n"
          ]
        }
      ],
      "source": [
        "print('Decision Tree: R2 on Dev Dataset after {} iterations is {} - '.format(iters,get_mean(dt_dev_r2)))\n",
        "print('Decision Tree: R2 on Val Dataset after {} iterations is {} - '.format(iters,get_mean(dt_test_r2)))\n",
        "print('Decision Tree: MAPE on Dev Dataset after {} iterations is {} - '.format(iters,get_mean(dt_dev_mape)))\n",
        "print('Decision Tree: MAPE on Val Dataset after {} iterations is {} - '.format(iters,get_mean(dt_test_mape)))"
      ]
    },
    {
      "cell_type": "code",
      "execution_count": 97,
      "metadata": {
        "id": "PsmZgOLRBCaz",
        "colab": {
          "base_uri": "https://localhost:8080/"
        },
        "outputId": "145bf631-ff72-4dc3-8bc0-ce33998403ee"
      },
      "outputs": [
        {
          "output_type": "stream",
          "name": "stdout",
          "text": [
            "Random Forest: R2 on Dev Dataset after 10 iterations is 0.8821417489674447 - \n",
            "Random Forest: R2 on Val Dataset after 10 iterations is 0.8559061013377584 - \n",
            "Random Forest: MAPE on Dev Dataset after 10 iterations is 0.19422535526579437 - \n",
            "Random Forest: MAPE on Val Dataset after 10 iterations is 0.21664301436153655 - \n"
          ]
        }
      ],
      "source": [
        "print('Random Forest: R2 on Dev Dataset after {} iterations is {} - '.format(iters,get_mean(rf_dev_r2)))\n",
        "print('Random Forest: R2 on Val Dataset after {} iterations is {} - '.format(iters,get_mean(rf_test_r2)))\n",
        "print('Random Forest: MAPE on Dev Dataset after {} iterations is {} - '.format(iters,get_mean(rf_dev_mape)))\n",
        "print('Random Forest: MAPE on Val Dataset after {} iterations is {} - '.format(iters,get_mean(rf_test_mape)))"
      ]
    },
    {
      "cell_type": "code",
      "execution_count": 98,
      "metadata": {
        "id": "iXyjPRyNBCdC",
        "colab": {
          "base_uri": "https://localhost:8080/"
        },
        "outputId": "b2967af3-3696-4d82-f00a-4da7bf998dcd"
      },
      "outputs": [
        {
          "output_type": "stream",
          "name": "stdout",
          "text": [
            "Gradient Boosting: R2 on Dev Dataset after 10 iterations is 0.8865958319886307 - \n",
            "Gradient Boosting: R2 on Val Dataset after 10 iterations is 0.8590436463148963 - \n",
            "Gradient Boosting: MAPE on Dev Dataset after 10 iterations is 0.19861521576353425 - \n",
            "Gradient Boosting: MAPE on Val Dataset after 10 iterations is 0.2201267889647817 - \n"
          ]
        }
      ],
      "source": [
        "print('Gradient Boosting: R2 on Dev Dataset after {} iterations is {} - '.format(iters,get_mean(gbm_dev_r2)))\n",
        "print('Gradient Boosting: R2 on Val Dataset after {} iterations is {} - '.format(iters,get_mean(gbm_test_r2)))\n",
        "print('Gradient Boosting: MAPE on Dev Dataset after {} iterations is {} - '.format(iters,get_mean(gbm_dev_mape)))\n",
        "print('Gradient Boosting: MAPE on Val Dataset after {} iterations is {} - '.format(iters,get_mean(gbm_test_mape)))"
      ]
    },
    {
      "cell_type": "code",
      "execution_count": 99,
      "metadata": {
        "id": "dLBa-Y6QU1Yn",
        "colab": {
          "base_uri": "https://localhost:8080/"
        },
        "outputId": "0e2e6889-2d8c-40ab-bb01-e6199d5f31a4"
      },
      "outputs": [
        {
          "output_type": "stream",
          "name": "stdout",
          "text": [
            "XGBoost: R2 on Dev Dataset after 10 iterations is 0.9947775382488034 - \n",
            "XGBoost: R2 on Val Dataset after 10 iterations is 0.9326851537704645 - \n",
            "XGBoost: MAPE on Dev Dataset after 10 iterations is 0.03787941770804062 - \n",
            "XGBoost: MAPE on Val Dataset after 10 iterations is 0.13873142939375932 - \n"
          ]
        }
      ],
      "source": [
        "print('XGBoost: R2 on Dev Dataset after {} iterations is {} - '.format(iters,get_mean(xgb_dev_r2)))\n",
        "print('XGBoost: R2 on Val Dataset after {} iterations is {} - '.format(iters,get_mean(xgb_test_r2)))\n",
        "print('XGBoost: MAPE on Dev Dataset after {} iterations is {} - '.format(iters,get_mean(xgb_dev_mape)))\n",
        "print('XGBoost: MAPE on Val Dataset after {} iterations is {} - '.format(iters,get_mean(xgb_test_mape)))"
      ]
    },
    {
      "cell_type": "markdown",
      "metadata": {
        "id": "spvOOmjTR9KB"
      },
      "source": [
        "#### Checking ASC values"
      ]
    },
    {
      "cell_type": "code",
      "execution_count": 100,
      "metadata": {
        "id": "m-FCCNjsR_GS",
        "colab": {
          "base_uri": "https://localhost:8080/"
        },
        "outputId": "13898346-27a6-417f-a00a-981469803b7e"
      },
      "outputs": [
        {
          "output_type": "execute_result",
          "data": {
            "text/plain": [
              "(54183, 26)"
            ]
          },
          "metadata": {},
          "execution_count": 100
        }
      ],
      "source": [
        "df_complete = df[~df['priv_pay_mean'].isna()]\n",
        "df_complete = df_complete[df_complete.priv_pay_mean >0]\n",
        "df_complete['log_priv_pay_mean'] = np.log(df_complete['priv_pay_mean'])\n",
        "feat = all_features + ['log_priv_pay_mean']\n",
        "df_complete = df_complete[feat]\n",
        "df_complete.shape"
      ]
    },
    {
      "cell_type": "code",
      "execution_count": 101,
      "metadata": {
        "id": "vccIR6HBiMYP"
      },
      "outputs": [],
      "source": [
        "df_complete['population_estimate_2020'] = df_complete['population_estimate_2020'].fillna(df_complete['population_estimate_2020'].mean())\n",
        "df_complete['avg_income_2020'] = df_complete['avg_income_2020'].fillna(df_complete['avg_income_2020'].mean())\n",
        "df_complete['Life Expectancy'] = df_complete['Life Expectancy'].fillna(df_complete['Life Expectancy'].mean())"
      ]
    },
    {
      "cell_type": "code",
      "execution_count": 102,
      "metadata": {
        "id": "6VUqXkOaiMaK"
      },
      "outputs": [],
      "source": [
        "df_complete = df_complete[~df_complete['teaching_YES_median'].isnull()]"
      ]
    },
    {
      "cell_type": "code",
      "execution_count": 103,
      "metadata": {
        "id": "x49RcHFsl-Iw"
      },
      "outputs": [],
      "source": [
        "# df_complete['gbm_pred'] = pipe_fit_gbm.predict(df_complete[all_features])\n",
        "# df_complete['rf_pred'] = pipe_fit_rf.predict(df_complete)\n",
        "# df_complete['lr_pred'] = pipe_fit_lr.predict(df_complete)\n",
        "# df_complete['dt_pred'] = pipe_fit_dt.predict(df_complete)"
      ]
    },
    {
      "cell_type": "code",
      "execution_count": 104,
      "metadata": {
        "id": "-usPJlXjYDcm",
        "colab": {
          "base_uri": "https://localhost:8080/"
        },
        "outputId": "37fde0e5-5cf7-4b4a-aa53-d26497571e9d"
      },
      "outputs": [
        {
          "output_type": "execute_result",
          "data": {
            "text/plain": [
              "(53986, 25)"
            ]
          },
          "metadata": {},
          "execution_count": 104
        }
      ],
      "source": [
        "df_complete[all_features].shape"
      ]
    },
    {
      "cell_type": "code",
      "execution_count": 105,
      "metadata": {
        "id": "kexdKBpBYRX_",
        "colab": {
          "base_uri": "https://localhost:8080/"
        },
        "outputId": "cb58c4b1-1992-436f-e2dd-a360c9ff308d"
      },
      "outputs": [
        {
          "output_type": "execute_result",
          "data": {
            "text/plain": [
              "site_weight                                        False\n",
              "year                                               False\n",
              "priv_count                                         False\n",
              "ownership_FEDERAL_median                           False\n",
              "ownership_HOSPITAL DISTRICT OR AUTHORITY_median    False\n",
              "ownership_LOCAL_median                             False\n",
              "ownership_OTHER (SPECIFY)_median                   False\n",
              "ownership_PHYSICIAN OWNERSHIP_median               False\n",
              "ownership_PRIVATE (FOR PROFIT)_median              False\n",
              "ownership_PRIVATE (NOT FOR PROFIT)_median          False\n",
              "ownership_STATE_median                             False\n",
              "ownership_TRIBAL_median                            False\n",
              "urban_rural_URBAN_median                           False\n",
              "teaching_YES_median                                False\n",
              "hospital_count                                     False\n",
              "avg_income_2020                                    False\n",
              "population_estimate_2020                           False\n",
              "Life Expectancy                                    False\n",
              "harvesine_distance                                 False\n",
              "Covid_payment_median                               False\n",
              "beds_grp_median                                    False\n",
              "beds_grp_greater_500_median                        False\n",
              "site                                               False\n",
              "group                                              False\n",
              "msa                                                False\n",
              "dtype: bool"
            ]
          },
          "metadata": {},
          "execution_count": 105
        }
      ],
      "source": [
        "df_complete[all_features].isnull().any()"
      ]
    },
    {
      "cell_type": "code",
      "execution_count": 106,
      "metadata": {
        "id": "FRBX2lXiYRaS",
        "colab": {
          "base_uri": "https://localhost:8080/"
        },
        "outputId": "43762401-17c3-4c8d-84cc-2257043fcb2f"
      },
      "outputs": [
        {
          "output_type": "execute_result",
          "data": {
            "text/plain": [
              "Index(['site_weight', 'year', 'priv_count', 'ownership_FEDERAL_median',\n",
              "       'ownership_HOSPITAL DISTRICT OR AUTHORITY_median',\n",
              "       'ownership_LOCAL_median', 'ownership_OTHER (SPECIFY)_median',\n",
              "       'ownership_PHYSICIAN OWNERSHIP_median',\n",
              "       'ownership_PRIVATE (FOR PROFIT)_median',\n",
              "       'ownership_PRIVATE (NOT FOR PROFIT)_median', 'ownership_STATE_median',\n",
              "       'ownership_TRIBAL_median', 'urban_rural_URBAN_median',\n",
              "       'teaching_YES_median', 'hospital_count', 'avg_income_2020',\n",
              "       'population_estimate_2020', 'Life Expectancy', 'harvesine_distance',\n",
              "       'Covid_payment_median', 'beds_grp_median',\n",
              "       'beds_grp_greater_500_median', 'site', 'group', 'msa'],\n",
              "      dtype='object')"
            ]
          },
          "metadata": {},
          "execution_count": 106
        }
      ],
      "source": [
        "temp = df_complete[all_features]\n",
        "temp.columns"
      ]
    },
    {
      "cell_type": "code",
      "execution_count": 107,
      "metadata": {
        "id": "su9neWpwZZYN",
        "colab": {
          "base_uri": "https://localhost:8080/",
          "height": 399
        },
        "outputId": "30c3a954-3cf1-45ae-9c7d-95bf66d6bfaa"
      },
      "outputs": [
        {
          "output_type": "execute_result",
          "data": {
            "text/plain": [
              "        site_weight          year    priv_count  ownership_FEDERAL_median  \\\n",
              "count  53986.000000  53986.000000  53986.000000              53986.000000   \n",
              "mean       0.911810   2018.979069     17.073501                  0.001250   \n",
              "std        0.283573      0.817204     60.533742                  0.024972   \n",
              "min        0.000000   2018.000000      0.000000                  0.000000   \n",
              "25%        1.000000   2018.000000      1.000000                  0.000000   \n",
              "50%        1.000000   2019.000000      3.000000                  0.000000   \n",
              "75%        1.000000   2020.000000     10.000000                  0.000000   \n",
              "max        1.000000   2020.000000   2715.000000                  0.500000   \n",
              "\n",
              "       ownership_HOSPITAL DISTRICT OR AUTHORITY_median  \\\n",
              "count                                     53986.000000   \n",
              "mean                                          0.024627   \n",
              "std                                           0.142810   \n",
              "min                                           0.000000   \n",
              "25%                                           0.000000   \n",
              "50%                                           0.000000   \n",
              "75%                                           0.000000   \n",
              "max                                           1.000000   \n",
              "\n",
              "       ownership_LOCAL_median  ownership_OTHER (SPECIFY)_median  \\\n",
              "count            53986.000000                      53986.000000   \n",
              "mean                 0.012022                          0.031341   \n",
              "std                  0.101137                          0.152893   \n",
              "min                  0.000000                          0.000000   \n",
              "25%                  0.000000                          0.000000   \n",
              "50%                  0.000000                          0.000000   \n",
              "75%                  0.000000                          0.000000   \n",
              "max                  1.000000                          1.000000   \n",
              "\n",
              "       ownership_PHYSICIAN OWNERSHIP_median  \\\n",
              "count                          53986.000000   \n",
              "mean                               0.001167   \n",
              "std                                0.034141   \n",
              "min                                0.000000   \n",
              "25%                                0.000000   \n",
              "50%                                0.000000   \n",
              "75%                                0.000000   \n",
              "max                                1.000000   \n",
              "\n",
              "       ownership_PRIVATE (FOR PROFIT)_median  \\\n",
              "count                           53986.000000   \n",
              "mean                                0.125449   \n",
              "std                                 0.309273   \n",
              "min                                 0.000000   \n",
              "25%                                 0.000000   \n",
              "50%                                 0.000000   \n",
              "75%                                 0.000000   \n",
              "max                                 1.000000   \n",
              "\n",
              "       ownership_PRIVATE (NOT FOR PROFIT)_median  \n",
              "count                               53986.000000  \n",
              "mean                                    0.276377  \n",
              "std                                     0.421027  \n",
              "min                                     0.000000  \n",
              "25%                                     0.000000  \n",
              "50%                                     0.000000  \n",
              "75%                                     0.500000  \n",
              "max                                     1.000000  "
            ],
            "text/html": [
              "\n",
              "  <div id=\"df-f1f9a6a4-e8bc-4c9b-886f-6e03e6aac285\">\n",
              "    <div class=\"colab-df-container\">\n",
              "      <div>\n",
              "<style scoped>\n",
              "    .dataframe tbody tr th:only-of-type {\n",
              "        vertical-align: middle;\n",
              "    }\n",
              "\n",
              "    .dataframe tbody tr th {\n",
              "        vertical-align: top;\n",
              "    }\n",
              "\n",
              "    .dataframe thead th {\n",
              "        text-align: right;\n",
              "    }\n",
              "</style>\n",
              "<table border=\"1\" class=\"dataframe\">\n",
              "  <thead>\n",
              "    <tr style=\"text-align: right;\">\n",
              "      <th></th>\n",
              "      <th>site_weight</th>\n",
              "      <th>year</th>\n",
              "      <th>priv_count</th>\n",
              "      <th>ownership_FEDERAL_median</th>\n",
              "      <th>ownership_HOSPITAL DISTRICT OR AUTHORITY_median</th>\n",
              "      <th>ownership_LOCAL_median</th>\n",
              "      <th>ownership_OTHER (SPECIFY)_median</th>\n",
              "      <th>ownership_PHYSICIAN OWNERSHIP_median</th>\n",
              "      <th>ownership_PRIVATE (FOR PROFIT)_median</th>\n",
              "      <th>ownership_PRIVATE (NOT FOR PROFIT)_median</th>\n",
              "    </tr>\n",
              "  </thead>\n",
              "  <tbody>\n",
              "    <tr>\n",
              "      <th>count</th>\n",
              "      <td>53986.000000</td>\n",
              "      <td>53986.000000</td>\n",
              "      <td>53986.000000</td>\n",
              "      <td>53986.000000</td>\n",
              "      <td>53986.000000</td>\n",
              "      <td>53986.000000</td>\n",
              "      <td>53986.000000</td>\n",
              "      <td>53986.000000</td>\n",
              "      <td>53986.000000</td>\n",
              "      <td>53986.000000</td>\n",
              "    </tr>\n",
              "    <tr>\n",
              "      <th>mean</th>\n",
              "      <td>0.911810</td>\n",
              "      <td>2018.979069</td>\n",
              "      <td>17.073501</td>\n",
              "      <td>0.001250</td>\n",
              "      <td>0.024627</td>\n",
              "      <td>0.012022</td>\n",
              "      <td>0.031341</td>\n",
              "      <td>0.001167</td>\n",
              "      <td>0.125449</td>\n",
              "      <td>0.276377</td>\n",
              "    </tr>\n",
              "    <tr>\n",
              "      <th>std</th>\n",
              "      <td>0.283573</td>\n",
              "      <td>0.817204</td>\n",
              "      <td>60.533742</td>\n",
              "      <td>0.024972</td>\n",
              "      <td>0.142810</td>\n",
              "      <td>0.101137</td>\n",
              "      <td>0.152893</td>\n",
              "      <td>0.034141</td>\n",
              "      <td>0.309273</td>\n",
              "      <td>0.421027</td>\n",
              "    </tr>\n",
              "    <tr>\n",
              "      <th>min</th>\n",
              "      <td>0.000000</td>\n",
              "      <td>2018.000000</td>\n",
              "      <td>0.000000</td>\n",
              "      <td>0.000000</td>\n",
              "      <td>0.000000</td>\n",
              "      <td>0.000000</td>\n",
              "      <td>0.000000</td>\n",
              "      <td>0.000000</td>\n",
              "      <td>0.000000</td>\n",
              "      <td>0.000000</td>\n",
              "    </tr>\n",
              "    <tr>\n",
              "      <th>25%</th>\n",
              "      <td>1.000000</td>\n",
              "      <td>2018.000000</td>\n",
              "      <td>1.000000</td>\n",
              "      <td>0.000000</td>\n",
              "      <td>0.000000</td>\n",
              "      <td>0.000000</td>\n",
              "      <td>0.000000</td>\n",
              "      <td>0.000000</td>\n",
              "      <td>0.000000</td>\n",
              "      <td>0.000000</td>\n",
              "    </tr>\n",
              "    <tr>\n",
              "      <th>50%</th>\n",
              "      <td>1.000000</td>\n",
              "      <td>2019.000000</td>\n",
              "      <td>3.000000</td>\n",
              "      <td>0.000000</td>\n",
              "      <td>0.000000</td>\n",
              "      <td>0.000000</td>\n",
              "      <td>0.000000</td>\n",
              "      <td>0.000000</td>\n",
              "      <td>0.000000</td>\n",
              "      <td>0.000000</td>\n",
              "    </tr>\n",
              "    <tr>\n",
              "      <th>75%</th>\n",
              "      <td>1.000000</td>\n",
              "      <td>2020.000000</td>\n",
              "      <td>10.000000</td>\n",
              "      <td>0.000000</td>\n",
              "      <td>0.000000</td>\n",
              "      <td>0.000000</td>\n",
              "      <td>0.000000</td>\n",
              "      <td>0.000000</td>\n",
              "      <td>0.000000</td>\n",
              "      <td>0.500000</td>\n",
              "    </tr>\n",
              "    <tr>\n",
              "      <th>max</th>\n",
              "      <td>1.000000</td>\n",
              "      <td>2020.000000</td>\n",
              "      <td>2715.000000</td>\n",
              "      <td>0.500000</td>\n",
              "      <td>1.000000</td>\n",
              "      <td>1.000000</td>\n",
              "      <td>1.000000</td>\n",
              "      <td>1.000000</td>\n",
              "      <td>1.000000</td>\n",
              "      <td>1.000000</td>\n",
              "    </tr>\n",
              "  </tbody>\n",
              "</table>\n",
              "</div>\n",
              "      <button class=\"colab-df-convert\" onclick=\"convertToInteractive('df-f1f9a6a4-e8bc-4c9b-886f-6e03e6aac285')\"\n",
              "              title=\"Convert this dataframe to an interactive table.\"\n",
              "              style=\"display:none;\">\n",
              "        \n",
              "  <svg xmlns=\"http://www.w3.org/2000/svg\" height=\"24px\"viewBox=\"0 0 24 24\"\n",
              "       width=\"24px\">\n",
              "    <path d=\"M0 0h24v24H0V0z\" fill=\"none\"/>\n",
              "    <path d=\"M18.56 5.44l.94 2.06.94-2.06 2.06-.94-2.06-.94-.94-2.06-.94 2.06-2.06.94zm-11 1L8.5 8.5l.94-2.06 2.06-.94-2.06-.94L8.5 2.5l-.94 2.06-2.06.94zm10 10l.94 2.06.94-2.06 2.06-.94-2.06-.94-.94-2.06-.94 2.06-2.06.94z\"/><path d=\"M17.41 7.96l-1.37-1.37c-.4-.4-.92-.59-1.43-.59-.52 0-1.04.2-1.43.59L10.3 9.45l-7.72 7.72c-.78.78-.78 2.05 0 2.83L4 21.41c.39.39.9.59 1.41.59.51 0 1.02-.2 1.41-.59l7.78-7.78 2.81-2.81c.8-.78.8-2.07 0-2.86zM5.41 20L4 18.59l7.72-7.72 1.47 1.35L5.41 20z\"/>\n",
              "  </svg>\n",
              "      </button>\n",
              "      \n",
              "  <style>\n",
              "    .colab-df-container {\n",
              "      display:flex;\n",
              "      flex-wrap:wrap;\n",
              "      gap: 12px;\n",
              "    }\n",
              "\n",
              "    .colab-df-convert {\n",
              "      background-color: #E8F0FE;\n",
              "      border: none;\n",
              "      border-radius: 50%;\n",
              "      cursor: pointer;\n",
              "      display: none;\n",
              "      fill: #1967D2;\n",
              "      height: 32px;\n",
              "      padding: 0 0 0 0;\n",
              "      width: 32px;\n",
              "    }\n",
              "\n",
              "    .colab-df-convert:hover {\n",
              "      background-color: #E2EBFA;\n",
              "      box-shadow: 0px 1px 2px rgba(60, 64, 67, 0.3), 0px 1px 3px 1px rgba(60, 64, 67, 0.15);\n",
              "      fill: #174EA6;\n",
              "    }\n",
              "\n",
              "    [theme=dark] .colab-df-convert {\n",
              "      background-color: #3B4455;\n",
              "      fill: #D2E3FC;\n",
              "    }\n",
              "\n",
              "    [theme=dark] .colab-df-convert:hover {\n",
              "      background-color: #434B5C;\n",
              "      box-shadow: 0px 1px 3px 1px rgba(0, 0, 0, 0.15);\n",
              "      filter: drop-shadow(0px 1px 2px rgba(0, 0, 0, 0.3));\n",
              "      fill: #FFFFFF;\n",
              "    }\n",
              "  </style>\n",
              "\n",
              "      <script>\n",
              "        const buttonEl =\n",
              "          document.querySelector('#df-f1f9a6a4-e8bc-4c9b-886f-6e03e6aac285 button.colab-df-convert');\n",
              "        buttonEl.style.display =\n",
              "          google.colab.kernel.accessAllowed ? 'block' : 'none';\n",
              "\n",
              "        async function convertToInteractive(key) {\n",
              "          const element = document.querySelector('#df-f1f9a6a4-e8bc-4c9b-886f-6e03e6aac285');\n",
              "          const dataTable =\n",
              "            await google.colab.kernel.invokeFunction('convertToInteractive',\n",
              "                                                     [key], {});\n",
              "          if (!dataTable) return;\n",
              "\n",
              "          const docLinkHtml = 'Like what you see? Visit the ' +\n",
              "            '<a target=\"_blank\" href=https://colab.research.google.com/notebooks/data_table.ipynb>data table notebook</a>'\n",
              "            + ' to learn more about interactive tables.';\n",
              "          element.innerHTML = '';\n",
              "          dataTable['output_type'] = 'display_data';\n",
              "          await google.colab.output.renderOutput(dataTable, element);\n",
              "          const docLink = document.createElement('div');\n",
              "          docLink.innerHTML = docLinkHtml;\n",
              "          element.appendChild(docLink);\n",
              "        }\n",
              "      </script>\n",
              "    </div>\n",
              "  </div>\n",
              "  "
            ]
          },
          "metadata": {},
          "execution_count": 107
        }
      ],
      "source": [
        "temp[['site_weight', 'year', 'priv_count', 'ownership_FEDERAL_median',\n",
        "       'ownership_HOSPITAL DISTRICT OR AUTHORITY_median',\n",
        "       'ownership_LOCAL_median', 'ownership_OTHER (SPECIFY)_median',\n",
        "       'ownership_PHYSICIAN OWNERSHIP_median',\n",
        "       'ownership_PRIVATE (FOR PROFIT)_median',\n",
        "       'ownership_PRIVATE (NOT FOR PROFIT)_median']].describe()"
      ]
    },
    {
      "cell_type": "code",
      "execution_count": 108,
      "metadata": {
        "id": "b7xKxISHZkvh",
        "colab": {
          "base_uri": "https://localhost:8080/",
          "height": 382
        },
        "outputId": "0ecd6dc7-c2b7-4e97-c0c6-da43deabecb7"
      },
      "outputs": [
        {
          "output_type": "execute_result",
          "data": {
            "text/plain": [
              "       ownership_STATE_median  ownership_TRIBAL_median  \\\n",
              "count            53986.000000                  53986.0   \n",
              "mean                 0.007539                      0.0   \n",
              "std                  0.081027                      0.0   \n",
              "min                  0.000000                      0.0   \n",
              "25%                  0.000000                      0.0   \n",
              "50%                  0.000000                      0.0   \n",
              "75%                  0.000000                      0.0   \n",
              "max                  1.000000                      0.0   \n",
              "\n",
              "       urban_rural_URBAN_median  teaching_YES_median  hospital_count  \\\n",
              "count                   53986.0         53986.000000    53986.000000   \n",
              "mean                        1.0             0.167043       17.045012   \n",
              "std                         0.0             0.342833       25.492777   \n",
              "min                         1.0             0.000000        1.000000   \n",
              "25%                         1.0             0.000000        4.000000   \n",
              "50%                         1.0             0.000000        8.000000   \n",
              "75%                         1.0             0.000000       20.000000   \n",
              "max                         1.0             1.000000      204.000000   \n",
              "\n",
              "       avg_income_2020  population_estimate_2020  Life Expectancy  \\\n",
              "count     53986.000000              5.398600e+04     53986.000000   \n",
              "mean      50217.493147              7.353094e+05        78.044808   \n",
              "std        7830.854285              9.579826e+05         1.547016   \n",
              "min       31779.000000              5.603400e+04        74.813987   \n",
              "25%       45771.000000              1.829240e+05        76.765928   \n",
              "50%       50237.328424              4.234810e+05        78.165856   \n",
              "75%       53252.000000              7.357435e+05        79.088550   \n",
              "max      107779.000000              7.154478e+06        81.317314   \n",
              "\n",
              "       harvesine_distance  Covid_payment_median  beds_grp_median  \\\n",
              "count        53986.000000          5.398600e+04     53986.000000   \n",
              "mean         10072.080561          1.747261e+05       144.525433   \n",
              "std           1252.895070          1.299552e+06        82.688287   \n",
              "min           7484.368624          0.000000e+00        50.000000   \n",
              "25%           9157.870694          0.000000e+00        50.000000   \n",
              "50%           9688.557678          0.000000e+00       150.000000   \n",
              "75%          10654.626497          0.000000e+00       150.000000   \n",
              "max          16640.166130          1.825000e+07       500.000000   \n",
              "\n",
              "       beds_grp_greater_500_median           msa  \n",
              "count                 53986.000000  53986.000000  \n",
              "mean                      0.004297  29943.356648  \n",
              "std                       0.057260  11426.309989  \n",
              "min                       0.000000  10180.000000  \n",
              "25%                       0.000000  19740.000000  \n",
              "50%                       0.000000  29820.000000  \n",
              "75%                       0.000000  40140.000000  \n",
              "max                       1.000000  49740.000000  "
            ],
            "text/html": [
              "\n",
              "  <div id=\"df-535e6989-4fc8-4ff9-8047-68a81fee41ac\">\n",
              "    <div class=\"colab-df-container\">\n",
              "      <div>\n",
              "<style scoped>\n",
              "    .dataframe tbody tr th:only-of-type {\n",
              "        vertical-align: middle;\n",
              "    }\n",
              "\n",
              "    .dataframe tbody tr th {\n",
              "        vertical-align: top;\n",
              "    }\n",
              "\n",
              "    .dataframe thead th {\n",
              "        text-align: right;\n",
              "    }\n",
              "</style>\n",
              "<table border=\"1\" class=\"dataframe\">\n",
              "  <thead>\n",
              "    <tr style=\"text-align: right;\">\n",
              "      <th></th>\n",
              "      <th>ownership_STATE_median</th>\n",
              "      <th>ownership_TRIBAL_median</th>\n",
              "      <th>urban_rural_URBAN_median</th>\n",
              "      <th>teaching_YES_median</th>\n",
              "      <th>hospital_count</th>\n",
              "      <th>avg_income_2020</th>\n",
              "      <th>population_estimate_2020</th>\n",
              "      <th>Life Expectancy</th>\n",
              "      <th>harvesine_distance</th>\n",
              "      <th>Covid_payment_median</th>\n",
              "      <th>beds_grp_median</th>\n",
              "      <th>beds_grp_greater_500_median</th>\n",
              "      <th>msa</th>\n",
              "    </tr>\n",
              "  </thead>\n",
              "  <tbody>\n",
              "    <tr>\n",
              "      <th>count</th>\n",
              "      <td>53986.000000</td>\n",
              "      <td>53986.0</td>\n",
              "      <td>53986.0</td>\n",
              "      <td>53986.000000</td>\n",
              "      <td>53986.000000</td>\n",
              "      <td>53986.000000</td>\n",
              "      <td>5.398600e+04</td>\n",
              "      <td>53986.000000</td>\n",
              "      <td>53986.000000</td>\n",
              "      <td>5.398600e+04</td>\n",
              "      <td>53986.000000</td>\n",
              "      <td>53986.000000</td>\n",
              "      <td>53986.000000</td>\n",
              "    </tr>\n",
              "    <tr>\n",
              "      <th>mean</th>\n",
              "      <td>0.007539</td>\n",
              "      <td>0.0</td>\n",
              "      <td>1.0</td>\n",
              "      <td>0.167043</td>\n",
              "      <td>17.045012</td>\n",
              "      <td>50217.493147</td>\n",
              "      <td>7.353094e+05</td>\n",
              "      <td>78.044808</td>\n",
              "      <td>10072.080561</td>\n",
              "      <td>1.747261e+05</td>\n",
              "      <td>144.525433</td>\n",
              "      <td>0.004297</td>\n",
              "      <td>29943.356648</td>\n",
              "    </tr>\n",
              "    <tr>\n",
              "      <th>std</th>\n",
              "      <td>0.081027</td>\n",
              "      <td>0.0</td>\n",
              "      <td>0.0</td>\n",
              "      <td>0.342833</td>\n",
              "      <td>25.492777</td>\n",
              "      <td>7830.854285</td>\n",
              "      <td>9.579826e+05</td>\n",
              "      <td>1.547016</td>\n",
              "      <td>1252.895070</td>\n",
              "      <td>1.299552e+06</td>\n",
              "      <td>82.688287</td>\n",
              "      <td>0.057260</td>\n",
              "      <td>11426.309989</td>\n",
              "    </tr>\n",
              "    <tr>\n",
              "      <th>min</th>\n",
              "      <td>0.000000</td>\n",
              "      <td>0.0</td>\n",
              "      <td>1.0</td>\n",
              "      <td>0.000000</td>\n",
              "      <td>1.000000</td>\n",
              "      <td>31779.000000</td>\n",
              "      <td>5.603400e+04</td>\n",
              "      <td>74.813987</td>\n",
              "      <td>7484.368624</td>\n",
              "      <td>0.000000e+00</td>\n",
              "      <td>50.000000</td>\n",
              "      <td>0.000000</td>\n",
              "      <td>10180.000000</td>\n",
              "    </tr>\n",
              "    <tr>\n",
              "      <th>25%</th>\n",
              "      <td>0.000000</td>\n",
              "      <td>0.0</td>\n",
              "      <td>1.0</td>\n",
              "      <td>0.000000</td>\n",
              "      <td>4.000000</td>\n",
              "      <td>45771.000000</td>\n",
              "      <td>1.829240e+05</td>\n",
              "      <td>76.765928</td>\n",
              "      <td>9157.870694</td>\n",
              "      <td>0.000000e+00</td>\n",
              "      <td>50.000000</td>\n",
              "      <td>0.000000</td>\n",
              "      <td>19740.000000</td>\n",
              "    </tr>\n",
              "    <tr>\n",
              "      <th>50%</th>\n",
              "      <td>0.000000</td>\n",
              "      <td>0.0</td>\n",
              "      <td>1.0</td>\n",
              "      <td>0.000000</td>\n",
              "      <td>8.000000</td>\n",
              "      <td>50237.328424</td>\n",
              "      <td>4.234810e+05</td>\n",
              "      <td>78.165856</td>\n",
              "      <td>9688.557678</td>\n",
              "      <td>0.000000e+00</td>\n",
              "      <td>150.000000</td>\n",
              "      <td>0.000000</td>\n",
              "      <td>29820.000000</td>\n",
              "    </tr>\n",
              "    <tr>\n",
              "      <th>75%</th>\n",
              "      <td>0.000000</td>\n",
              "      <td>0.0</td>\n",
              "      <td>1.0</td>\n",
              "      <td>0.000000</td>\n",
              "      <td>20.000000</td>\n",
              "      <td>53252.000000</td>\n",
              "      <td>7.357435e+05</td>\n",
              "      <td>79.088550</td>\n",
              "      <td>10654.626497</td>\n",
              "      <td>0.000000e+00</td>\n",
              "      <td>150.000000</td>\n",
              "      <td>0.000000</td>\n",
              "      <td>40140.000000</td>\n",
              "    </tr>\n",
              "    <tr>\n",
              "      <th>max</th>\n",
              "      <td>1.000000</td>\n",
              "      <td>0.0</td>\n",
              "      <td>1.0</td>\n",
              "      <td>1.000000</td>\n",
              "      <td>204.000000</td>\n",
              "      <td>107779.000000</td>\n",
              "      <td>7.154478e+06</td>\n",
              "      <td>81.317314</td>\n",
              "      <td>16640.166130</td>\n",
              "      <td>1.825000e+07</td>\n",
              "      <td>500.000000</td>\n",
              "      <td>1.000000</td>\n",
              "      <td>49740.000000</td>\n",
              "    </tr>\n",
              "  </tbody>\n",
              "</table>\n",
              "</div>\n",
              "      <button class=\"colab-df-convert\" onclick=\"convertToInteractive('df-535e6989-4fc8-4ff9-8047-68a81fee41ac')\"\n",
              "              title=\"Convert this dataframe to an interactive table.\"\n",
              "              style=\"display:none;\">\n",
              "        \n",
              "  <svg xmlns=\"http://www.w3.org/2000/svg\" height=\"24px\"viewBox=\"0 0 24 24\"\n",
              "       width=\"24px\">\n",
              "    <path d=\"M0 0h24v24H0V0z\" fill=\"none\"/>\n",
              "    <path d=\"M18.56 5.44l.94 2.06.94-2.06 2.06-.94-2.06-.94-.94-2.06-.94 2.06-2.06.94zm-11 1L8.5 8.5l.94-2.06 2.06-.94-2.06-.94L8.5 2.5l-.94 2.06-2.06.94zm10 10l.94 2.06.94-2.06 2.06-.94-2.06-.94-.94-2.06-.94 2.06-2.06.94z\"/><path d=\"M17.41 7.96l-1.37-1.37c-.4-.4-.92-.59-1.43-.59-.52 0-1.04.2-1.43.59L10.3 9.45l-7.72 7.72c-.78.78-.78 2.05 0 2.83L4 21.41c.39.39.9.59 1.41.59.51 0 1.02-.2 1.41-.59l7.78-7.78 2.81-2.81c.8-.78.8-2.07 0-2.86zM5.41 20L4 18.59l7.72-7.72 1.47 1.35L5.41 20z\"/>\n",
              "  </svg>\n",
              "      </button>\n",
              "      \n",
              "  <style>\n",
              "    .colab-df-container {\n",
              "      display:flex;\n",
              "      flex-wrap:wrap;\n",
              "      gap: 12px;\n",
              "    }\n",
              "\n",
              "    .colab-df-convert {\n",
              "      background-color: #E8F0FE;\n",
              "      border: none;\n",
              "      border-radius: 50%;\n",
              "      cursor: pointer;\n",
              "      display: none;\n",
              "      fill: #1967D2;\n",
              "      height: 32px;\n",
              "      padding: 0 0 0 0;\n",
              "      width: 32px;\n",
              "    }\n",
              "\n",
              "    .colab-df-convert:hover {\n",
              "      background-color: #E2EBFA;\n",
              "      box-shadow: 0px 1px 2px rgba(60, 64, 67, 0.3), 0px 1px 3px 1px rgba(60, 64, 67, 0.15);\n",
              "      fill: #174EA6;\n",
              "    }\n",
              "\n",
              "    [theme=dark] .colab-df-convert {\n",
              "      background-color: #3B4455;\n",
              "      fill: #D2E3FC;\n",
              "    }\n",
              "\n",
              "    [theme=dark] .colab-df-convert:hover {\n",
              "      background-color: #434B5C;\n",
              "      box-shadow: 0px 1px 3px 1px rgba(0, 0, 0, 0.15);\n",
              "      filter: drop-shadow(0px 1px 2px rgba(0, 0, 0, 0.3));\n",
              "      fill: #FFFFFF;\n",
              "    }\n",
              "  </style>\n",
              "\n",
              "      <script>\n",
              "        const buttonEl =\n",
              "          document.querySelector('#df-535e6989-4fc8-4ff9-8047-68a81fee41ac button.colab-df-convert');\n",
              "        buttonEl.style.display =\n",
              "          google.colab.kernel.accessAllowed ? 'block' : 'none';\n",
              "\n",
              "        async function convertToInteractive(key) {\n",
              "          const element = document.querySelector('#df-535e6989-4fc8-4ff9-8047-68a81fee41ac');\n",
              "          const dataTable =\n",
              "            await google.colab.kernel.invokeFunction('convertToInteractive',\n",
              "                                                     [key], {});\n",
              "          if (!dataTable) return;\n",
              "\n",
              "          const docLinkHtml = 'Like what you see? Visit the ' +\n",
              "            '<a target=\"_blank\" href=https://colab.research.google.com/notebooks/data_table.ipynb>data table notebook</a>'\n",
              "            + ' to learn more about interactive tables.';\n",
              "          element.innerHTML = '';\n",
              "          dataTable['output_type'] = 'display_data';\n",
              "          await google.colab.output.renderOutput(dataTable, element);\n",
              "          const docLink = document.createElement('div');\n",
              "          docLink.innerHTML = docLinkHtml;\n",
              "          element.appendChild(docLink);\n",
              "        }\n",
              "      </script>\n",
              "    </div>\n",
              "  </div>\n",
              "  "
            ]
          },
          "metadata": {},
          "execution_count": 108
        }
      ],
      "source": [
        "temp[['ownership_STATE_median',\n",
        "       'ownership_TRIBAL_median', 'urban_rural_URBAN_median',\n",
        "       'teaching_YES_median', 'hospital_count', 'avg_income_2020',\n",
        "       'population_estimate_2020', 'Life Expectancy', 'harvesine_distance',\n",
        "       'Covid_payment_median', 'beds_grp_median',\n",
        "       'beds_grp_greater_500_median', 'site', 'group', 'msa']].describe()"
      ]
    },
    {
      "cell_type": "code",
      "execution_count": 109,
      "metadata": {
        "id": "pGD5p9_c36PS"
      },
      "outputs": [],
      "source": [
        "df_valid_out = df_valid.copy()\n",
        "\n",
        "df_valid_out['gbm_pred'] = pipe_fit_gbm.predict(df_valid_out[all_features])\n",
        "df_valid_out['rf_pred'] = pipe_fit_rf.predict(df_valid_out[all_features])\n",
        "df_valid_out['lr_pred'] = pipe_fit_lr.predict(df_valid_out[all_features])\n",
        "df_valid_out['dt_pred'] = pipe_fit_dt.predict(df_valid_out[all_features])\n",
        "df_valid_out['xgb_pred'] = pipe_fit_xgb.predict(df_valid_out[all_features])"
      ]
    },
    {
      "cell_type": "code",
      "execution_count": 110,
      "metadata": {
        "id": "5Kn3sGQ0aQhA",
        "colab": {
          "base_uri": "https://localhost:8080/"
        },
        "outputId": "2edeef98-56bd-43bb-b2c2-6be6e02a0132"
      },
      "outputs": [
        {
          "output_type": "execute_result",
          "data": {
            "text/plain": [
              "array(['breast reconstruction', 'mastectomy', 'navigation',\n",
              "       'ant_cerv_fusion', 'ant_tls_fusion', 'post_cerv_fusion',\n",
              "       'post_tls_fusion', 'rtc_slap_bank', 'tsa', 'clavicle fixation',\n",
              "       'proximal humerus', 'radius/ulna internal fixation', 'tha',\n",
              "       'hip_fracture_fixation', 'tka', 'prox_tibia_fixation', 'ankle_fix',\n",
              "       'bunionectomy', 'pnn', 'fess', 'septoplasty', 'bsp', 'thoracic',\n",
              "       'bariatric', 'colorect', 'lap appendectomy', 'hepat', 'hernia',\n",
              "       'hysterect', 'cardiac ablation',\n",
              "       'cardiac ablation_additional_discrete',\n",
              "       'cardiac ablation_linear_focal', 'cardiac_ablaton_ice',\n",
              "       'cardiac_ablaton_anesthesia', 'tpa', 'orthovisc_monovisc',\n",
              "       'robotic_assisted_surgery', 'pka', 'prostatectomy'], dtype=object)"
            ]
          },
          "metadata": {},
          "execution_count": 110
        }
      ],
      "source": [
        "df_valid.group.unique()"
      ]
    },
    {
      "cell_type": "code",
      "execution_count": 111,
      "metadata": {
        "id": "xi2Td1aKZ_s4"
      },
      "outputs": [],
      "source": [
        "def get_category_mape(df, var, pred, actual):\n",
        "\n",
        "  out = {}\n",
        "\n",
        "  for grp in df[var].unique():\n",
        "    temp = df[df[var] == grp]\n",
        "    out[grp] = mape(np.exp(temp[pred]), np.exp(temp[actual]))\n",
        "\n",
        "  return out"
      ]
    },
    {
      "cell_type": "code",
      "execution_count": 112,
      "metadata": {
        "id": "n_qm2euvby3K",
        "colab": {
          "base_uri": "https://localhost:8080/"
        },
        "outputId": "8d19abf1-8e3b-4b4a-8f87-252aac1133fa"
      },
      "outputs": [
        {
          "output_type": "execute_result",
          "data": {
            "text/plain": [
              "Index(['msa', 'year', 'site', 'group', 'priv_count', 'priv_pay_mean',\n",
              "       'priv_pay_median', 'priv_pay_iqr', 'mcare_pay_mean', 'mcare_pay_median',\n",
              "       ...\n",
              "       'harvesine_distance', 'site_weight', 'min_inpatient_pay',\n",
              "       'bc_priv_pay_mean', 'log_priv_pay_mean', 'gbm_pred', 'rf_pred',\n",
              "       'lr_pred', 'dt_pred', 'xgb_pred'],\n",
              "      dtype='object', length=114)"
            ]
          },
          "metadata": {},
          "execution_count": 112
        }
      ],
      "source": [
        "df_valid_out.columns\n"
      ]
    },
    {
      "cell_type": "markdown",
      "metadata": {
        "id": "3uO7XFbTdIba"
      },
      "source": []
    },
    {
      "cell_type": "code",
      "execution_count": 113,
      "metadata": {
        "id": "mRcVjjQibaeS",
        "colab": {
          "base_uri": "https://localhost:8080/"
        },
        "outputId": "8e388734-8c60-45b6-d229-5fd047fc8a3f"
      },
      "outputs": [
        {
          "output_type": "execute_result",
          "data": {
            "text/plain": [
              "{'breast reconstruction': 0.2047108541890894,\n",
              " 'mastectomy': 0.19877648582798907,\n",
              " 'navigation': 0.24232553342319543,\n",
              " 'ant_cerv_fusion': 0.22176871091678646,\n",
              " 'ant_tls_fusion': 0.23843216138982454,\n",
              " 'post_cerv_fusion': 0.24370684084903715,\n",
              " 'post_tls_fusion': 0.19273665355325792,\n",
              " 'rtc_slap_bank': 0.21500506695720745,\n",
              " 'tsa': 0.1318373165010158,\n",
              " 'clavicle fixation': 0.2028506840262141,\n",
              " 'proximal humerus': 0.16333939267405248,\n",
              " 'radius/ulna internal fixation': 0.1593979968707169,\n",
              " 'tha': 0.13087447900135035,\n",
              " 'hip_fracture_fixation': 0.10334651729286239,\n",
              " 'tka': 0.14774400381309427,\n",
              " 'prox_tibia_fixation': 0.21779655929777333,\n",
              " 'ankle_fix': 0.2213686410592303,\n",
              " 'bunionectomy': 0.26164124202492184,\n",
              " 'pnn': 0.24314579182751858,\n",
              " 'fess': 0.2279764634365732,\n",
              " 'septoplasty': 0.22754003697969885,\n",
              " 'bsp': 0.3525889587760377,\n",
              " 'thoracic': 0.13643771718361472,\n",
              " 'bariatric': 0.14863510115730313,\n",
              " 'colorect': 0.21128280163548052,\n",
              " 'lap appendectomy': 0.2136958197920691,\n",
              " 'hepat': 0.23024709706888727,\n",
              " 'hernia': 0.3016546152694841,\n",
              " 'hysterect': 0.1884806167957543,\n",
              " 'cardiac ablation': 0.16990731490888084,\n",
              " 'cardiac ablation_additional_discrete': 0.14544372216092913,\n",
              " 'cardiac ablation_linear_focal': 0.13295211007866162,\n",
              " 'cardiac_ablaton_ice': 0.18383603999303677,\n",
              " 'cardiac_ablaton_anesthesia': 0.17558830970215333,\n",
              " 'tpa': 0.14406363239201025,\n",
              " 'orthovisc_monovisc': 0.6181354594302577,\n",
              " 'robotic_assisted_surgery': 0.2372634700193141,\n",
              " 'pka': 0.15493185411962945,\n",
              " 'prostatectomy': 0.1250863575168892}"
            ]
          },
          "metadata": {},
          "execution_count": 113
        }
      ],
      "source": [
        "get_category_mape(df_valid_out, 'group', 'gbm_pred','log_priv_pay_mean' )"
      ]
    },
    {
      "cell_type": "code",
      "execution_count": 114,
      "metadata": {
        "id": "CkLRDYtlcCl1",
        "colab": {
          "base_uri": "https://localhost:8080/"
        },
        "outputId": "399579fc-6727-4e78-9451-19c992329dc6"
      },
      "outputs": [
        {
          "output_type": "execute_result",
          "data": {
            "text/plain": [
              "{'breast reconstruction': 0.06709633598944839,\n",
              " 'mastectomy': 0.07040279306293865,\n",
              " 'navigation': 0.07042288745683786,\n",
              " 'ant_cerv_fusion': 0.07619213512466176,\n",
              " 'ant_tls_fusion': 0.024770086856738923,\n",
              " 'post_cerv_fusion': 0.05766013016462525,\n",
              " 'post_tls_fusion': 0.043057467903943256,\n",
              " 'rtc_slap_bank': 0.0514743271851641,\n",
              " 'tsa': 0.06171573835480928,\n",
              " 'clavicle fixation': 0.06106779095367247,\n",
              " 'proximal humerus': 0.06788175482459453,\n",
              " 'radius/ulna internal fixation': 0.058127794224091776,\n",
              " 'tha': 0.04358678304966562,\n",
              " 'hip_fracture_fixation': 0.04085228579041495,\n",
              " 'tka': 0.04404202130619782,\n",
              " 'prox_tibia_fixation': 0.11909560794224887,\n",
              " 'ankle_fix': 0.07751657919492065,\n",
              " 'bunionectomy': 0.07491000071995323,\n",
              " 'pnn': 0.4075764446732564,\n",
              " 'fess': 0.05980571855787381,\n",
              " 'septoplasty': 0.06242085305822828,\n",
              " 'bsp': 0.19496343955573847,\n",
              " 'thoracic': 0.04189379394917294,\n",
              " 'bariatric': 0.051771260550040867,\n",
              " 'colorect': 0.07330390929129431,\n",
              " 'lap appendectomy': 0.0494308193934268,\n",
              " 'hepat': 0.1317373876751444,\n",
              " 'hernia': 0.05531225560027758,\n",
              " 'hysterect': 0.049224162361711066,\n",
              " 'cardiac ablation': 0.0447006814224395,\n",
              " 'cardiac ablation_additional_discrete': 0.06000016344674817,\n",
              " 'cardiac ablation_linear_focal': 0.02892198310319466,\n",
              " 'cardiac_ablaton_ice': 0.04926399826690789,\n",
              " 'cardiac_ablaton_anesthesia': 0.04235397006312746,\n",
              " 'tpa': 0.05670760264372632,\n",
              " 'orthovisc_monovisc': 0.08865336944860727,\n",
              " 'robotic_assisted_surgery': 0.07138400780253246,\n",
              " 'pka': 0.03418936749290488,\n",
              " 'prostatectomy': 0.05123266709733114}"
            ]
          },
          "metadata": {},
          "execution_count": 114
        }
      ],
      "source": [
        "get_category_mape(df_valid_out, 'group', 'xgb_pred','log_priv_pay_mean' )"
      ]
    },
    {
      "cell_type": "code",
      "execution_count": 114,
      "metadata": {
        "id": "zLaHkoWmGUMb"
      },
      "outputs": [],
      "source": []
    }
  ],
  "metadata": {
    "colab": {
      "collapsed_sections": [],
      "provenance": []
    },
    "gpuClass": "standard",
    "kernelspec": {
      "display_name": "Python 3",
      "name": "python3"
    },
    "language_info": {
      "name": "python"
    }
  },
  "nbformat": 4,
  "nbformat_minor": 0
}